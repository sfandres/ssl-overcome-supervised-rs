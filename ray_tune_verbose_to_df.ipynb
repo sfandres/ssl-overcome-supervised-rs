{
 "cells": [
  {
   "cell_type": "markdown",
   "id": "0016595e-bbb5-4dc9-98e7-1f8f03e70d76",
   "metadata": {},
   "source": [
    "# Hyperparameters tuning: from Ray Tune verbose to csv"
   ]
  },
  {
   "cell_type": "code",
   "execution_count": null,
   "id": "3e79c3ab-2212-48fa-99e6-13b14c655492",
   "metadata": {},
   "outputs": [],
   "source": [
    "import pandas as pd\n",
    "import os"
   ]
  },
  {
   "cell_type": "markdown",
   "id": "e32e1394-5d7b-40be-9c33-d43fbfaf00a0",
   "metadata": {},
   "source": [
    "## Load custom excel file "
   ]
  },
  {
   "cell_type": "code",
   "execution_count": null,
   "id": "683ba0fc-b9c0-41cf-95d8-9bf7c466fd68",
   "metadata": {},
   "outputs": [],
   "source": [
    "# Specify the path to your Excel file.\n",
    "excel_file_path = '~/Downloads/Ray_Tune_MoCov2.xlsx'"
   ]
  },
  {
   "cell_type": "code",
   "execution_count": null,
   "id": "24a3023f-3b59-45db-9a63-6657290dabce",
   "metadata": {},
   "outputs": [],
   "source": [
    "# Get model name.\n",
    "model_name = excel_file_path.replace('.', '_').split('_')[-2]\n",
    "print(model_name)\n",
    "\n",
    "# Read the Excel file.\n",
    "df = pd.read_excel(excel_file_path)\n",
    "\n",
    "# Show.\n",
    "df"
   ]
  },
  {
   "cell_type": "markdown",
   "id": "b65d29bf-e33a-4212-aa37-13958596406b",
   "metadata": {},
   "source": [
    "## Cast loss as numeric value (float) and sort"
   ]
  },
  {
   "cell_type": "code",
   "execution_count": null,
   "id": "dbe94895-18c3-40e9-b328-ed060ab3625b",
   "metadata": {},
   "outputs": [],
   "source": [
    "# Extract the numeric values from the \"loss\" column\n",
    "df['loss'] = df['loss'].str.strip('tensor(').str.rstrip(')')\n",
    "\n",
    "# Convert the \"loss\" column to float\n",
    "df['loss'] = df['loss'].astype(float)\n",
    "df['weight_decay'] = df['weight_decay'].astype(float)\n",
    "\n",
    "# Sort dataframe by lowest loss.\n",
    "df = df.sort_values(by=['loss'], ascending=True)\n",
    "\n",
    "df"
   ]
  },
  {
   "cell_type": "markdown",
   "id": "659dfd4a-e61c-4c6b-91c2-cd118597ea2d",
   "metadata": {},
   "source": [
    "## Write the results to a csv file"
   ]
  },
  {
   "cell_type": "code",
   "execution_count": null,
   "id": "bf9764eb-7da0-4bb7-bd95-da37890d1430",
   "metadata": {},
   "outputs": [],
   "source": [
    "# Create the name of the file.\n",
    "filename = f'ray_tune_resnet18_{model_name}.csv'\n",
    "\n",
    "# Write the results to a CSV file.\n",
    "df.to_csv(os.path.join('~/Downloads/', filename), index=False)"
   ]
  },
  {
   "cell_type": "code",
   "execution_count": null,
   "id": "b0b13ffc-a687-4181-910b-d6bca37523a6",
   "metadata": {},
   "outputs": [],
   "source": []
  }
 ],
 "metadata": {
  "kernelspec": {
   "display_name": "lulc2-conda",
   "language": "python",
   "name": "lulc2-conda"
  },
  "language_info": {
   "codemirror_mode": {
    "name": "ipython",
    "version": 3
   },
   "file_extension": ".py",
   "mimetype": "text/x-python",
   "name": "python",
   "nbconvert_exporter": "python",
   "pygments_lexer": "ipython3",
   "version": "3.10.10"
  }
 },
 "nbformat": 4,
 "nbformat_minor": 5
}
