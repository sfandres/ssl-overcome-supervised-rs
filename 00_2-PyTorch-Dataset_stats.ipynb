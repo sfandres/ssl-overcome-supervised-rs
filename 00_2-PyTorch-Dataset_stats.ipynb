{
 "cells": [
  {
   "cell_type": "markdown",
   "id": "1fdfe9a2-c9bd-4888-8328-957001cd2d3d",
   "metadata": {},
   "source": [
    "**DATASET HANDLING**"
   ]
  },
  {
   "cell_type": "code",
   "execution_count": null,
   "id": "1190f7cd-02a9-4b8e-8b35-f27fffee6fe0",
   "metadata": {},
   "outputs": [],
   "source": [
    "%load_ext pycodestyle_magic"
   ]
  },
  {
   "cell_type": "code",
   "execution_count": null,
   "id": "d51a0ac0-39cf-4d54-8a6e-93215e337037",
   "metadata": {},
   "outputs": [],
   "source": [
    "%pycodestyle_on"
   ]
  },
  {
   "cell_type": "markdown",
   "id": "5ff0cfd2-d886-4359-bc50-79d5e25297d1",
   "metadata": {},
   "source": [
    "***"
   ]
  },
  {
   "cell_type": "markdown",
   "id": "2de6edb0-d5dc-4168-a31a-bdb56be4ab5e",
   "metadata": {},
   "source": [
    "***"
   ]
  },
  {
   "cell_type": "markdown",
   "id": "25072781-af02-4f95-b232-2f83ae72b0a5",
   "metadata": {},
   "source": [
    "# Dataset stats"
   ]
  },
  {
   "cell_type": "markdown",
   "id": "9bb9dbab-94e5-4549-87ab-6725a3b8d1fe",
   "metadata": {},
   "source": [
    "I use this code to check the resulting number of samples per class after splitting the target dataset."
   ]
  },
  {
   "cell_type": "markdown",
   "id": "53d08339-c54e-4622-8920-635314295344",
   "metadata": {},
   "source": [
    "## Modules"
   ]
  },
  {
   "cell_type": "code",
   "execution_count": null,
   "id": "4379417e-0911-4747-b3e9-6bb897531bf4",
   "metadata": {},
   "outputs": [],
   "source": [
    "import torchvision\n",
    "import numpy as np\n",
    "import pandas as pd"
   ]
  },
  {
   "cell_type": "markdown",
   "id": "fc2d88e1-ae09-499d-a20b-1724268cc26b",
   "metadata": {},
   "source": [
    "## Analysis"
   ]
  },
  {
   "cell_type": "code",
   "execution_count": null,
   "id": "1de7c911-200d-4f8c-b62f-65255f04c53e",
   "metadata": {},
   "outputs": [],
   "source": [
    "# Target dataset.\n",
    "initial_dir_dataset = ('datasets/0_Raw/'\n",
    "                       'Sentinel2GlobalLULC_full_raw/'\n",
    "                       'Sentinel2LULC_JPEG/')\n",
    "\n",
    "# Loading the three datasets.\n",
    "data = torchvision.datasets.ImageFolder(initial_dir_dataset)\n",
    "\n",
    "# Get classes and number of samples per class.\n",
    "class_names = data.classes\n",
    "samples_per_class = np.unique(data.targets, return_counts=True)[1]\n",
    "\n",
    "# Building the dataframe.\n",
    "df = pd.DataFrame(class_names, columns=['Class'])\n",
    "df.set_index('Class', drop=True, inplace=True)\n",
    "df['100%_samples'] = samples_per_class\n",
    "df['E1-T-95%'] = (df['100%_samples']*0.95).astype(int)\n",
    "df['E1-V-1.75%'] = (df['100%_samples']*0.175).astype(int)\n",
    "df['E1-T-3.25%'] = (df['100%_samples']*0.325).astype(int)\n",
    "df"
   ]
  },
  {
   "cell_type": "markdown",
   "id": "980098f6-8d45-4873-bd68-fc9c1dee3ed3",
   "metadata": {},
   "source": [
    "***"
   ]
  },
  {
   "cell_type": "markdown",
   "id": "ca21427c-8634-4b89-ac05-b0f02d0476c1",
   "metadata": {},
   "source": [
    "***"
   ]
  }
 ],
 "metadata": {
  "kernelspec": {
   "display_name": "lulc-venv",
   "language": "python",
   "name": "lulc-venv"
  },
  "language_info": {
   "codemirror_mode": {
    "name": "ipython",
    "version": 3
   },
   "file_extension": ".py",
   "mimetype": "text/x-python",
   "name": "python",
   "nbconvert_exporter": "python",
   "pygments_lexer": "ipython3",
   "version": "3.8.10"
  }
 },
 "nbformat": 4,
 "nbformat_minor": 5
}
