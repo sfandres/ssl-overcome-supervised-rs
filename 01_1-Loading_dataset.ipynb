{
 "cells": [
  {
   "cell_type": "code",
   "execution_count": null,
   "id": "ad1a93aa-ba15-44bb-87de-26c11991bfce",
   "metadata": {},
   "outputs": [],
   "source": [
    "from PIL import Image\n",
    "import os\n",
    "import numpy as np"
   ]
  },
  {
   "cell_type": "code",
   "execution_count": null,
   "id": "f95fdddd-8def-4a56-9d5f-23e52129dda9",
   "metadata": {},
   "outputs": [],
   "source": [
    "source_path = 'Sentinel2GlobalLULC/Sentinel2LULC_JPEG/01_BarrenLands___jpeg/' \n",
    "image = Image.open(source_path + \"1_BarrenLands___100.0__1_0.1_(+43.5345146251,-113.3788872915)_US_Idaho_Butte-County_Arco.jpg\")\n",
    "# image.show()"
   ]
  },
  {
   "cell_type": "code",
   "execution_count": null,
   "id": "d240edc3-14dd-488e-990a-adbb342e364f",
   "metadata": {},
   "outputs": [],
   "source": [
    "source_path = 'Sentinel2GlobalLULC/Sentinel2LULC_JPEG/'"
   ]
  },
  {
   "cell_type": "code",
   "execution_count": null,
   "id": "a9beda21-351a-451f-a36f-72d2fe2957fb",
   "metadata": {},
   "outputs": [],
   "source": [
    "img_data_array = []\n",
    "img_class_array = []\n",
    "IMG_HEIGHT = 224\n",
    "IMG_WIDTH = 224\n",
    "\n",
    "classes = sorted(os.listdir(source_path))\n",
    "\n",
    "# Iterating over the classes.\n",
    "for folder in classes[:2]:\n",
    "\n",
    "    # Iterating over the images.\n",
    "    for file in os.listdir(os.path.join(source_path, folder)):\n",
    "\n",
    "        # Creating image path.        \n",
    "        image_path = os.path.join(source_path, folder, file)\n",
    "\n",
    "        # Img to array.\n",
    "        image = np.array(Image.open(image_path))\n",
    "\n",
    "        # Resize.\n",
    "        # image = np.resize(image, (IMG_HEIGHT, IMG_WIDTH, 3))\n",
    "\n",
    "        # Cast to float.\n",
    "        image = image.astype('float32')\n",
    "\n",
    "        # Normalization (0-1).\n",
    "        image /= 255\n",
    "\n",
    "        # Filling the arrays.\n",
    "        img_data_array.append(image)\n",
    "        curr_class = int(folder[:2])\n",
    "        img_class_array.append(curr_class)"
   ]
  },
  {
   "cell_type": "code",
   "execution_count": null,
   "id": "fade81a3-7fbb-4ac6-85d8-034d3cccd1f2",
   "metadata": {},
   "outputs": [],
   "source": []
  }
 ],
 "metadata": {
  "kernelspec": {
   "display_name": "lulc-venv",
   "language": "python",
   "name": "lulc-venv"
  },
  "language_info": {
   "codemirror_mode": {
    "name": "ipython",
    "version": 3
   },
   "file_extension": ".py",
   "mimetype": "text/x-python",
   "name": "python",
   "nbconvert_exporter": "python",
   "pygments_lexer": "ipython3",
   "version": "3.8.10"
  }
 },
 "nbformat": 4,
 "nbformat_minor": 5
}
