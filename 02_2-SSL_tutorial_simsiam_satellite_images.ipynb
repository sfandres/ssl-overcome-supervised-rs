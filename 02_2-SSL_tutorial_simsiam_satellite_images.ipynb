{
 "cells": [
  {
   "cell_type": "markdown",
   "id": "f9abf340-0060-4bcd-a880-0f983a5243ab",
   "metadata": {},
   "source": [
    "**Tutorial 4: Train SimSiam on Satellite Images**"
   ]
  },
  {
   "cell_type": "markdown",
   "id": "23f232a1-0565-439c-8041-0f04e1c054cf",
   "metadata": {},
   "source": [
    "https://docs.lightly.ai/tutorials/package/tutorial_simsiam_esa.html"
   ]
  },
  {
   "cell_type": "markdown",
   "id": "8d4e3c2e-243b-4ad8-acc0-f2e70631cc2a",
   "metadata": {},
   "source": [
    "***"
   ]
  },
  {
   "cell_type": "markdown",
   "id": "d4bc7df3-9770-40e3-89e6-e8e6128835d1",
   "metadata": {},
   "source": [
    "***"
   ]
  }
 ],
 "metadata": {
  "kernelspec": {
   "display_name": "lulc-venv",
   "language": "python",
   "name": "lulc-venv"
  },
  "language_info": {
   "codemirror_mode": {
    "name": "ipython",
    "version": 3
   },
   "file_extension": ".py",
   "mimetype": "text/x-python",
   "name": "python",
   "nbconvert_exporter": "python",
   "pygments_lexer": "ipython3",
   "version": "3.8.10"
  }
 },
 "nbformat": 4,
 "nbformat_minor": 5
}
