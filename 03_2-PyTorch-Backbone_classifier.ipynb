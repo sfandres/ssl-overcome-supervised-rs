{
 "cells": [
  {
   "cell_type": "markdown",
   "id": "293858ae-5611-498e-afd6-acddd993850f",
   "metadata": {},
   "source": [
    "**USING RESNET18 WITH AND WITHOUT PRETRAINED WEIGHTS**"
   ]
  },
  {
   "cell_type": "markdown",
   "id": "90375b5c-0b66-445d-9260-f68b8bf991df",
   "metadata": {},
   "source": [
    "**LOADING THE SSL MODEL AND TRAINING A CLASSIFIER ON TOP OF IT**"
   ]
  },
  {
   "cell_type": "markdown",
   "id": "21e9469c-2666-4529-9eaf-1a1925b6eef0",
   "metadata": {},
   "source": [
    "Reference 1: https://pytorch.org/tutorials/beginner/introyt/trainingyt.html"
   ]
  },
  {
   "cell_type": "markdown",
   "id": "26195bb6-2965-4abd-b858-161c062294b6",
   "metadata": {},
   "source": [
    "Reference 2: https://pytorch.org/tutorials/beginner/transfer_learning_tutorial.html"
   ]
  },
  {
   "cell_type": "code",
   "execution_count": 1,
   "id": "a0b7dd78-3b06-441e-9cb8-4ca54a7b955c",
   "metadata": {},
   "outputs": [],
   "source": [
    "%load_ext pycodestyle_magic"
   ]
  },
  {
   "cell_type": "code",
   "execution_count": 2,
   "id": "46d06a82-af2e-4dc0-a873-1a2a225e284c",
   "metadata": {},
   "outputs": [],
   "source": [
    "%pycodestyle_on"
   ]
  },
  {
   "cell_type": "code",
   "execution_count": 3,
   "id": "f718a851-e231-49d4-a6a6-d88e72c46d26",
   "metadata": {},
   "outputs": [],
   "source": [
    "# Reproducibility.\n",
    "SEED = 42"
   ]
  },
  {
   "cell_type": "markdown",
   "id": "24803b53-5c6f-4603-9e46-74b468dc6a4b",
   "metadata": {},
   "source": [
    "***"
   ]
  },
  {
   "cell_type": "markdown",
   "id": "3123cba7-2168-4887-bf98-a65fa199db70",
   "metadata": {},
   "source": [
    "***"
   ]
  },
  {
   "cell_type": "markdown",
   "id": "b3d3b8f7-6c4c-47ec-a517-76e02872c1a6",
   "metadata": {},
   "source": [
    "# Imports"
   ]
  },
  {
   "cell_type": "markdown",
   "id": "c6c4791a-9d48-4508-8338-79dabc7c1754",
   "metadata": {},
   "source": [
    "## Libraries and modules"
   ]
  },
  {
   "cell_type": "code",
   "execution_count": 4,
   "id": "017c251f-635b-4c62-a485-7a7783aed523",
   "metadata": {},
   "outputs": [],
   "source": [
    "import os\n",
    "\n",
    "import torch\n",
    "import torchvision\n",
    "\n",
    "from torchinfo import summary\n",
    "\n",
    "import lightly\n",
    "from lightly.models.modules.heads import SimSiamPredictionHead\n",
    "from lightly.models.modules.heads import SimSiamProjectionHead\n",
    "\n",
    "import matplotlib.pyplot as plt\n",
    "import numpy as np\n",
    "import math\n",
    "import random\n",
    "\n",
    "# Training checks.\n",
    "import time\n",
    "\n",
    "# Showing images in the notebook.\n",
    "from IPython.display import Image\n",
    "from IPython.core.display import HTML\n",
    "\n",
    "# PyTorch TensorBoard support\n",
    "from torch.utils.tensorboard import SummaryWriter\n",
    "from datetime import datetime"
   ]
  },
  {
   "cell_type": "markdown",
   "id": "b80aa854-ce45-46ef-806a-18a1fac093f7",
   "metadata": {},
   "source": [
    "## Settings"
   ]
  },
  {
   "cell_type": "code",
   "execution_count": 5,
   "id": "87bf93d6-efdf-429b-8521-41c0a35f4838",
   "metadata": {},
   "outputs": [],
   "source": [
    "# Hyperparamenters.\n",
    "input_size = 224  # old_input_size = 256\n",
    "batch_size = 32   # old_batch_size = 128\n",
    "num_workers = 8\n",
    "epochs = 1\n",
    "\n",
    "# Dimension of the embeddings.\n",
    "num_ftrs = 512\n",
    "\n",
    "# Dimension of the output of the prediction and projection heads.\n",
    "out_dim = proj_hidden_dim = 512\n",
    "\n",
    "# The prediction head uses a bottleneck architecture.\n",
    "pred_hidden_dim = 128"
   ]
  },
  {
   "cell_type": "markdown",
   "id": "977f3f16-a19f-48f2-beab-cb5c97159106",
   "metadata": {},
   "source": [
    "## Reproducibility"
   ]
  },
  {
   "cell_type": "code",
   "execution_count": 6,
   "id": "0d55f4a9-b9a2-40da-a96e-cf95c22eea8b",
   "metadata": {},
   "outputs": [],
   "source": [
    "# Seed torch and numpy.\n",
    "os.environ['PYTHONHASHSEED'] = str(SEED)\n",
    "torch.manual_seed(SEED)\n",
    "np.random.seed(SEED)\n",
    "random.seed(SEED)\n",
    "\n",
    "# Enable CUDNN deterministic mode.\n",
    "torch.backends.cudnn.deterministic = True\n",
    "torch.backends.cudnn.benchmark = False\n",
    "\n",
    "# Issues a warning if it is not met.\n",
    "torch.use_deterministic_algorithms(True)"
   ]
  },
  {
   "cell_type": "code",
   "execution_count": 7,
   "id": "4440ad27-f875-4730-8c3a-c583a34a817a",
   "metadata": {},
   "outputs": [
    {
     "data": {
      "text/plain": [
       "<torch._C.Generator at 0x7f96ff786850>"
      ]
     },
     "execution_count": 7,
     "metadata": {},
     "output_type": "execute_result"
    }
   ],
   "source": [
    "# For dataloaders.\n",
    "def seed_worker(worker_id):\n",
    "    worker_seed = torch.initial_seed() % 2**32\n",
    "    np.random.seed(worker_seed)\n",
    "    random.seed(worker_seed)\n",
    "\n",
    "\n",
    "g = torch.Generator()\n",
    "g.manual_seed(SEED)"
   ]
  },
  {
   "cell_type": "code",
   "execution_count": 8,
   "id": "1964f0c0-fdc2-42cb-879e-8fb4c1053e3d",
   "metadata": {},
   "outputs": [],
   "source": [
    "# Enable deterministic behavior using external GPU.\n",
    "# %env CUBLAS_WORKSPACE_CONFIG=:4096:8\n",
    "# %env CUBLAS_WORKSPACE_CONFIG=:16:8\n",
    "os.environ['CUBLAS_WORKSPACE_CONFIG'] = ':16:8'"
   ]
  },
  {
   "cell_type": "markdown",
   "id": "89d940bd-cf06-40e7-aedd-65ff1f9980d7",
   "metadata": {},
   "source": [
    "***"
   ]
  },
  {
   "cell_type": "markdown",
   "id": "89bcd19d-b8ff-423a-a2de-5ed81895d678",
   "metadata": {},
   "source": [
    "***"
   ]
  },
  {
   "cell_type": "markdown",
   "id": "bce58376-03c3-4e2d-be6d-8e5d50072143",
   "metadata": {},
   "source": [
    "# Loading dataset"
   ]
  },
  {
   "cell_type": "code",
   "execution_count": 9,
   "id": "b96744e7-0259-40bf-93aa-619e333de2a8",
   "metadata": {},
   "outputs": [],
   "source": [
    "data_dir_target = 'datasets/Sentinel2GlobalLULC_full_ratio_seed=' + str(SEED)"
   ]
  },
  {
   "cell_type": "markdown",
   "id": "4022454b-8858-4b93-98b7-742b14ffbe51",
   "metadata": {},
   "source": [
    "## Custom tranforms (w/o normalization)"
   ]
  },
  {
   "cell_type": "markdown",
   "id": "d9816d93-e2ce-4842-8707-aa3956045aa0",
   "metadata": {},
   "source": [
    "Define the augmentations for self-supervised learning."
   ]
  },
  {
   "cell_type": "code",
   "execution_count": 10,
   "id": "58793b73-fe2c-406b-b1d0-5bca993956f9",
   "metadata": {},
   "outputs": [],
   "source": [
    "# Data augmentations for the train dataset.\n",
    "train_transform = torchvision.transforms.Compose([\n",
    "    torchvision.transforms.Resize((input_size, input_size)),\n",
    "    torchvision.transforms.RandomResizedCrop(size=input_size,\n",
    "                                             scale=(0.2, 1.0)),\n",
    "    torchvision.transforms.RandomHorizontalFlip(p=0.5),\n",
    "    torchvision.transforms.RandomVerticalFlip(p=0.5),\n",
    "    torchvision.transforms.GaussianBlur(21),\n",
    "    torchvision.transforms.ToTensor(),\n",
    "])\n",
    "\n",
    "# Data augmentations for the val and test datasets.\n",
    "test_transform = torchvision.transforms.Compose([\n",
    "    torchvision.transforms.Resize((input_size, input_size)),\n",
    "    torchvision.transforms.ToTensor(),\n",
    "])"
   ]
  },
  {
   "cell_type": "markdown",
   "id": "7ac31fc9-ef1b-49ff-bce1-6b913422346d",
   "metadata": {},
   "source": [
    "## ImageFolder"
   ]
  },
  {
   "cell_type": "code",
   "execution_count": 11,
   "id": "55b48ae6-b974-41a3-99b0-4fccdd6a62fc",
   "metadata": {},
   "outputs": [],
   "source": [
    "# Loading the three datasets.\n",
    "train_data = torchvision.datasets.ImageFolder(data_dir_target + '/train/',\n",
    "                                              transform=train_transform)\n",
    "\n",
    "val_data = torchvision.datasets.ImageFolder(data_dir_target + '/val/',\n",
    "                                            transform=test_transform)\n",
    "\n",
    "test_data = torchvision.datasets.ImageFolder(data_dir_target + '/test/',\n",
    "                                             transform=test_transform)"
   ]
  },
  {
   "cell_type": "code",
   "execution_count": 12,
   "id": "8c3518a1-2aeb-4e8d-bfde-7c30f4df195a",
   "metadata": {},
   "outputs": [],
   "source": [
    "# Get classes and number.\n",
    "classes = train_data.classes\n",
    "num_classes = len(classes)\n",
    "# print(classes)"
   ]
  },
  {
   "cell_type": "markdown",
   "id": "660ba5f0-e15f-47c3-b614-bf44c75c67e3",
   "metadata": {},
   "source": [
    "## PyTorch dataloaders"
   ]
  },
  {
   "cell_type": "code",
   "execution_count": 13,
   "id": "95a77009-440f-45af-8bd1-feaa61adef9d",
   "metadata": {},
   "outputs": [],
   "source": [
    "# Dataloader for training.\n",
    "dataloader_train = torch.utils.data.DataLoader(\n",
    "    train_data,\n",
    "    batch_size=batch_size,\n",
    "    shuffle=True,\n",
    "    drop_last=True,\n",
    "    num_workers=num_workers,\n",
    "    worker_init_fn=seed_worker,\n",
    "    generator=g\n",
    ")\n",
    "\n",
    "# Dataloader for validating.\n",
    "dataloader_val = torch.utils.data.DataLoader(\n",
    "    val_data,\n",
    "    batch_size=batch_size,\n",
    "    shuffle=False,\n",
    "    drop_last=True,\n",
    "    num_workers=num_workers,\n",
    "    worker_init_fn=seed_worker,\n",
    "    generator=g\n",
    ")\n",
    "\n",
    "# Dataloader for embedding.\n",
    "dataloader_test = torch.utils.data.DataLoader(\n",
    "    test_data,\n",
    "    batch_size=batch_size,\n",
    "    shuffle=False,\n",
    "    drop_last=False,\n",
    "    num_workers=num_workers,\n",
    "    worker_init_fn=seed_worker,\n",
    "    generator=g\n",
    ")"
   ]
  },
  {
   "cell_type": "markdown",
   "id": "edeaaff0-6d50-4888-85cd-63de0902668d",
   "metadata": {},
   "source": [
    "## Check the balance and size of the dataset"
   ]
  },
  {
   "cell_type": "code",
   "execution_count": 14,
   "id": "d1aa664a-1c20-4aef-876a-327fdaee8c8e",
   "metadata": {},
   "outputs": [
    {
     "name": "stdout",
     "output_type": "stream",
     "text": [
      "(array([ 0,  1,  2,  3,  4,  5,  6,  7,  8,  9, 10, 11, 12, 13, 14, 15, 16,\n",
      "       17, 18, 19, 20, 21, 22, 23, 24, 25, 26, 27, 28]), array([9800, 3259, 6208, 9800, 8355, 3105,  943, 9800, 7306, 4466, 2015,\n",
      "        396,  880, 9800, 2739, 2710, 9793,  291,  340, 2943, 9800, 9800,\n",
      "       9800, 1402,  589,  714,  247,  289, 8813]))\n"
     ]
    }
   ],
   "source": [
    "# Check samples per class in train dataset.\n",
    "print(np.unique(train_data.targets, return_counts=True))"
   ]
  },
  {
   "cell_type": "code",
   "execution_count": 15,
   "id": "259c5f14-2cc4-4867-9bcf-a053e94d082c",
   "metadata": {},
   "outputs": [
    {
     "name": "stdout",
     "output_type": "stream",
     "text": [
      "(array([ 0,  1,  2,  3,  4,  5,  6,  7,  8,  9, 10, 11, 12, 13, 14, 15, 16,\n",
      "       17, 18, 19, 20, 21, 22, 23, 24, 25, 26, 27, 28]), array([2800,  932, 1775, 2800, 2389,  889,  271, 2800, 2089, 1276,  577,\n",
      "        115,  253, 2800,  784,  775, 2799,   84,   99,  842, 2800, 2800,\n",
      "       2800,  402,  169,  204,   71,   83, 2518]))\n"
     ]
    }
   ],
   "source": [
    "# Check samples per class in test dataset.\n",
    "print(np.unique(test_data.targets, return_counts=True))"
   ]
  },
  {
   "cell_type": "code",
   "execution_count": 16,
   "id": "81896199-fd6d-4e19-8be0-c1389ca70a99",
   "metadata": {},
   "outputs": [
    {
     "name": "stdout",
     "output_type": "stream",
     "text": [
      "136403\n",
      "19478\n",
      "38996\n"
     ]
    }
   ],
   "source": [
    "# Check the size of each dataset.\n",
    "print(len(train_data.targets))\n",
    "print(len(val_data.targets))\n",
    "print(len(test_data.targets))"
   ]
  },
  {
   "cell_type": "markdown",
   "id": "6bc00d03-ff40-4c82-8982-27aff5d9927f",
   "metadata": {},
   "source": [
    "## See some samples (pytorch dataset)"
   ]
  },
  {
   "cell_type": "code",
   "execution_count": 17,
   "id": "69e34469-dddd-42fa-ba43-6f5da105f6f2",
   "metadata": {},
   "outputs": [
    {
     "name": "stdout",
     "output_type": "stream",
     "text": [
      "Feature batch shape: torch.Size([32, 3, 224, 224])\n",
      "Labels batch shape: torch.Size([32])\n"
     ]
    },
    {
     "data": {
      "image/png": "[encoded data removed]",
      "text/plain": [
       "<Figure size 432x288 with 1 Axes>"
      ]
     },
     "metadata": {
      "needs_background": "light"
     },
     "output_type": "display_data"
    },
    {
     "name": "stdout",
     "output_type": "stream",
     "text": [
      "Label: 11_ForestsDeDeNe_jpeg\n"
     ]
    }
   ],
   "source": [
    "# Display image and label.\n",
    "train_features, train_labels = next(iter(dataloader_train))\n",
    "print(f\"Feature batch shape: {train_features.size()}\")\n",
    "print(f\"Labels batch shape: {train_labels.size()}\")\n",
    "img = train_features[0].squeeze()\n",
    "label = train_labels[0]\n",
    "plt.imshow(torch.permute(img, (1, 2, 0)), cmap=\"gray\")\n",
    "plt.show()\n",
    "print(f\"Label: {classes[label]}\")"
   ]
  },
  {
   "cell_type": "markdown",
   "id": "06196e35-2417-40f2-9bad-f197103911de",
   "metadata": {},
   "source": [
    "***"
   ]
  },
  {
   "cell_type": "markdown",
   "id": "18762958-4bb5-4a9e-a642-e5cecbc0f8f1",
   "metadata": {},
   "source": [
    "***"
   ]
  },
  {
   "cell_type": "markdown",
   "id": "2ce24b86-e4e5-442a-876a-782db427e0c3",
   "metadata": {},
   "source": [
    "# ResNet18 from scrath"
   ]
  },
  {
   "cell_type": "code",
   "execution_count": 18,
   "id": "8b373932-506b-45a0-9301-d182e038d965",
   "metadata": {},
   "outputs": [],
   "source": [
    "# Model: resnet with random weights.\n",
    "model = torchvision.models.resnet18(weights=None)\n",
    "\n",
    "# Loss function: cross-entropy loss.\n",
    "loss_fn = torch.nn.CrossEntropyLoss()\n",
    "\n",
    "# Optimizers: specified in the torch.optim package\n",
    "optimizer = torch.optim.Adam(model.parameters(),\n",
    "                             lr=0.001)"
   ]
  },
  {
   "cell_type": "markdown",
   "id": "42ee9848-8c21-489d-8adc-2fc0e0bff9b0",
   "metadata": {},
   "source": [
    "## The training loop (needs changes to run on GPU)"
   ]
  },
  {
   "cell_type": "code",
   "execution_count": 19,
   "id": "8e5c5be3-aa5e-4fa2-a44e-9c80d62d6935",
   "metadata": {},
   "outputs": [],
   "source": [
    "def train_one_epoch(epoch_index, tb_writer):\n",
    "    running_loss = 0.\n",
    "    last_loss = 0.\n",
    "\n",
    "    # Here, we use enumerate(dataloader_train) instead of\n",
    "    # iter(dataloader_train) so that we can track the batch\n",
    "    # index and do some intra-epoch reporting.\n",
    "    for i, data in enumerate(dataloader_train):\n",
    "\n",
    "        # Every data instance is an input + label pair.\n",
    "        inputs, labels = data\n",
    "\n",
    "        # Zero your gradients for every batch!\n",
    "        optimizer.zero_grad()\n",
    "\n",
    "        # Make predictions for this batch.\n",
    "        outputs = model(inputs)\n",
    "\n",
    "        # Compute the loss and its gradients.\n",
    "        loss = loss_fn(outputs, labels)\n",
    "        loss.backward()\n",
    "\n",
    "        # Adjust learning weights.\n",
    "        optimizer.step()\n",
    "\n",
    "        # Gather data and report.\n",
    "        running_loss += loss.item()\n",
    "        if i % 1000 == 999:\n",
    "            last_loss = running_loss / 1000  # Loss per batch.\n",
    "            print('  batch {} loss: {}'.format(i + 1, last_loss))\n",
    "            tb_x = epoch_index * len(dataloader_train) + i + 1\n",
    "            tb_writer.add_scalar('Loss/train', last_loss, tb_x)\n",
    "            running_loss = 0.\n",
    "\n",
    "    return last_loss"
   ]
  },
  {
   "cell_type": "code",
   "execution_count": null,
   "id": "13347edc-f4a4-4313-8db6-948c80cdff09",
   "metadata": {},
   "outputs": [
    {
     "name": "stdout",
     "output_type": "stream",
     "text": [
      "EPOCH 1:\n",
      "  batch 1000 loss: 1.2995288791656494\n",
      "  batch 2000 loss: 0.9084885991215705\n",
      "  batch 3000 loss: 0.7578749933838844\n",
      "  batch 4000 loss: 0.672772308319807\n"
     ]
    }
   ],
   "source": [
    "# Initializing in a separate cell so we can\n",
    "# easily add more epochs to the same run.\n",
    "timestamp = datetime.now().strftime('%Y%m%d_%H%M%S')\n",
    "writer = SummaryWriter('runs/fashion_trainer_{}'.format(timestamp))\n",
    "epoch_number = 0\n",
    "\n",
    "EPOCHS = 1\n",
    "\n",
    "best_vloss = 1_000_000.\n",
    "\n",
    "for epoch in range(EPOCHS):\n",
    "    print('EPOCH {}:'.format(epoch_number + 1))\n",
    "\n",
    "    # Make sure gradient tracking is on, and do a pass over the data.\n",
    "    model.train(True)\n",
    "    avg_loss = train_one_epoch(epoch_number, writer)\n",
    "\n",
    "    # We don't need gradients on to do reporting.\n",
    "    model.train(False)\n",
    "\n",
    "    running_vloss = 0.0\n",
    "    for i, vdata in enumerate(dataloader_val):\n",
    "        vinputs, vlabels = vdata\n",
    "        voutputs = model(vinputs)\n",
    "        vloss = loss_fn(voutputs, vlabels)\n",
    "        running_vloss += vloss\n",
    "\n",
    "    avg_vloss = running_vloss / (i + 1)\n",
    "    print('LOSS train {} valid {}'.format(avg_loss, avg_vloss))\n",
    "\n",
    "    # Log the running loss averaged per batch\n",
    "    # for both training and validation.\n",
    "    writer.add_scalars('Training vs. Validation Loss',\n",
    "                    { 'Training' : avg_loss, 'Validation' : avg_vloss },\n",
    "                    epoch_number + 1)\n",
    "    writer.flush()\n",
    "\n",
    "    # Track best performance, and save the model's state.\n",
    "    if avg_vloss < best_vloss:\n",
    "        best_vloss = avg_vloss\n",
    "        model_path = 'model_{}_{}'.format(timestamp, epoch_number)\n",
    "        torch.save(model.state_dict(), model_path)\n",
    "\n",
    "    epoch_number += 1"
   ]
  },
  {
   "cell_type": "code",
   "execution_count": null,
   "id": "9bcf1694-a22c-4500-abd0-a9b005071bd3",
   "metadata": {},
   "outputs": [],
   "source": [
    "%tensorboard --logdir=runs"
   ]
  },
  {
   "cell_type": "code",
   "execution_count": null,
   "id": "c23cab70-b808-4c52-ba32-e94d32143b7f",
   "metadata": {},
   "outputs": [],
   "source": []
  },
  {
   "cell_type": "markdown",
   "id": "b6d101e8-426c-408d-a5fc-345d08a4434d",
   "metadata": {},
   "source": [
    "***"
   ]
  },
  {
   "cell_type": "markdown",
   "id": "36bba927-e499-45b7-9d32-bd5e83b8d257",
   "metadata": {},
   "source": [
    "***"
   ]
  },
  {
   "cell_type": "markdown",
   "id": "53a486bc-8b38-451a-9424-477585524559",
   "metadata": {},
   "source": [
    "***"
   ]
  },
  {
   "cell_type": "markdown",
   "id": "df1f373b-af92-4595-8676-46728d926f92",
   "metadata": {},
   "source": [
    "***"
   ]
  },
  {
   "cell_type": "markdown",
   "id": "b4eca1e9-6cc7-4cdc-881a-1551111223fa",
   "metadata": {},
   "source": [
    "***"
   ]
  },
  {
   "cell_type": "markdown",
   "id": "33cac558-c4a4-489a-9036-1a3e1a01dcfe",
   "metadata": {},
   "source": [
    "***"
   ]
  },
  {
   "cell_type": "markdown",
   "id": "788ad0aa-d143-42dd-96f9-63c9cf6ad81f",
   "metadata": {},
   "source": [
    "***"
   ]
  },
  {
   "cell_type": "markdown",
   "id": "08b11e4a-d913-4508-80ad-b7d45eb0a66e",
   "metadata": {},
   "source": [
    "***"
   ]
  },
  {
   "cell_type": "markdown",
   "id": "3094e101-bd6d-46b0-85ee-ea4f54b73c8d",
   "metadata": {},
   "source": [
    "***"
   ]
  },
  {
   "cell_type": "markdown",
   "id": "c6141892-5b73-4968-98e2-61837b6a244f",
   "metadata": {},
   "source": [
    "***"
   ]
  },
  {
   "cell_type": "markdown",
   "id": "5b574714-7ea8-4883-961b-1d3ce2357de3",
   "metadata": {},
   "source": [
    "# Imports"
   ]
  },
  {
   "cell_type": "code",
   "execution_count": 1,
   "id": "7a1262a1-84e2-4377-944b-46eb82304281",
   "metadata": {},
   "outputs": [
    {
     "name": "stderr",
     "output_type": "stream",
     "text": [
      "/home/sfandres/Documents/Git/lulc/lulc-venv/lib/python3.8/site-packages/tqdm/auto.py:22: TqdmWarning: IProgress not found. Please update jupyter and ipywidgets. See https://ipywidgets.readthedocs.io/en/stable/user_install.html\n",
      "  from .autonotebook import tqdm as notebook_tqdm\n"
     ]
    }
   ],
   "source": [
    "import torch\n",
    "import torchvision\n",
    "from torchinfo import summary\n",
    "\n",
    "import lightly\n",
    "from lightly.models.modules.heads import SimSiamPredictionHead,SimSiamProjectionHead\n",
    "\n",
    "import matplotlib.pyplot as plt\n",
    "import numpy as np\n",
    "import math\n",
    "import random"
   ]
  },
  {
   "cell_type": "code",
   "execution_count": 2,
   "id": "634f660d-1844-490c-a4df-2bef52ddb1f4",
   "metadata": {},
   "outputs": [
    {
     "data": {
      "text/plain": [
       "<matplotlib.pyplot._IonContext at 0x7f981dc48460>"
      ]
     },
     "execution_count": 2,
     "metadata": {},
     "output_type": "execute_result"
    }
   ],
   "source": [
    "import torch\n",
    "import torch.nn as nn\n",
    "import torch.optim as optim\n",
    "from torch.optim import lr_scheduler\n",
    "import torch.backends.cudnn as cudnn\n",
    "import numpy as np\n",
    "import torchvision\n",
    "from torchvision import datasets, models, transforms\n",
    "import matplotlib.pyplot as plt\n",
    "import time\n",
    "import os\n",
    "import copy\n",
    "\n",
    "cudnn.benchmark = True\n",
    "plt.ion()   # interactive mode"
   ]
  },
  {
   "cell_type": "code",
   "execution_count": 3,
   "id": "aec6f345-15d8-4fd2-8f11-a3149e9d7ef6",
   "metadata": {},
   "outputs": [],
   "source": [
    "# Hyperparamenters.\n",
    "input_size = 224  # input_size = 256\n",
    "batch_size = 32   # batch_size = 128\n",
    "num_workers = 8\n",
    "epochs = 5\n",
    "\n",
    "# Seed torch and numpy.\n",
    "seed = 1\n",
    "torch.manual_seed(seed)\n",
    "np.random.seed(seed)\n",
    "random.seed(seed)"
   ]
  },
  {
   "cell_type": "markdown",
   "id": "26be3b23-92b4-44b8-b22c-50d1174ec17e",
   "metadata": {},
   "source": [
    "***"
   ]
  },
  {
   "cell_type": "markdown",
   "id": "46d7d453-00f5-4527-9ae2-15a40a90611a",
   "metadata": {},
   "source": [
    "***"
   ]
  },
  {
   "cell_type": "markdown",
   "id": "32c9124d-5700-4c98-9043-a334f2021684",
   "metadata": {},
   "source": [
    "# Loading dataset"
   ]
  },
  {
   "cell_type": "code",
   "execution_count": 4,
   "id": "fb521dda-f0fe-4df0-8ba8-51d7956e5c6a",
   "metadata": {},
   "outputs": [],
   "source": [
    "data_dir = 'datasets/Sentinel2GlobalLULC_ratio'"
   ]
  },
  {
   "cell_type": "markdown",
   "id": "26bad482-37e6-476e-aa61-df9d4b9a1b3c",
   "metadata": {},
   "source": [
    "## Custom tranforms"
   ]
  },
  {
   "cell_type": "code",
   "execution_count": 5,
   "id": "d8f76676-60af-41f1-b7a2-98f2a172ba62",
   "metadata": {},
   "outputs": [],
   "source": [
    "# Define the augmentations for self-supervised learning.\n",
    "train_transform = torchvision.transforms.Compose([\n",
    "    torchvision.transforms.Resize((input_size, input_size)),\n",
    "    torchvision.transforms.RandomResizedCrop(size=input_size, scale=(0.2, 1.0)),\n",
    "    torchvision.transforms.RandomHorizontalFlip(p=0.5),\n",
    "    torchvision.transforms.RandomVerticalFlip(p=0.5),\n",
    "    torchvision.transforms.GaussianBlur(21),\n",
    "    torchvision.transforms.ToTensor(),\n",
    "])\n",
    "\n",
    "test_transform = torchvision.transforms.Compose([\n",
    "    torchvision.transforms.Resize((input_size, input_size)),\n",
    "    torchvision.transforms.ToTensor(),\n",
    "])"
   ]
  },
  {
   "cell_type": "markdown",
   "id": "7cf02f61-451a-4423-b6d9-12b95d431f8a",
   "metadata": {},
   "source": [
    "## ImageFolder"
   ]
  },
  {
   "cell_type": "code",
   "execution_count": 6,
   "id": "f8c81591-9d0e-44ec-b34d-f037711f9c70",
   "metadata": {},
   "outputs": [],
   "source": [
    "# Loading both datasets.\n",
    "train_data = torchvision.datasets.ImageFolder(data_dir + '/train/')\n",
    "\n",
    "val_data = torchvision.datasets.ImageFolder(data_dir + '/val/')\n",
    "\n",
    "test_data = torchvision.datasets.ImageFolder(data_dir + '/test/')\n",
    "\n",
    "train_data_lightly = lightly.data.LightlyDataset.from_torch_dataset(train_data)\n",
    "test_data_lightly = lightly.data.LightlyDataset.from_torch_dataset(test_data,\n",
    "                                                                   transform=test_transform)"
   ]
  },
  {
   "cell_type": "markdown",
   "id": "45964e25-9395-4672-9974-97c70c5b1737",
   "metadata": {},
   "source": [
    "## Dataloaders"
   ]
  },
  {
   "cell_type": "code",
   "execution_count": 7,
   "id": "bf23f035-f351-4a26-b4ff-bef4972709c2",
   "metadata": {},
   "outputs": [],
   "source": [
    "# Define the augmentations for self-supervised learning.\n",
    "collate_fn_train = lightly.data.collate.BaseCollateFunction(train_transform)\n",
    "\n",
    "# Create a dataloader for training and embedding.\n",
    "dataloader_train_simsiam = torch.utils.data.DataLoader(\n",
    "    train_data_lightly,\n",
    "    batch_size=batch_size,\n",
    "    shuffle=True,\n",
    "    collate_fn=collate_fn_train,\n",
    "    drop_last=True,\n",
    "    num_workers=num_workers\n",
    ")\n",
    "\n",
    "dataloader_test = torch.utils.data.DataLoader(\n",
    "    test_data_lightly,\n",
    "    batch_size=batch_size,\n",
    "    shuffle=False,\n",
    "    drop_last=False,\n",
    "    num_workers=num_workers\n",
    ")"
   ]
  },
  {
   "cell_type": "markdown",
   "id": "1e47e699-b80c-4b9c-bbdc-73dcbab10030",
   "metadata": {},
   "source": [
    "## Check balance and size"
   ]
  },
  {
   "cell_type": "code",
   "execution_count": 8,
   "id": "39b914ac-a148-4c0d-979e-a6ec9f834140",
   "metadata": {},
   "outputs": [
    {
     "name": "stdout",
     "output_type": "stream",
     "text": [
      "(array([ 0,  1,  2,  3,  4,  5,  6,  7,  8,  9, 10, 11, 12, 13, 14, 15, 16,\n",
      "       17, 18, 19, 20, 21, 22, 23, 24, 25, 26, 27, 28]), array([9800, 3259, 6208, 9800, 8355, 3105,  943, 9800, 7306, 4466, 2015,\n",
      "        396,  880, 9800, 2739, 2710, 9793,  291,  340, 2943, 9800, 9800,\n",
      "       9800, 1402,  589,  714,  247,  289, 8813]))\n"
     ]
    }
   ],
   "source": [
    "# Check samples per class in train dataset.\n",
    "print(np.unique(train_data.targets, return_counts=True))"
   ]
  },
  {
   "cell_type": "code",
   "execution_count": 9,
   "id": "ec4bb2c4-7a4a-4e89-8d86-20c31fb688b2",
   "metadata": {},
   "outputs": [
    {
     "name": "stdout",
     "output_type": "stream",
     "text": [
      "(array([ 0,  1,  2,  3,  4,  5,  6,  7,  8,  9, 10, 11, 12, 13, 14, 15, 16,\n",
      "       17, 18, 19, 20, 21, 22, 23, 24, 25, 26, 27, 28]), array([1400,  465,  886, 1400, 1193,  443,  134, 1400, 1043,  638,  288,\n",
      "         56,  125, 1400,  391,  387, 1399,   41,   48,  420, 1400, 1400,\n",
      "       1400,  200,   84,  102,   35,   41, 1259]))\n"
     ]
    }
   ],
   "source": [
    "# Check samples per class in val dataset.\n",
    "print(np.unique(val_data.targets, return_counts=True))"
   ]
  },
  {
   "cell_type": "code",
   "execution_count": 10,
   "id": "27bd4dc5-c061-4645-be13-cae153fa5bb8",
   "metadata": {},
   "outputs": [
    {
     "name": "stdout",
     "output_type": "stream",
     "text": [
      "136403\n",
      "19478\n",
      "38996\n"
     ]
    }
   ],
   "source": [
    "print(len(train_data.targets))\n",
    "print(len(val_data.targets))\n",
    "print(len(test_data.targets))"
   ]
  },
  {
   "cell_type": "markdown",
   "id": "03f9060d-ee60-48e7-9bac-cdf725edcdfb",
   "metadata": {},
   "source": [
    "***"
   ]
  },
  {
   "cell_type": "markdown",
   "id": "47381c60-3bd2-41a9-bf2b-9b55f12c7e51",
   "metadata": {},
   "source": [
    "***"
   ]
  },
  {
   "cell_type": "markdown",
   "id": "12a00b0b-9f1d-4329-b3db-e6dfbf79dc18",
   "metadata": {},
   "source": [
    "# Tutorial"
   ]
  },
  {
   "cell_type": "code",
   "execution_count": 11,
   "id": "18b04bd7-b214-4c21-9d57-34b46c4c437c",
   "metadata": {},
   "outputs": [],
   "source": [
    "data_transforms = {\n",
    "    'train': transforms.Compose([\n",
    "        torchvision.transforms.Resize((input_size, input_size)),\n",
    "        torchvision.transforms.RandomResizedCrop(size=input_size, scale=(0.2, 1.0)),\n",
    "        torchvision.transforms.RandomHorizontalFlip(p=0.5),\n",
    "        torchvision.transforms.RandomVerticalFlip(p=0.5),\n",
    "        torchvision.transforms.GaussianBlur(21),\n",
    "        torchvision.transforms.ToTensor()\n",
    "    ]),\n",
    "    'val': transforms.Compose([\n",
    "        torchvision.transforms.Resize((input_size, input_size)),\n",
    "        torchvision.transforms.ToTensor()\n",
    "    ]),\n",
    "}\n",
    "\n",
    "image_datasets = {x: datasets.ImageFolder(os.path.join(data_dir, x),\n",
    "                                          data_transforms[x])\n",
    "                  for x in ['train', 'val']}\n",
    "\n",
    "dataloaders = {x: torch.utils.data.DataLoader(image_datasets[x],\n",
    "                                              batch_size=batch_size,\n",
    "                                              shuffle=True,\n",
    "                                              num_workers=num_workers)\n",
    "              for x in ['train', 'val']}\n",
    "\n",
    "dataset_sizes = {x: len(image_datasets[x]) for x in ['train', 'val']}\n",
    "\n",
    "class_names = image_datasets['train'].classes\n",
    "num_classes = len(class_names)"
   ]
  },
  {
   "cell_type": "markdown",
   "id": "f3fe40ed-ca86-4418-8cec-1500c0ae480e",
   "metadata": {},
   "source": [
    "# Loading the model"
   ]
  },
  {
   "cell_type": "code",
   "execution_count": 12,
   "id": "4b29e006-3549-4302-8169-c5aa46fb16ec",
   "metadata": {},
   "outputs": [
    {
     "name": "stdout",
     "output_type": "stream",
     "text": [
      "cuda:0\n"
     ]
    }
   ],
   "source": [
    "device = torch.device(\"cuda:0\" if torch.cuda.is_available() else \"cpu\")\n",
    "print(device)"
   ]
  },
  {
   "cell_type": "code",
   "execution_count": 13,
   "id": "ff3c9494-6733-4b4c-8064-0d3a534edd0c",
   "metadata": {},
   "outputs": [],
   "source": [
    "def train_model(model, criterion, optimizer, scheduler, num_epochs=25):\n",
    "    since = time.time()\n",
    "\n",
    "    best_model_wts = copy.deepcopy(model.state_dict())\n",
    "    best_acc = 0.0\n",
    "\n",
    "    for epoch in range(num_epochs):\n",
    "        print(f'Epoch {epoch}/{num_epochs - 1}')\n",
    "        print('-' * 10)\n",
    "\n",
    "        # Each epoch has a training and validation phase\n",
    "        for phase in ['train', 'val']:\n",
    "            if phase == 'train':\n",
    "                model.train()  # Set model to training mode\n",
    "            else:\n",
    "                model.eval()   # Set model to evaluate mode\n",
    "\n",
    "            running_loss = 0.0\n",
    "            running_corrects = 0\n",
    "\n",
    "            # Iterate over data.\n",
    "            for inputs, labels in dataloaders[phase]:\n",
    "                inputs = inputs.to(device)\n",
    "                labels = labels.to(device)\n",
    "\n",
    "                # zero the parameter gradients\n",
    "                optimizer.zero_grad()\n",
    "\n",
    "                # forward\n",
    "                # track history if only in train\n",
    "                with torch.set_grad_enabled(phase == 'train'):\n",
    "                    outputs = model(inputs)\n",
    "                    _, preds = torch.max(outputs, 1)\n",
    "                    loss = criterion(outputs, labels)\n",
    "\n",
    "                    # backward + optimize only if in training phase\n",
    "                    if phase == 'train':\n",
    "                        loss.backward()\n",
    "                        optimizer.step()\n",
    "\n",
    "                # statistics\n",
    "                running_loss += loss.item() * inputs.size(0)\n",
    "                running_corrects += torch.sum(preds == labels.data)\n",
    "            if phase == 'train':\n",
    "                scheduler.step()\n",
    "\n",
    "            epoch_loss = running_loss / dataset_sizes[phase]\n",
    "            epoch_acc = running_corrects.double() / dataset_sizes[phase]\n",
    "\n",
    "            print(f'{phase} Loss: {epoch_loss:.4f} Acc: {epoch_acc:.4f}')\n",
    "\n",
    "            # deep copy the model\n",
    "            if phase == 'val' and epoch_acc > best_acc:\n",
    "                best_acc = epoch_acc\n",
    "                best_model_wts = copy.deepcopy(model.state_dict())\n",
    "\n",
    "        print()\n",
    "\n",
    "    time_elapsed = time.time() - since\n",
    "    print(f'Training complete in {time_elapsed // 60:.0f}m {time_elapsed % 60:.0f}s')\n",
    "    print(f'Best val Acc: {best_acc:4f}')\n",
    "\n",
    "    # load best model weights\n",
    "    model.load_state_dict(best_model_wts)\n",
    "    return model"
   ]
  },
  {
   "cell_type": "code",
   "execution_count": 14,
   "id": "d7760fc7-5b30-4490-8ac5-70ab237d6dba",
   "metadata": {},
   "outputs": [
    {
     "data": {
      "text/plain": [
       "<All keys matched successfully>"
      ]
     },
     "execution_count": 14,
     "metadata": {},
     "output_type": "execute_result"
    }
   ],
   "source": [
    "resnet = torchvision.models.resnet18(weights=None)\n",
    "pretrained_model = torch.nn.Sequential(*list(resnet.children())[:-1])\n",
    "pretrained_model.load_state_dict(torch.load('pytorch_models/simsiam_backbone_resnet18'))\n",
    "# model.eval() or model.train()"
   ]
  },
  {
   "cell_type": "code",
   "execution_count": 80,
   "id": "fe133645-7080-4901-b9e2-390712954ec2",
   "metadata": {},
   "outputs": [
    {
     "name": "stdout",
     "output_type": "stream",
     "text": [
      "Conv2d(3, 64, kernel_size=(7, 7), stride=(2, 2), padding=(3, 3), bias=False)\n",
      "tensor([[[ 0.0559,  0.0416,  0.0045, -0.0362, -0.0888, -0.0602, -0.0361],\n",
      "         [ 0.0287,  0.0425, -0.0248, -0.0750, -0.0937, -0.0949, -0.0735],\n",
      "         [ 0.0566,  0.0368,  0.0045, -0.0661, -0.1196, -0.1054, -0.0776],\n",
      "         [ 0.0526,  0.0227, -0.0307, -0.0958, -0.1171, -0.1356, -0.1018],\n",
      "         [ 0.0422,  0.0304, -0.0372, -0.0804, -0.1045, -0.1394, -0.1070],\n",
      "         [ 0.0447,  0.0132, -0.0169, -0.0858, -0.1110, -0.1060, -0.0904],\n",
      "         [ 0.0559,  0.0409, -0.0253, -0.0553, -0.0983, -0.0692, -0.0608]],\n",
      "\n",
      "        [[ 0.0889,  0.0994,  0.0946,  0.0405,  0.0098,  0.0083,  0.0429],\n",
      "         [ 0.0633,  0.0908,  0.0671,  0.0190,  0.0079,  0.0183,  0.0699],\n",
      "         [ 0.0968,  0.0795,  0.0481,  0.0179,  0.0038, -0.0029,  0.0265],\n",
      "         [ 0.1061,  0.1274,  0.0536,  0.0216,  0.0139,  0.0060,  0.0589],\n",
      "         [ 0.0968,  0.1263,  0.0682,  0.0381,  0.0205,  0.0065,  0.0625],\n",
      "         [ 0.1074,  0.0966,  0.0597,  0.0274,  0.0136,  0.0134,  0.0499],\n",
      "         [ 0.0887,  0.1262,  0.0811,  0.0554,  0.0258,  0.0278,  0.0798]],\n",
      "\n",
      "        [[ 0.0359,  0.0483,  0.0110, -0.0683, -0.0705, -0.0694, -0.0924],\n",
      "         [ 0.0529,  0.0651, -0.0016, -0.0743, -0.1005, -0.1114, -0.0951],\n",
      "         [ 0.0725,  0.0271,  0.0008, -0.0584, -0.1232, -0.1131, -0.1180],\n",
      "         [ 0.0433,  0.0446, -0.0133, -0.0689, -0.1139, -0.1405, -0.1445],\n",
      "         [ 0.0627,  0.0653, -0.0153, -0.0666, -0.1278, -0.1340, -0.1335],\n",
      "         [ 0.0409,  0.0304,  0.0087, -0.0741, -0.0942, -0.1006, -0.1175],\n",
      "         [ 0.0546,  0.0736, -0.0051, -0.0335, -0.0890, -0.0927, -0.0843]]],\n",
      "       device='cuda:0', grad_fn=<SelectBackward0>)\n"
     ]
    }
   ],
   "source": [
    "print(resnet.conv1)\n",
    "print(resnet.conv1.weight[63])"
   ]
  },
  {
   "cell_type": "code",
   "execution_count": 15,
   "id": "17f27b2f-fe4c-4309-8fa4-991b2e03aaab",
   "metadata": {},
   "outputs": [],
   "source": [
    "# Adding a linear layer on top of the model (linear classifier).\n",
    "model_ft = torch.nn.Sequential(\n",
    "    pretrained_model,\n",
    "    torch.nn.Flatten(),\n",
    "    torch.nn.Linear(in_features=512, out_features=num_classes, bias=True),\n",
    "    # torch.nn.Softmax(dim=1)\n",
    ")"
   ]
  },
  {
   "cell_type": "code",
   "execution_count": 16,
   "id": "93a3d5c8-c1de-480b-876e-fe1fdf9f69e2",
   "metadata": {},
   "outputs": [
    {
     "data": {
      "text/plain": [
       "===============================================================================================\n",
       "Layer (type:depth-idx)                        Output Shape              Param #\n",
       "===============================================================================================\n",
       "Sequential                                    [32, 29]                  --\n",
       "├─Sequential: 1-1                             [32, 512, 1, 1]           --\n",
       "│    └─Conv2d: 2-1                            [32, 64, 112, 112]        9,408\n",
       "│    └─BatchNorm2d: 2-2                       [32, 64, 112, 112]        128\n",
       "│    └─ReLU: 2-3                              [32, 64, 112, 112]        --\n",
       "│    └─MaxPool2d: 2-4                         [32, 64, 56, 56]          --\n",
       "│    └─Sequential: 2-5                        [32, 64, 56, 56]          --\n",
       "│    │    └─BasicBlock: 3-1                   [32, 64, 56, 56]          73,984\n",
       "│    │    └─BasicBlock: 3-2                   [32, 64, 56, 56]          73,984\n",
       "│    └─Sequential: 2-6                        [32, 128, 28, 28]         --\n",
       "│    │    └─BasicBlock: 3-3                   [32, 128, 28, 28]         230,144\n",
       "│    │    └─BasicBlock: 3-4                   [32, 128, 28, 28]         295,424\n",
       "│    └─Sequential: 2-7                        [32, 256, 14, 14]         --\n",
       "│    │    └─BasicBlock: 3-5                   [32, 256, 14, 14]         919,040\n",
       "│    │    └─BasicBlock: 3-6                   [32, 256, 14, 14]         1,180,672\n",
       "│    └─Sequential: 2-8                        [32, 512, 7, 7]           --\n",
       "│    │    └─BasicBlock: 3-7                   [32, 512, 7, 7]           3,673,088\n",
       "│    │    └─BasicBlock: 3-8                   [32, 512, 7, 7]           4,720,640\n",
       "│    └─AdaptiveAvgPool2d: 2-9                 [32, 512, 1, 1]           --\n",
       "├─Flatten: 1-2                                [32, 512]                 --\n",
       "├─Linear: 1-3                                 [32, 29]                  14,877\n",
       "===============================================================================================\n",
       "Total params: 11,191,389\n",
       "Trainable params: 11,191,389\n",
       "Non-trainable params: 0\n",
       "Total mult-adds (G): 58.03\n",
       "===============================================================================================\n",
       "Input size (MB): 19.27\n",
       "Forward/backward pass size (MB): 1271.67\n",
       "Params size (MB): 44.77\n",
       "Estimated Total Size (MB): 1335.70\n",
       "==============================================================================================="
      ]
     },
     "execution_count": 16,
     "metadata": {},
     "output_type": "execute_result"
    }
   ],
   "source": [
    "summary(model_ft, input_size=(batch_size, 3, input_size, input_size))"
   ]
  },
  {
   "cell_type": "code",
   "execution_count": 17,
   "id": "5eafe15c-247d-4bd4-804d-47f34880d071",
   "metadata": {},
   "outputs": [],
   "source": [
    "from torch.optim import lr_scheduler\n",
    "\n",
    "model_ft = model_ft.to(device)\n",
    "\n",
    "criterion = torch.nn.CrossEntropyLoss()\n",
    "\n",
    "# Observe that all parameters are being optimized\n",
    "optimizer_ft = torch.optim.SGD(model_ft.parameters(), lr=0.001, momentum=0.9)\n",
    "\n",
    "# Decay LR by a factor of 0.1 every 7 epochs\n",
    "exp_lr_scheduler = lr_scheduler.StepLR(optimizer_ft, step_size=7, gamma=0.1)"
   ]
  },
  {
   "cell_type": "code",
   "execution_count": 18,
   "id": "860b3244-9d30-41ce-ae4d-5e75cfbebd97",
   "metadata": {},
   "outputs": [
    {
     "name": "stdout",
     "output_type": "stream",
     "text": [
      "Epoch 0/9\n",
      "----------\n",
      "train Loss: 0.9706 Acc: 0.6690\n",
      "val Loss: 1.4007 Acc: 0.6036\n",
      "\n",
      "Epoch 1/9\n",
      "----------\n",
      "train Loss: 0.6267 Acc: 0.7789\n",
      "val Loss: 0.5117 Acc: 0.8134\n",
      "\n",
      "Epoch 2/9\n",
      "----------\n",
      "train Loss: 0.5323 Acc: 0.8107\n",
      "val Loss: 1.1991 Acc: 0.6423\n",
      "\n",
      "Epoch 3/9\n",
      "----------\n",
      "train Loss: 0.4708 Acc: 0.8317\n",
      "val Loss: 0.3651 Acc: 0.8682\n",
      "\n",
      "Epoch 4/9\n",
      "----------\n",
      "train Loss: 0.4272 Acc: 0.8473\n",
      "val Loss: 0.4448 Acc: 0.8492\n",
      "\n",
      "Epoch 5/9\n",
      "----------\n",
      "train Loss: 0.3882 Acc: 0.8612\n",
      "val Loss: 0.5118 Acc: 0.8239\n",
      "\n",
      "Epoch 6/9\n",
      "----------\n",
      "train Loss: 0.3531 Acc: 0.8725\n",
      "val Loss: 0.2956 Acc: 0.8915\n",
      "\n",
      "Epoch 7/9\n",
      "----------\n",
      "train Loss: 0.2799 Acc: 0.8996\n",
      "val Loss: 0.2379 Acc: 0.9130\n",
      "\n",
      "Epoch 8/9\n",
      "----------\n",
      "train Loss: 0.2693 Acc: 0.9033\n",
      "val Loss: 0.2389 Acc: 0.9147\n",
      "\n",
      "Epoch 9/9\n",
      "----------\n",
      "train Loss: 0.2607 Acc: 0.9065\n",
      "val Loss: 0.2331 Acc: 0.9143\n",
      "\n",
      "Training complete in 53m 53s\n",
      "Best val Acc: 0.914673\n"
     ]
    }
   ],
   "source": [
    "model_ft = train_model(model_ft, criterion, optimizer_ft, exp_lr_scheduler,\n",
    "                       num_epochs=10)"
   ]
  },
  {
   "cell_type": "code",
   "execution_count": 38,
   "id": "e100de22-9e17-4d1c-87fb-a6c965834b0d",
   "metadata": {},
   "outputs": [],
   "source": [
    "def visualize_model(model, num_images=6):\n",
    "    was_training = model.training\n",
    "    model.eval()\n",
    "    images_so_far = 0\n",
    "    fig = plt.figure(figsize=(10, 16))\n",
    "\n",
    "    with torch.no_grad():\n",
    "        for i, (inputs, labels) in enumerate(dataloaders['val']):\n",
    "            inputs = inputs.to(device)\n",
    "            labels = labels.to(device)\n",
    "\n",
    "            outputs = model(inputs)\n",
    "            _, preds = torch.max(outputs, 1)\n",
    "\n",
    "            for j in range(inputs.size()[0]):\n",
    "                images_so_far += 1\n",
    "                ax = plt.subplot(num_images//2, 2, images_so_far)\n",
    "                ax.axis('off')\n",
    "                ax.set_title(f'predicted: {class_names[preds[j]]} |\\n'\n",
    "                             f'real: {class_names[labels.cpu().data[j]]}')\n",
    "                \n",
    "                plt.imshow(torch.permute(inputs.cpu().data[j], (1, 2, 0)))\n",
    "\n",
    "                if images_so_far == num_images:\n",
    "                    model.train(mode=was_training)\n",
    "                    return\n",
    "        model.train(mode=was_training)"
   ]
  },
  {
   "cell_type": "code",
   "execution_count": 40,
   "id": "2b2fe63a-4c23-4c74-92db-905a9d403c67",
   "metadata": {},
   "outputs": [
    {
     "data": {
      "image/png": "[encoded data removed]",
      "text/plain": [
       "<Figure size 720x1152 with 8 Axes>"
      ]
     },
     "metadata": {
      "needs_background": "light"
     },
     "output_type": "display_data"
    }
   ],
   "source": [
    "visualize_model(model_ft, num_images=8)"
   ]
  },
  {
   "cell_type": "code",
   "execution_count": null,
   "id": "2d6ae31a-4303-4dce-bb63-5c984283c039",
   "metadata": {},
   "outputs": [
    {
     "name": "stdout",
     "output_type": "stream",
     "text": [
      "Sequential(\n",
      "  (0): Sequential(\n",
      "    (0): Conv2d(3, 64, kernel_size=(7, 7), stride=(2, 2), padding=(3, 3), bias=False)\n",
      "    (1): BatchNorm2d(64, eps=1e-05, momentum=0.1, affine=True, track_running_stats=True)\n",
      "    (2): ReLU(inplace=True)\n",
      "    (3): MaxPool2d(kernel_size=3, stride=2, padding=1, dilation=1, ceil_mode=False)\n",
      "    (4): Sequential(\n",
      "      (0): BasicBlock(\n",
      "        (conv1): Conv2d(64, 64, kernel_size=(3, 3), stride=(1, 1), padding=(1, 1), bias=False)\n",
      "        (bn1): BatchNorm2d(64, eps=1e-05, momentum=0.1, affine=True, track_running_stats=True)\n",
      "        (relu): ReLU(inplace=True)\n",
      "        (conv2): Conv2d(64, 64, kernel_size=(3, 3), stride=(1, 1), padding=(1, 1), bias=False)\n",
      "        (bn2): BatchNorm2d(64, eps=1e-05, momentum=0.1, affine=True, track_running_stats=True)\n",
      "      )\n",
      "      (1): BasicBlock(\n",
      "        (conv1): Conv2d(64, 64, kernel_size=(3, 3), stride=(1, 1), padding=(1, 1), bias=False)\n",
      "        (bn1): BatchNorm2d(64, eps=1e-05, momentum=0.1, affine=True, track_running_stats=True)\n",
      "        (relu): ReLU(inplace=True)\n",
      "        (conv2): Conv2d(64, 64, kernel_size=(3, 3), stride=(1, 1), padding=(1, 1), bias=False)\n",
      "        (bn2): BatchNorm2d(64, eps=1e-05, momentum=0.1, affine=True, track_running_stats=True)\n",
      "      )\n",
      "    )\n",
      "    (5): Sequential(\n",
      "      (0): BasicBlock(\n",
      "        (conv1): Conv2d(64, 128, kernel_size=(3, 3), stride=(2, 2), padding=(1, 1), bias=False)\n",
      "        (bn1): BatchNorm2d(128, eps=1e-05, momentum=0.1, affine=True, track_running_stats=True)\n",
      "        (relu): ReLU(inplace=True)\n",
      "        (conv2): Conv2d(128, 128, kernel_size=(3, 3), stride=(1, 1), padding=(1, 1), bias=False)\n",
      "        (bn2): BatchNorm2d(128, eps=1e-05, momentum=0.1, affine=True, track_running_stats=True)\n",
      "        (downsample): Sequential(\n",
      "          (0): Conv2d(64, 128, kernel_size=(1, 1), stride=(2, 2), bias=False)\n",
      "          (1): BatchNorm2d(128, eps=1e-05, momentum=0.1, affine=True, track_running_stats=True)\n",
      "        )\n",
      "      )\n",
      "      (1): BasicBlock(\n",
      "        (conv1): Conv2d(128, 128, kernel_size=(3, 3), stride=(1, 1), padding=(1, 1), bias=False)\n",
      "        (bn1): BatchNorm2d(128, eps=1e-05, momentum=0.1, affine=True, track_running_stats=True)\n",
      "        (relu): ReLU(inplace=True)\n",
      "        (conv2): Conv2d(128, 128, kernel_size=(3, 3), stride=(1, 1), padding=(1, 1), bias=False)\n",
      "        (bn2): BatchNorm2d(128, eps=1e-05, momentum=0.1, affine=True, track_running_stats=True)\n",
      "      )\n",
      "    )\n",
      "    (6): Sequential(\n",
      "      (0): BasicBlock(\n",
      "        (conv1): Conv2d(128, 256, kernel_size=(3, 3), stride=(2, 2), padding=(1, 1), bias=False)\n",
      "        (bn1): BatchNorm2d(256, eps=1e-05, momentum=0.1, affine=True, track_running_stats=True)\n",
      "        (relu): ReLU(inplace=True)\n",
      "        (conv2): Conv2d(256, 256, kernel_size=(3, 3), stride=(1, 1), padding=(1, 1), bias=False)\n",
      "        (bn2): BatchNorm2d(256, eps=1e-05, momentum=0.1, affine=True, track_running_stats=True)\n",
      "        (downsample): Sequential(\n",
      "          (0): Conv2d(128, 256, kernel_size=(1, 1), stride=(2, 2), bias=False)\n",
      "          (1): BatchNorm2d(256, eps=1e-05, momentum=0.1, affine=True, track_running_stats=True)\n",
      "        )\n",
      "      )\n",
      "      (1): BasicBlock(\n",
      "        (conv1): Conv2d(256, 256, kernel_size=(3, 3), stride=(1, 1), padding=(1, 1), bias=False)\n",
      "        (bn1): BatchNorm2d(256, eps=1e-05, momentum=0.1, affine=True, track_running_stats=True)\n",
      "        (relu): ReLU(inplace=True)\n",
      "        (conv2): Conv2d(256, 256, kernel_size=(3, 3), stride=(1, 1), padding=(1, 1), bias=False)\n",
      "        (bn2): BatchNorm2d(256, eps=1e-05, momentum=0.1, affine=True, track_running_stats=True)\n",
      "      )\n",
      "    )\n",
      "    (7): Sequential(\n",
      "      (0): BasicBlock(\n",
      "        (conv1): Conv2d(256, 512, kernel_size=(3, 3), stride=(2, 2), padding=(1, 1), bias=False)\n",
      "        (bn1): BatchNorm2d(512, eps=1e-05, momentum=0.1, affine=True, track_running_stats=True)\n",
      "        (relu): ReLU(inplace=True)\n",
      "        (conv2): Conv2d(512, 512, kernel_size=(3, 3), stride=(1, 1), padding=(1, 1), bias=False)\n",
      "        (bn2): BatchNorm2d(512, eps=1e-05, momentum=0.1, affine=True, track_running_stats=True)\n",
      "        (downsample): Sequential(\n",
      "          (0): Conv2d(256, 512, kernel_size=(1, 1), stride=(2, 2), bias=False)\n",
      "          (1): BatchNorm2d(512, eps=1e-05, momentum=0.1, affine=True, track_running_stats=True)\n",
      "        )\n",
      "      )\n",
      "      (1): BasicBlock(\n",
      "        (conv1): Conv2d(512, 512, kernel_size=(3, 3), stride=(1, 1), padding=(1, 1), bias=False)\n",
      "        (bn1): BatchNorm2d(512, eps=1e-05, momentum=0.1, affine=True, track_running_stats=True)\n",
      "        (relu): ReLU(inplace=True)\n",
      "        (conv2): Conv2d(512, 512, kernel_size=(3, 3), stride=(1, 1), padding=(1, 1), bias=False)\n",
      "        (bn2): BatchNorm2d(512, eps=1e-05, momentum=0.1, affine=True, track_running_stats=True)\n",
      "      )\n",
      "    )\n",
      "    (8): AdaptiveAvgPool2d(output_size=(1, 1))\n",
      "  )\n",
      "  (1): Flatten(start_dim=1, end_dim=-1)\n",
      "  (2): Linear(in_features=512, out_features=29, bias=True)\n",
      ")\n"
     ]
    }
   ],
   "source": [
    "print(model_ft)"
   ]
  },
  {
   "cell_type": "code",
   "execution_count": null,
   "id": "506204fc-9de9-4115-a3e1-33c7ba383d96",
   "metadata": {},
   "outputs": [
    {
     "data": {
      "text/plain": [
       "Parameter containing:\n",
       "tensor([[[[ 2.4604e-02, -3.9565e-04,  9.4442e-03,  ...,  2.1839e-02,\n",
       "            1.9308e-02,  2.7801e-02],\n",
       "          [-1.1529e-02, -1.9889e-03,  6.1869e-04,  ...,  1.5930e-02,\n",
       "            2.8849e-02, -2.5362e-03],\n",
       "          [ 2.1794e-02,  1.6301e-02,  1.0232e-02,  ..., -1.1563e-02,\n",
       "            1.3240e-02,  1.8114e-02],\n",
       "          ...,\n",
       "          [ 3.9381e-03,  8.4338e-03, -2.3085e-02,  ...,  3.9147e-02,\n",
       "            1.9534e-02,  3.2469e-02],\n",
       "          [ 7.6261e-03,  2.2951e-02,  1.1417e-02,  ...,  1.1386e-02,\n",
       "            8.7117e-03,  3.2049e-03],\n",
       "          [-3.1959e-03,  2.3103e-02,  3.5304e-03,  ...,  1.4036e-03,\n",
       "            8.5128e-03,  1.0386e-02]],\n",
       "\n",
       "         [[ 1.3647e-03,  8.2093e-03,  1.4210e-02,  ...,  2.0785e-03,\n",
       "            2.1488e-02, -3.4086e-03],\n",
       "          [ 1.0127e-02,  1.5786e-03, -2.8481e-03,  ..., -1.8699e-02,\n",
       "           -5.4929e-03, -1.9491e-02],\n",
       "          [ 4.8508e-03,  1.7433e-02, -4.2792e-02,  ...,  2.9306e-03,\n",
       "            4.6097e-03,  8.6187e-03],\n",
       "          ...,\n",
       "          [-7.8959e-03,  2.9906e-03, -6.8040e-03,  ..., -3.2611e-03,\n",
       "           -1.4130e-02,  3.5753e-02],\n",
       "          [-2.2780e-04, -1.4148e-02,  1.3230e-02,  ..., -1.1947e-02,\n",
       "           -1.5938e-02,  1.9367e-03],\n",
       "          [ 2.1898e-02, -1.1110e-02, -1.5902e-02,  ...,  1.5388e-03,\n",
       "           -7.6280e-03,  4.0399e-03]],\n",
       "\n",
       "         [[ 3.3076e-02,  2.0299e-02,  1.0213e-02,  ...,  3.6028e-02,\n",
       "            3.4966e-02,  1.2259e-02],\n",
       "          [ 3.0826e-02,  1.3652e-02,  2.7040e-02,  ...,  1.7567e-02,\n",
       "            6.0166e-02,  1.5191e-02],\n",
       "          [ 3.7923e-02,  2.5647e-02,  1.7790e-02,  ...,  2.2496e-02,\n",
       "            3.5272e-02,  1.4406e-02],\n",
       "          ...,\n",
       "          [ 1.4955e-02,  2.5637e-02,  3.2372e-02,  ...,  2.8060e-02,\n",
       "            1.9659e-02,  5.1798e-02],\n",
       "          [ 2.1617e-02,  4.7744e-02,  1.7869e-02,  ...,  1.3112e-02,\n",
       "            1.2723e-02,  1.3246e-02],\n",
       "          [ 9.4050e-04,  2.1776e-02,  1.0495e-02,  ...,  2.8869e-02,\n",
       "            7.8801e-03,  2.8279e-02]]],\n",
       "\n",
       "\n",
       "        [[[-6.4504e-02, -6.1606e-02, -6.9899e-02,  ..., -9.9952e-02,\n",
       "           -1.2137e-01, -7.2306e-02],\n",
       "          [-5.9199e-02, -4.6674e-02, -3.8742e-02,  ..., -5.5959e-02,\n",
       "           -1.4755e-02, -5.9039e-02],\n",
       "          [-9.0975e-02, -4.7218e-02, -5.3772e-02,  ..., -4.2405e-02,\n",
       "           -3.7601e-02, -3.7447e-02],\n",
       "          ...,\n",
       "          [-8.2104e-02, -8.4536e-02, -6.6124e-02,  ..., -8.9897e-02,\n",
       "           -6.0535e-02, -7.7058e-02],\n",
       "          [-7.0255e-02, -3.0886e-02, -5.7612e-02,  ..., -6.4281e-02,\n",
       "           -8.6287e-02, -5.6205e-02],\n",
       "          [-6.1433e-02, -5.8562e-02, -5.8745e-02,  ..., -5.1683e-02,\n",
       "           -2.5663e-02, -5.7344e-02]],\n",
       "\n",
       "         [[-2.7197e-02,  2.0113e-03, -1.5466e-02,  ...,  1.5517e-04,\n",
       "            1.6726e-02, -3.7136e-03],\n",
       "          [ 2.2015e-02,  4.0307e-02,  2.0677e-02,  ...,  2.2180e-02,\n",
       "            2.8606e-02,  3.9332e-02],\n",
       "          [ 5.9347e-02,  5.9102e-02,  4.8958e-02,  ...,  3.5969e-02,\n",
       "            5.5902e-02,  7.9015e-02],\n",
       "          ...,\n",
       "          [-2.5484e-03,  1.7276e-02,  1.1602e-02,  ...,  2.5559e-02,\n",
       "            3.2831e-02,  3.6357e-02],\n",
       "          [ 1.5930e-02,  9.1417e-03,  3.7604e-02,  ...,  2.3122e-02,\n",
       "            1.2423e-03,  1.9909e-02],\n",
       "          [-1.1691e-02,  3.0536e-02, -1.7078e-02,  ...,  2.2806e-03,\n",
       "           -4.1862e-03,  4.2682e-03]],\n",
       "\n",
       "         [[ 1.1179e-02,  3.9541e-02,  4.3709e-02,  ...,  1.5730e-02,\n",
       "            3.7771e-02,  2.5368e-02],\n",
       "          [ 8.6420e-02,  1.0652e-01,  1.2200e-01,  ...,  7.9273e-02,\n",
       "            9.2805e-02,  7.1269e-02],\n",
       "          [ 1.1335e-01,  1.0028e-01,  1.1403e-01,  ...,  1.1040e-01,\n",
       "            1.0605e-01,  9.2701e-02],\n",
       "          ...,\n",
       "          [ 5.7097e-02,  8.9702e-02,  8.5642e-02,  ...,  6.2791e-02,\n",
       "            6.7398e-02,  1.0059e-01],\n",
       "          [ 3.4542e-02,  8.6167e-02,  8.6489e-02,  ...,  6.6420e-02,\n",
       "            1.0149e-01,  9.2638e-02],\n",
       "          [ 5.4460e-02,  5.3662e-02,  6.5560e-02,  ...,  2.7867e-02,\n",
       "            5.1056e-02,  7.5732e-02]]],\n",
       "\n",
       "\n",
       "        [[[-3.4417e-02, -1.1504e-02,  2.8166e-03,  ...,  4.2284e-03,\n",
       "           -3.0889e-02, -8.8970e-03],\n",
       "          [-5.5710e-03, -2.9656e-02, -2.4676e-03,  ..., -1.4181e-02,\n",
       "            5.1182e-03, -1.4181e-02],\n",
       "          [-4.6829e-04, -1.0121e-02, -4.5385e-03,  ..., -1.6906e-02,\n",
       "           -6.1822e-03, -1.6843e-02],\n",
       "          ...,\n",
       "          [-2.4290e-02, -1.2534e-02, -1.8096e-03,  ..., -1.4941e-02,\n",
       "            1.9626e-02, -1.4594e-02],\n",
       "          [-2.9586e-02, -4.8315e-03, -2.4743e-02,  ..., -4.9277e-03,\n",
       "            1.7462e-03, -1.1375e-02],\n",
       "          [-2.4787e-02, -2.3974e-02, -1.1431e-02,  ...,  1.7415e-02,\n",
       "           -2.8148e-02, -1.7723e-02]],\n",
       "\n",
       "         [[ 3.5786e-02, -2.7996e-03,  3.4294e-02,  ...,  1.6982e-03,\n",
       "           -1.4839e-03,  1.7578e-02],\n",
       "          [-1.5242e-02,  1.8501e-04, -1.2884e-02,  ...,  4.0695e-02,\n",
       "            5.1080e-03,  1.8656e-02],\n",
       "          [-6.4073e-03,  1.9965e-02, -2.5640e-04,  ..., -2.2760e-03,\n",
       "            2.5686e-02,  2.3009e-02],\n",
       "          ...,\n",
       "          [ 2.3545e-02, -4.3145e-03,  3.8701e-03,  ...,  1.5259e-02,\n",
       "            2.5402e-02,  2.4450e-02],\n",
       "          [ 2.2898e-02,  2.1302e-02,  8.6716e-03,  ...,  1.7525e-02,\n",
       "            1.4754e-02,  6.3073e-03],\n",
       "          [ 1.0566e-02,  1.5504e-02,  5.0300e-03,  ...,  5.9494e-03,\n",
       "            1.4387e-02,  5.3901e-03]],\n",
       "\n",
       "         [[-8.3849e-04, -2.1448e-02, -6.7503e-03,  ...,  6.0722e-03,\n",
       "           -9.3154e-05, -8.8302e-03],\n",
       "          [-3.8655e-03, -1.6558e-02, -2.4426e-02,  ..., -1.7825e-02,\n",
       "           -4.6433e-02, -7.9831e-03],\n",
       "          [-2.1981e-02, -2.9690e-02, -1.2019e-02,  ..., -3.2508e-02,\n",
       "           -2.2455e-02, -3.9749e-02],\n",
       "          ...,\n",
       "          [-3.4083e-02, -7.8621e-03, -3.0837e-02,  ..., -2.5725e-02,\n",
       "           -2.4292e-02, -1.9622e-02],\n",
       "          [-3.1842e-02, -1.2303e-02, -2.5193e-02,  ..., -3.0221e-02,\n",
       "           -5.6429e-02, -2.4025e-02],\n",
       "          [-2.1923e-02, -2.8455e-02, -2.2733e-02,  ..., -8.9732e-03,\n",
       "           -1.8707e-02, -8.8948e-03]]],\n",
       "\n",
       "\n",
       "        ...,\n",
       "\n",
       "\n",
       "        [[[ 2.5027e-02,  4.3126e-02,  6.2289e-03,  ...,  1.2827e-02,\n",
       "            4.0508e-02,  1.5037e-02],\n",
       "          [ 7.9770e-03,  2.2335e-02,  2.9358e-02,  ..., -1.0537e-04,\n",
       "            2.1845e-02,  5.6824e-03],\n",
       "          [ 2.4220e-02, -4.8415e-03,  3.3920e-02,  ...,  2.6560e-02,\n",
       "            1.1576e-02,  5.0654e-02],\n",
       "          ...,\n",
       "          [ 2.0605e-02,  2.2370e-02,  2.6051e-02,  ...,  2.9702e-02,\n",
       "            2.9038e-02,  3.2018e-02],\n",
       "          [ 3.3986e-02, -2.6553e-03,  2.6487e-02,  ...,  4.5297e-02,\n",
       "            2.1171e-02,  1.1791e-02],\n",
       "          [ 4.5111e-02,  2.0013e-02,  3.4975e-04,  ...,  2.5925e-03,\n",
       "            3.5296e-02,  2.4968e-02]],\n",
       "\n",
       "         [[ 1.0394e-02,  1.9335e-02,  1.9329e-02,  ...,  1.3989e-03,\n",
       "            3.2633e-02,  9.5118e-03],\n",
       "          [ 3.9159e-04,  1.6352e-02,  3.6212e-03,  ...,  1.4600e-02,\n",
       "            2.1810e-02,  2.7273e-02],\n",
       "          [ 1.8270e-02,  3.6339e-03,  1.5068e-02,  ...,  5.8560e-03,\n",
       "            4.4415e-03, -1.2965e-02],\n",
       "          ...,\n",
       "          [ 3.3228e-04,  1.9219e-02, -1.2068e-03,  ..., -1.4471e-02,\n",
       "            6.5242e-03,  2.7881e-02],\n",
       "          [ 4.4510e-03,  1.5088e-02, -9.1405e-03,  ...,  2.1640e-02,\n",
       "            2.0885e-02,  2.3921e-02],\n",
       "          [ 9.5315e-03,  1.1350e-02,  1.9889e-02,  ..., -1.1134e-04,\n",
       "            3.1562e-02,  7.4186e-03]],\n",
       "\n",
       "         [[ 5.6615e-03,  1.4205e-02,  1.3787e-02,  ..., -3.6922e-03,\n",
       "            1.7079e-02, -3.8954e-03],\n",
       "          [-1.3446e-02,  2.0133e-03, -1.2901e-02,  ..., -1.5473e-02,\n",
       "            1.9917e-03, -6.4545e-03],\n",
       "          [ 4.0697e-03, -7.3233e-03, -9.4172e-03,  ..., -1.6015e-02,\n",
       "           -1.5006e-02, -1.0142e-02],\n",
       "          ...,\n",
       "          [-3.2514e-03,  3.5898e-03,  9.3716e-03,  ..., -1.5970e-02,\n",
       "            5.2614e-03, -1.3167e-02],\n",
       "          [-1.5561e-02, -8.1019e-03, -4.9475e-03,  ..., -8.6686e-03,\n",
       "           -2.4051e-02, -1.6047e-02],\n",
       "          [-5.9323e-04,  1.3589e-02,  2.3353e-02,  ..., -6.2742e-03,\n",
       "           -4.2975e-03,  3.1910e-03]]],\n",
       "\n",
       "\n",
       "        [[[ 1.1899e-01,  6.4006e-02, -2.2798e-02,  ..., -1.3889e-01,\n",
       "           -2.0059e-01, -2.1728e-01],\n",
       "          [ 1.7347e-01,  1.3344e-01,  5.5827e-02,  ..., -9.4931e-02,\n",
       "           -1.3607e-01, -2.1261e-01],\n",
       "          [ 2.2868e-01,  1.7474e-01,  6.4988e-02,  ..., -9.5963e-02,\n",
       "           -1.6303e-01, -2.1333e-01],\n",
       "          ...,\n",
       "          [ 2.2299e-01,  1.8910e-01,  1.0251e-01,  ..., -6.6840e-02,\n",
       "           -1.2518e-01, -1.6845e-01],\n",
       "          [ 2.1800e-01,  1.7123e-01,  1.0738e-01,  ..., -4.6385e-02,\n",
       "           -9.4877e-02, -1.5353e-01],\n",
       "          [ 2.1495e-01,  2.3373e-01,  1.6211e-01,  ...,  7.8818e-03,\n",
       "           -5.0309e-02, -1.3880e-01]],\n",
       "\n",
       "         [[ 8.5183e-02,  4.3061e-02,  1.6679e-02,  ..., -1.0884e-01,\n",
       "           -1.0913e-01, -1.3665e-01],\n",
       "          [ 8.6289e-02,  1.0678e-01,  1.8572e-02,  ..., -1.0046e-01,\n",
       "           -8.6968e-02, -1.1377e-01],\n",
       "          [ 1.1849e-01,  6.2836e-02,  6.4826e-02,  ..., -4.9130e-02,\n",
       "           -9.0511e-02, -1.4013e-01],\n",
       "          ...,\n",
       "          [ 1.0670e-01,  9.3961e-02,  2.6655e-02,  ..., -6.4337e-02,\n",
       "           -9.0431e-02, -1.2016e-01],\n",
       "          [ 8.6799e-02,  7.3022e-02,  3.0828e-02,  ..., -5.8978e-02,\n",
       "           -1.2655e-01, -1.2291e-01],\n",
       "          [ 1.1920e-01,  1.0038e-01,  5.5859e-02,  ..., -5.6035e-02,\n",
       "           -4.5646e-02, -1.0540e-01]],\n",
       "\n",
       "         [[ 3.9083e-02,  5.2712e-02,  2.4735e-02,  ..., -2.2847e-02,\n",
       "            2.0494e-02, -2.6780e-02],\n",
       "          [ 5.9058e-02,  2.7549e-02,  4.3573e-02,  ...,  1.8849e-02,\n",
       "            3.0223e-02, -3.6842e-03],\n",
       "          [ 4.6410e-02,  4.4782e-02,  5.0859e-03,  ..., -1.7646e-02,\n",
       "            1.6120e-02, -1.3330e-02],\n",
       "          ...,\n",
       "          [ 6.6958e-02,  4.2680e-02, -1.7057e-02,  ..., -2.9331e-02,\n",
       "           -1.9837e-02, -3.9961e-02],\n",
       "          [ 8.3245e-03, -1.3093e-02, -5.0043e-03,  ..., -2.8735e-02,\n",
       "            1.2766e-02, -3.1117e-02],\n",
       "          [ 3.7042e-02,  4.4863e-02, -4.6528e-04,  ..., -1.1215e-02,\n",
       "            7.6318e-04, -4.0071e-02]]],\n",
       "\n",
       "\n",
       "        [[[ 5.5867e-02,  4.1631e-02,  4.5154e-03,  ..., -8.8828e-02,\n",
       "           -6.0195e-02, -3.6097e-02],\n",
       "          [ 2.8736e-02,  4.2506e-02, -2.4752e-02,  ..., -9.3706e-02,\n",
       "           -9.4907e-02, -7.3521e-02],\n",
       "          [ 5.6589e-02,  3.6803e-02,  4.5101e-03,  ..., -1.1958e-01,\n",
       "           -1.0536e-01, -7.7598e-02],\n",
       "          ...,\n",
       "          [ 4.2229e-02,  3.0423e-02, -3.7241e-02,  ..., -1.0448e-01,\n",
       "           -1.3936e-01, -1.0696e-01],\n",
       "          [ 4.4652e-02,  1.3230e-02, -1.6888e-02,  ..., -1.1100e-01,\n",
       "           -1.0595e-01, -9.0423e-02],\n",
       "          [ 5.5858e-02,  4.0887e-02, -2.5316e-02,  ..., -9.8267e-02,\n",
       "           -6.9216e-02, -6.0834e-02]],\n",
       "\n",
       "         [[ 8.8869e-02,  9.9388e-02,  9.4568e-02,  ...,  9.7729e-03,\n",
       "            8.2666e-03,  4.2913e-02],\n",
       "          [ 6.3264e-02,  9.0805e-02,  6.7127e-02,  ...,  7.8574e-03,\n",
       "            1.8311e-02,  6.9869e-02],\n",
       "          [ 9.6750e-02,  7.9480e-02,  4.8135e-02,  ...,  3.7710e-03,\n",
       "           -2.8705e-03,  2.6496e-02],\n",
       "          ...,\n",
       "          [ 9.6774e-02,  1.2625e-01,  6.8240e-02,  ...,  2.0502e-02,\n",
       "            6.5380e-03,  6.2499e-02],\n",
       "          [ 1.0744e-01,  9.6619e-02,  5.9668e-02,  ...,  1.3563e-02,\n",
       "            1.3372e-02,  4.9920e-02],\n",
       "          [ 8.8692e-02,  1.2616e-01,  8.1072e-02,  ...,  2.5783e-02,\n",
       "            2.7825e-02,  7.9826e-02]],\n",
       "\n",
       "         [[ 3.5923e-02,  4.8309e-02,  1.1003e-02,  ..., -7.0538e-02,\n",
       "           -6.9360e-02, -9.2446e-02],\n",
       "          [ 5.2866e-02,  6.5150e-02, -1.6125e-03,  ..., -1.0048e-01,\n",
       "           -1.1141e-01, -9.5120e-02],\n",
       "          [ 7.2472e-02,  2.7073e-02,  8.1549e-04,  ..., -1.2321e-01,\n",
       "           -1.1313e-01, -1.1800e-01],\n",
       "          ...,\n",
       "          [ 6.2702e-02,  6.5286e-02, -1.5340e-02,  ..., -1.2780e-01,\n",
       "           -1.3401e-01, -1.3352e-01],\n",
       "          [ 4.0914e-02,  3.0372e-02,  8.6989e-03,  ..., -9.4196e-02,\n",
       "           -1.0062e-01, -1.1748e-01],\n",
       "          [ 5.4637e-02,  7.3556e-02, -5.0741e-03,  ..., -8.9026e-02,\n",
       "           -9.2713e-02, -8.4255e-02]]]], device='cuda:0', requires_grad=True)"
      ]
     },
     "execution_count": 52,
     "metadata": {},
     "output_type": "execute_result"
    }
   ],
   "source": [
    "model_ft[0][0].weight"
   ]
  },
  {
   "cell_type": "code",
   "execution_count": 64,
   "id": "1a745e82-db76-48fb-946d-6d0d28d21446",
   "metadata": {},
   "outputs": [
    {
     "name": "stdout",
     "output_type": "stream",
     "text": [
      "tensor([[ 0.0077,  0.0734,  0.0137,  ...,  0.0619, -0.0357, -0.0155],\n",
      "        [-0.0196,  0.0131, -0.0068,  ...,  0.0610, -0.0257, -0.0691],\n",
      "        [-0.0521,  0.0892, -0.0283,  ..., -0.0021, -0.0224,  0.0032],\n",
      "        ...,\n",
      "        [ 0.0083, -0.0437,  0.0379,  ...,  0.0418, -0.0245, -0.0232],\n",
      "        [ 0.0123, -0.0249,  0.0012,  ...,  0.0079, -0.0306,  0.0694],\n",
      "        [-0.0519,  0.0747,  0.0953,  ...,  0.0643, -0.0481,  0.0295]],\n",
      "       device='cuda:0')\n",
      "tensor([-0.0290,  0.0238, -0.0077,  0.0269, -0.0214, -0.0293,  0.0135,  0.0698,\n",
      "         0.0343, -0.0078, -0.0211, -0.0381,  0.0070,  0.0366,  0.0464, -0.0393,\n",
      "         0.0350,  0.0125, -0.0268,  0.0361, -0.0184, -0.0475, -0.0323,  0.0076,\n",
      "         0.0110, -0.0304, -0.0620, -0.0317, -0.0092], device='cuda:0')\n"
     ]
    }
   ],
   "source": [
    "# for param in model_ft.parameters():\n",
    "#     print(param.data)\n",
    "#     break\n",
    "\n",
    "for layer in model_ft.children():\n",
    "    if isinstance(layer, torch.nn.Linear):\n",
    "        print(layer.state_dict()['weight'])\n",
    "        print(layer.state_dict()['bias'])"
   ]
  },
  {
   "cell_type": "code",
   "execution_count": null,
   "id": "c4a4dac4-7da0-4bc9-8b94-28ea9a404704",
   "metadata": {},
   "outputs": [],
   "source": []
  }
 ],
 "metadata": {
  "kernelspec": {
   "display_name": "lulc-venv",
   "language": "python",
   "name": "lulc-venv"
  },
  "language_info": {
   "codemirror_mode": {
    "name": "ipython",
    "version": 3
   },
   "file_extension": ".py",
   "mimetype": "text/x-python",
   "name": "python",
   "nbconvert_exporter": "python",
   "pygments_lexer": "ipython3",
   "version": "3.8.10"
  }
 },
 "nbformat": 4,
 "nbformat_minor": 5
}
