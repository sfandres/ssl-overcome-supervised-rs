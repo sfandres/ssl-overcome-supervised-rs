{
 "cells": [
  {
   "cell_type": "markdown",
   "id": "293858ae-5611-498e-afd6-acddd993850f",
   "metadata": {},
   "source": [
    "**USING RESNET18 WITH AND WITHOUT PRETRAINED WEIGHTS**"
   ]
  },
  {
   "cell_type": "markdown",
   "id": "90375b5c-0b66-445d-9260-f68b8bf991df",
   "metadata": {},
   "source": [
    "**LOADING THE SSL MODEL AND TRAINING A CLASSIFIER ON TOP OF IT**"
   ]
  },
  {
   "cell_type": "markdown",
   "id": "21e9469c-2666-4529-9eaf-1a1925b6eef0",
   "metadata": {},
   "source": [
    "Reference 1: https://pytorch.org/tutorials/beginner/introyt/trainingyt.html"
   ]
  },
  {
   "cell_type": "markdown",
   "id": "26195bb6-2965-4abd-b858-161c062294b6",
   "metadata": {},
   "source": [
    "Reference 2: https://pytorch.org/tutorials/beginner/transfer_learning_tutorial.html"
   ]
  },
  {
   "cell_type": "code",
   "execution_count": 1,
   "id": "a0b7dd78-3b06-441e-9cb8-4ca54a7b955c",
   "metadata": {},
   "outputs": [],
   "source": [
    "%load_ext pycodestyle_magic"
   ]
  },
  {
   "cell_type": "code",
   "execution_count": 2,
   "id": "46d06a82-af2e-4dc0-a873-1a2a225e284c",
   "metadata": {},
   "outputs": [],
   "source": [
    "%pycodestyle_on"
   ]
  },
  {
   "cell_type": "code",
   "execution_count": 3,
   "id": "f718a851-e231-49d4-a6a6-d88e72c46d26",
   "metadata": {},
   "outputs": [],
   "source": [
    "# Reproducibility.\n",
    "SEED = 42"
   ]
  },
  {
   "cell_type": "markdown",
   "id": "24803b53-5c6f-4603-9e46-74b468dc6a4b",
   "metadata": {},
   "source": [
    "***"
   ]
  },
  {
   "cell_type": "markdown",
   "id": "3123cba7-2168-4887-bf98-a65fa199db70",
   "metadata": {},
   "source": [
    "***"
   ]
  },
  {
   "cell_type": "markdown",
   "id": "b3d3b8f7-6c4c-47ec-a517-76e02872c1a6",
   "metadata": {},
   "source": [
    "# Imports"
   ]
  },
  {
   "cell_type": "markdown",
   "id": "c6c4791a-9d48-4508-8338-79dabc7c1754",
   "metadata": {},
   "source": [
    "## Libraries and modules"
   ]
  },
  {
   "cell_type": "code",
   "execution_count": 4,
   "id": "017c251f-635b-4c62-a485-7a7783aed523",
   "metadata": {},
   "outputs": [],
   "source": [
    "import os\n",
    "\n",
    "import torch\n",
    "import torchvision\n",
    "\n",
    "from torchinfo import summary\n",
    "\n",
    "import lightly\n",
    "from lightly.models.modules.heads import SimSiamPredictionHead\n",
    "from lightly.models.modules.heads import SimSiamProjectionHead\n",
    "import copy\n",
    "\n",
    "import matplotlib.pyplot as plt\n",
    "import numpy as np\n",
    "import math\n",
    "import random\n",
    "\n",
    "# Training checks.\n",
    "import time\n",
    "\n",
    "# Showing images in the notebook.\n",
    "from IPython.display import Image\n",
    "from IPython.core.display import HTML\n",
    "\n",
    "# PyTorch TensorBoard support\n",
    "from torch.utils.tensorboard import SummaryWriter\n",
    "from datetime import datetime"
   ]
  },
  {
   "cell_type": "markdown",
   "id": "b80aa854-ce45-46ef-806a-18a1fac093f7",
   "metadata": {},
   "source": [
    "## Settings"
   ]
  },
  {
   "cell_type": "code",
   "execution_count": 5,
   "id": "15910bd0-a14d-4352-832d-d5787ec9d860",
   "metadata": {},
   "outputs": [],
   "source": [
    "# Training on GPU.\n",
    "device = 'cuda' if torch.cuda.is_available() else 'cpu'"
   ]
  },
  {
   "cell_type": "code",
   "execution_count": 6,
   "id": "87bf93d6-efdf-429b-8521-41c0a35f4838",
   "metadata": {},
   "outputs": [],
   "source": [
    "# Hyperparamenters.\n",
    "input_size = 224  # old_input_size = 256\n",
    "batch_size = 128   # old_batch_size = 128\n",
    "num_workers = 8\n",
    "\n",
    "EPOCHS = 25"
   ]
  },
  {
   "cell_type": "markdown",
   "id": "977f3f16-a19f-48f2-beab-cb5c97159106",
   "metadata": {},
   "source": [
    "## Reproducibility"
   ]
  },
  {
   "cell_type": "code",
   "execution_count": 7,
   "id": "0d55f4a9-b9a2-40da-a96e-cf95c22eea8b",
   "metadata": {},
   "outputs": [],
   "source": [
    "# Seed torch and numpy.\n",
    "os.environ['PYTHONHASHSEED'] = str(SEED)\n",
    "torch.manual_seed(SEED)\n",
    "np.random.seed(SEED)\n",
    "random.seed(SEED)\n",
    "\n",
    "# Enable CUDNN deterministic mode.\n",
    "torch.backends.cudnn.deterministic = True\n",
    "torch.backends.cudnn.benchmark = False\n",
    "\n",
    "# Issues a warning if it is not met.\n",
    "torch.use_deterministic_algorithms(True)"
   ]
  },
  {
   "cell_type": "code",
   "execution_count": 8,
   "id": "4440ad27-f875-4730-8c3a-c583a34a817a",
   "metadata": {},
   "outputs": [
    {
     "data": {
      "text/plain": [
       "<torch._C.Generator at 0x7f8f3c55ea90>"
      ]
     },
     "execution_count": 8,
     "metadata": {},
     "output_type": "execute_result"
    }
   ],
   "source": [
    "# For dataloaders.\n",
    "def seed_worker(worker_id):\n",
    "    worker_seed = torch.initial_seed() % 2**32\n",
    "    np.random.seed(worker_seed)\n",
    "    random.seed(worker_seed)\n",
    "\n",
    "\n",
    "g = torch.Generator()\n",
    "g.manual_seed(SEED)"
   ]
  },
  {
   "cell_type": "code",
   "execution_count": 9,
   "id": "1964f0c0-fdc2-42cb-879e-8fb4c1053e3d",
   "metadata": {},
   "outputs": [],
   "source": [
    "# Enable deterministic behavior using external GPU.\n",
    "# %env CUBLAS_WORKSPACE_CONFIG=:4096:8\n",
    "# %env CUBLAS_WORKSPACE_CONFIG=:16:8\n",
    "os.environ['CUBLAS_WORKSPACE_CONFIG'] = ':16:8'"
   ]
  },
  {
   "cell_type": "markdown",
   "id": "89d940bd-cf06-40e7-aedd-65ff1f9980d7",
   "metadata": {},
   "source": [
    "***"
   ]
  },
  {
   "cell_type": "markdown",
   "id": "89bcd19d-b8ff-423a-a2de-5ed81895d678",
   "metadata": {},
   "source": [
    "***"
   ]
  },
  {
   "cell_type": "markdown",
   "id": "bce58376-03c3-4e2d-be6d-8e5d50072143",
   "metadata": {},
   "source": [
    "# Loading dataset"
   ]
  },
  {
   "cell_type": "code",
   "execution_count": 10,
   "id": "b96744e7-0259-40bf-93aa-619e333de2a8",
   "metadata": {},
   "outputs": [],
   "source": [
    "data_dir_target = 'datasets/Sentinel2GlobalLULC_reduced_ratio_seed=' \\\n",
    "                  + str(SEED)"
   ]
  },
  {
   "cell_type": "markdown",
   "id": "4022454b-8858-4b93-98b7-742b14ffbe51",
   "metadata": {},
   "source": [
    "## Custom tranforms (w/o normalization)"
   ]
  },
  {
   "cell_type": "markdown",
   "id": "d9816d93-e2ce-4842-8707-aa3956045aa0",
   "metadata": {},
   "source": [
    "Define the augmentations for self-supervised learning."
   ]
  },
  {
   "cell_type": "code",
   "execution_count": 11,
   "id": "58793b73-fe2c-406b-b1d0-5bca993956f9",
   "metadata": {},
   "outputs": [],
   "source": [
    "# Data augmentations for the train dataset.\n",
    "train_transform = torchvision.transforms.Compose([\n",
    "    torchvision.transforms.Resize((input_size, input_size)),\n",
    "    torchvision.transforms.RandomResizedCrop(size=input_size,\n",
    "                                             scale=(0.2, 1.0)),\n",
    "    torchvision.transforms.RandomHorizontalFlip(p=0.5),\n",
    "    torchvision.transforms.RandomVerticalFlip(p=0.5),\n",
    "    torchvision.transforms.GaussianBlur(21),\n",
    "    torchvision.transforms.ToTensor(),\n",
    "])\n",
    "\n",
    "# Data augmentations for the val and test datasets.\n",
    "test_transform = torchvision.transforms.Compose([\n",
    "    torchvision.transforms.Resize((input_size, input_size)),\n",
    "    torchvision.transforms.ToTensor(),\n",
    "])"
   ]
  },
  {
   "cell_type": "markdown",
   "id": "7ac31fc9-ef1b-49ff-bce1-6b913422346d",
   "metadata": {},
   "source": [
    "## ImageFolder"
   ]
  },
  {
   "cell_type": "code",
   "execution_count": 12,
   "id": "55b48ae6-b974-41a3-99b0-4fccdd6a62fc",
   "metadata": {},
   "outputs": [],
   "source": [
    "# Loading the three datasets.\n",
    "train_data = torchvision.datasets.ImageFolder(data_dir_target + '/train/',\n",
    "                                              transform=train_transform)\n",
    "\n",
    "val_data = torchvision.datasets.ImageFolder(data_dir_target + '/val/',\n",
    "                                            transform=test_transform)\n",
    "\n",
    "test_data = torchvision.datasets.ImageFolder(data_dir_target + '/test/',\n",
    "                                             transform=test_transform)"
   ]
  },
  {
   "cell_type": "code",
   "execution_count": 13,
   "id": "8c3518a1-2aeb-4e8d-bfde-7c30f4df195a",
   "metadata": {},
   "outputs": [
    {
     "name": "stdout",
     "output_type": "stream",
     "text": [
      "['01_BarrenLands___jpeg', '02_MossAndLichen_jpeg', '03_Grasslands____jpeg', '04_ShrublandOpen_jpeg', '05_SrublandClose_jpeg', '06_ForestsOpDeBr_jpeg', '07_ForestsClDeBr_jpeg', '08_ForestsDeDeBr_jpeg', '09_ForestsOpDeNe_jpeg', '10_ForestsClDeNe_jpeg', '11_ForestsDeDeNe_jpeg', '12_ForestsOpEvBr_jpeg', '13_ForestsClEvBr_jpeg', '14_ForestsDeEvBr_jpeg', '15_ForestsOpEvNe_jpeg', '16_ForestsClEvNe_jpeg', '17_ForestsDeEvNe_jpeg', '18_WetlandMangro_jpeg', '19_WetlandSwamps_jpeg', '20_WetlandMarshl_jpeg', '21_WaterBodyMari_jpeg', '22_WaterBodyCont_jpeg', '23_PermanentSnow_jpeg', '24_CropSeasWater_jpeg', '25_CropCereaIrri_jpeg', '26_CropCereaRain_jpeg', '27_CropBroadIrri_jpeg', '28_CropBroadRain_jpeg', '29_UrbanBlUpArea_jpeg']\n"
     ]
    }
   ],
   "source": [
    "# Get classes and number.\n",
    "class_names = train_data.classes\n",
    "print(class_names)"
   ]
  },
  {
   "cell_type": "markdown",
   "id": "660ba5f0-e15f-47c3-b614-bf44c75c67e3",
   "metadata": {},
   "source": [
    "## PyTorch dataloaders"
   ]
  },
  {
   "cell_type": "code",
   "execution_count": 14,
   "id": "95a77009-440f-45af-8bd1-feaa61adef9d",
   "metadata": {},
   "outputs": [],
   "source": [
    "# Dataloader for training.\n",
    "dataloader_train = torch.utils.data.DataLoader(\n",
    "    train_data,\n",
    "    batch_size=batch_size,\n",
    "    shuffle=True,\n",
    "    drop_last=True,\n",
    "    num_workers=num_workers,\n",
    "    worker_init_fn=seed_worker,\n",
    "    generator=g\n",
    ")\n",
    "\n",
    "# Dataloader for validating.\n",
    "dataloader_val = torch.utils.data.DataLoader(\n",
    "    val_data,\n",
    "    batch_size=batch_size,\n",
    "    shuffle=False,\n",
    "    drop_last=False,\n",
    "    num_workers=num_workers,\n",
    "    worker_init_fn=seed_worker,\n",
    "    generator=g\n",
    ")\n",
    "\n",
    "# Dataloader for embedding.\n",
    "dataloader_test = torch.utils.data.DataLoader(\n",
    "    test_data,\n",
    "    batch_size=batch_size,\n",
    "    shuffle=False,\n",
    "    drop_last=False,\n",
    "    num_workers=num_workers,\n",
    "    worker_init_fn=seed_worker,\n",
    "    generator=g\n",
    ")"
   ]
  },
  {
   "cell_type": "markdown",
   "id": "edeaaff0-6d50-4888-85cd-63de0902668d",
   "metadata": {},
   "source": [
    "## Check the balance and size of the dataset"
   ]
  },
  {
   "cell_type": "code",
   "execution_count": 15,
   "id": "d1aa664a-1c20-4aef-876a-327fdaee8c8e",
   "metadata": {},
   "outputs": [
    {
     "name": "stdout",
     "output_type": "stream",
     "text": [
      "(array([ 0,  1,  2,  3,  4,  5,  6,  7,  8,  9, 10, 11, 12, 13, 14, 15, 16,\n",
      "       17, 18, 19, 20, 21, 22, 23, 24, 25, 26, 27, 28]), array([140,  46,  88, 140, 119,  44,  13, 140, 104,  63,  28,   5,  12,\n",
      "       140,  39,  38, 139,   4,   4,  42, 140, 140, 140,  20,   8,  10,\n",
      "         3,   4, 125]))\n"
     ]
    }
   ],
   "source": [
    "# Check samples per class in train dataset.\n",
    "print(np.unique(train_data.targets, return_counts=True))"
   ]
  },
  {
   "cell_type": "code",
   "execution_count": 16,
   "id": "259c5f14-2cc4-4867-9bcf-a053e94d082c",
   "metadata": {},
   "outputs": [
    {
     "name": "stdout",
     "output_type": "stream",
     "text": [
      "(array([ 0,  1,  2,  3,  4,  5,  6,  7,  8,  9, 10, 11, 12, 13, 14, 15, 16,\n",
      "       17, 18, 19, 20, 21, 22, 23, 24, 25, 26, 27, 28]), array([13720,  4564,  8693, 13720, 11699,  4349,  1322, 13720, 10230,\n",
      "        6254,  2824,   557,  1234, 13720,  3836,  3796, 13713,   408,\n",
      "         479,  4121, 13720, 13720, 13720,  1964,   826,  1000,   347,\n",
      "         405, 12340]))\n"
     ]
    }
   ],
   "source": [
    "# Check samples per class in test dataset.\n",
    "print(np.unique(test_data.targets, return_counts=True))"
   ]
  },
  {
   "cell_type": "code",
   "execution_count": 17,
   "id": "a1562cd9-5ba7-4e07-aa5b-143c703a644a",
   "metadata": {},
   "outputs": [
    {
     "name": "stdout",
     "output_type": "stream",
     "text": [
      "1938\n",
      "N samples in train dataset: 1938\n",
      "N samples in train dataset: 1938\n",
      "N batches in train dataset: 15\n"
     ]
    }
   ],
   "source": [
    "# Print some stats from the train dataset.\n",
    "print(len(train_data.targets))\n",
    "\n",
    "# Print some stats from the train dataloader.\n",
    "print('N samples in train dataset: ' + str(len(dataloader_train.sampler)))\n",
    "print('N samples in train dataset: ' + str(len(dataloader_train.dataset)))\n",
    "print('N batches in train dataset: ' + str(len(dataloader_train)))"
   ]
  },
  {
   "cell_type": "code",
   "execution_count": 18,
   "id": "069e5780-0557-4a29-834b-41f00cf56ff5",
   "metadata": {},
   "outputs": [
    {
     "name": "stdout",
     "output_type": "stream",
     "text": [
      "1938\n",
      "N samples in val dataset: 1938\n",
      "N batches in val dataset: 16\n"
     ]
    }
   ],
   "source": [
    "# Print some stats from the val dataset.\n",
    "print(len(val_data.targets))\n",
    "\n",
    "# Print some stats from the val dataloader.\n",
    "print('N samples in val dataset: ' + str(len(dataloader_val.dataset)))\n",
    "print('N batches in val dataset: ' + str(len(dataloader_val)))"
   ]
  },
  {
   "cell_type": "code",
   "execution_count": 19,
   "id": "2a1ca802-c715-45e4-93cc-62eaaab062b7",
   "metadata": {},
   "outputs": [
    {
     "name": "stdout",
     "output_type": "stream",
     "text": [
      "191001\n",
      "N samples in test dataset: 191001\n",
      "N batches in test dataset: 1493\n"
     ]
    }
   ],
   "source": [
    "# Print some stats from the test dataset.\n",
    "print(len(test_data.targets))\n",
    "\n",
    "# Print some stats from the test dataloader.\n",
    "print('N samples in test dataset: ' + str(len(dataloader_test.dataset)))\n",
    "print('N batches in test dataset: ' + str(len(dataloader_test)))"
   ]
  },
  {
   "cell_type": "markdown",
   "id": "6bc00d03-ff40-4c82-8982-27aff5d9927f",
   "metadata": {},
   "source": [
    "## See some samples (pytorch dataset)"
   ]
  },
  {
   "cell_type": "code",
   "execution_count": 20,
   "id": "69e34469-dddd-42fa-ba43-6f5da105f6f2",
   "metadata": {},
   "outputs": [
    {
     "name": "stdout",
     "output_type": "stream",
     "text": [
      "Feature batch shape: torch.Size([128, 3, 224, 224])\n",
      "Labels batch shape: torch.Size([128])\n"
     ]
    },
    {
     "data": {
      "image/png": "[encoded data removed]",
      "text/plain": [
       "<Figure size 432x288 with 1 Axes>"
      ]
     },
     "metadata": {
      "needs_background": "light"
     },
     "output_type": "display_data"
    },
    {
     "name": "stdout",
     "output_type": "stream",
     "text": [
      "Label: 04_ShrublandOpen_jpeg\n"
     ]
    }
   ],
   "source": [
    "# Display image and label.\n",
    "train_features, train_labels = next(iter(dataloader_train))\n",
    "print(f\"Feature batch shape: {train_features.size()}\")\n",
    "print(f\"Labels batch shape: {train_labels.size()}\")\n",
    "img = train_features[0].squeeze()\n",
    "label = train_labels[0]\n",
    "plt.imshow(torch.permute(img, (1, 2, 0)), cmap=\"gray\")\n",
    "plt.show()\n",
    "print(f\"Label: {class_names[label]}\")"
   ]
  },
  {
   "cell_type": "markdown",
   "id": "06196e35-2417-40f2-9bad-f197103911de",
   "metadata": {},
   "source": [
    "***"
   ]
  },
  {
   "cell_type": "markdown",
   "id": "2bb2512f-dd8c-4bcf-b5b6-fbb648845fd5",
   "metadata": {},
   "source": [
    "***"
   ]
  },
  {
   "cell_type": "markdown",
   "id": "29c8e405-4183-4e6b-97f6-34edd7fbf17b",
   "metadata": {},
   "source": [
    "# Training loop"
   ]
  },
  {
   "cell_type": "code",
   "execution_count": 21,
   "id": "437632b1-b33e-46a7-9c0c-5c0046318faf",
   "metadata": {},
   "outputs": [],
   "source": [
    "# Training function.\n",
    "def train_model(model, criterion, optimizer, device,\n",
    "                epochs=10, save_best_model=False):\n",
    "    \"\"\"\n",
    "    Main training function.\n",
    "\n",
    "    \"\"\"\n",
    "\n",
    "    print(f\"Using {device} device\")\n",
    "\n",
    "    # Avoiding \"CUDA out of memory\" in PyTorch.\n",
    "    torch.cuda.empty_cache()\n",
    "\n",
    "    # Loss history.\n",
    "    loss_values = {}\n",
    "    loss_values['train'] = []\n",
    "    loss_values['val'] = []\n",
    "    total_time = 0\n",
    "\n",
    "    # Saving best model's weights.\n",
    "    best_model_val_wts = copy.deepcopy(model.state_dict())\n",
    "    lowest_val_loss = 10000\n",
    "\n",
    "    # Model to GPU if available.\n",
    "    model.to(device)\n",
    "\n",
    "    # Iterating over the epochs.\n",
    "    for epoch in range(epochs):\n",
    "\n",
    "        # Initialize training loss.\n",
    "        running_train_loss = 0.0\n",
    "\n",
    "        # Start timer.\n",
    "        since = time.time()\n",
    "\n",
    "        for i, data in enumerate(dataloader_train):\n",
    "\n",
    "            # Get the inputs; data is a list of [inputs, labels].\n",
    "            inputs, labels = data[0].to(device), data[1].to(device)\n",
    "\n",
    "            # Enable training.\n",
    "            model.train()\n",
    "\n",
    "            # Zero the parameter gradients.\n",
    "            optimizer.zero_grad()\n",
    "\n",
    "            # Forward: make predictions.\n",
    "            outputs = model(inputs)\n",
    "\n",
    "            # Compute the loss and its gradients.\n",
    "            loss = criterion(outputs, labels)\n",
    "            loss.backward()\n",
    "\n",
    "            # Averaged loss across all training examples * batch_size.\n",
    "            running_train_loss += loss.item() * inputs.size(0)\n",
    "\n",
    "            if i % 200 == 199:\n",
    "                print(f'T[{epoch + 1}, {i + 1:5d}] | '\n",
    "                      f'Running loss: '\n",
    "                      f'{running_train_loss/(i*inputs.size(0)):.4f}')\n",
    "\n",
    "            # Adjust learning weights.\n",
    "            optimizer.step()\n",
    "\n",
    "        # Loss averaged across all training examples for the current epoch.\n",
    "        epoch_train_loss = running_train_loss / len(dataloader_train.sampler)\n",
    "\n",
    "        # Change model to evaluation mode.\n",
    "        model.eval()\n",
    "\n",
    "        # Initialize validating loss.\n",
    "        running_val_loss = 0.0\n",
    "        with torch.no_grad():\n",
    "            for j, vdata in enumerate(dataloader_val):\n",
    "\n",
    "                # Get the inputs; data is a list of [inputs, labels].\n",
    "                vinputs, vlabels = vdata[0].to(device), vdata[1].to(device)\n",
    "\n",
    "                # Forward: make predictions.\n",
    "                voutputs = model(vinputs)\n",
    "\n",
    "                # Compute the loss (w/o gradients).\n",
    "                vloss = criterion(voutputs, vlabels)\n",
    "\n",
    "                # Averaged loss across all validating examples * batch_size.\n",
    "                running_val_loss += vloss.item() * vinputs.size(0)\n",
    "\n",
    "                if j % 50 == 49:\n",
    "                    print(f'V[{epoch + 1}, {j + 1:5d}] | '\n",
    "                          f'Running loss: '\n",
    "                          f'{running_val_loss/(j*inputs.size(0)):.4f}')\n",
    "\n",
    "        # Loss averaged across all validating examples for the current epoch.\n",
    "        epoch_val_loss = running_val_loss / len(dataloader_val.sampler)\n",
    "\n",
    "        # Append loss values.\n",
    "        loss_values['train'].append(epoch_train_loss)\n",
    "        loss_values['val'].append(epoch_val_loss)\n",
    "\n",
    "        # Deep copy the weights of the model.\n",
    "        save_weights = epoch_val_loss < lowest_val_loss\n",
    "        if save_weights:\n",
    "            lowest_val_loss = epoch_val_loss\n",
    "            best_model_train_loss = epoch_train_loss\n",
    "            best_model_val_wts = copy.deepcopy(model.state_dict())\n",
    "\n",
    "        # End timer.\n",
    "        time_elapsed = time.time() - since\n",
    "        total_time += time_elapsed\n",
    "\n",
    "        # Show stats.\n",
    "        print(f'Epoch: {epoch} | '\n",
    "              f'Train loss: {epoch_train_loss:.4f} | '\n",
    "              f'Val loss: {epoch_val_loss:.4f} | '\n",
    "              f'Elapsed: {time_elapsed // 60:.0f}m '\n",
    "              f'{time_elapsed % 60:.0f}s | '\n",
    "              f'Save weights: {save_weights}')\n",
    "\n",
    "    print(f'\\nTraining completed in {total_time // 60:.0f}m '\n",
    "          f'{total_time % 60:.0f}s')\n",
    "\n",
    "    # Load best model weights.\n",
    "    model.load_state_dict(best_model_val_wts)\n",
    "\n",
    "    if save_best_model:\n",
    "\n",
    "        # Move to CPU before saving it.\n",
    "        model.to('cpu')\n",
    "\n",
    "        # Filename with stats.\n",
    "        save_path = f'pytorch_models/resnet18' \\\n",
    "                    f'-losses={best_model_train_loss:.2f}' \\\n",
    "                    f'_{lowest_val_loss:.2f}' \\\n",
    "                    f'-time={datetime.now():%Y_%m_%d-%H_%M_%S}'\n",
    "\n",
    "        # Save this pretrained model (recommended approach).\n",
    "        torch.save(model.state_dict(), save_path)\n",
    "\n",
    "        print('Model successfuly saved')\n",
    "\n",
    "        # Move back to the GPU.\n",
    "        model.to(device)\n",
    "\n",
    "    return model, loss_values"
   ]
  },
  {
   "cell_type": "code",
   "execution_count": 22,
   "id": "ff3a7f82-4423-4d81-85a8-0ecbaba41c89",
   "metadata": {},
   "outputs": [],
   "source": [
    "def plot_losses(loss_history, title='', save_fig=False):\n",
    "    \"\"\"\n",
    "    Function for plotting the training and validation losses\n",
    "\n",
    "    \"\"\"\n",
    "\n",
    "    fig = plt.figure(figsize=(10, 5))\n",
    "    plt.plot(loss_history['train'], label='Train')\n",
    "    plt.plot(loss_history['val'], label='Validation')\n",
    "    plt.xlabel('Epoch', labelpad=15)\n",
    "    plt.ylabel('Loss', labelpad=15)\n",
    "    plt.title(title)\n",
    "    plt.gcf().subplots_adjust(bottom=0.15)\n",
    "    plt.gcf().subplots_adjust(left=0.15)\n",
    "    plt.legend(loc='best')\n",
    "    plt.tight_layout()\n",
    "    plt.show()\n",
    "\n",
    "    if save_fig:\n",
    "        fig.savefig('plt_loss_values.pdf', bbox_inches='tight')"
   ]
  },
  {
   "cell_type": "code",
   "execution_count": 23,
   "id": "72ff272e-4786-4a49-b7fc-73ce774a88af",
   "metadata": {},
   "outputs": [],
   "source": [
    "def evaluation_on_test(model, device):\n",
    "    \"\"\"\n",
    "    Function to evaluate the performance\n",
    "    of the model on the test dataset.\n",
    "\n",
    "    \"\"\"\n",
    "\n",
    "    # Avoiding \"CUDA out of memory\" in PyTorch.\n",
    "    torch.cuda.empty_cache()\n",
    "\n",
    "    correct = 0\n",
    "    total = 0\n",
    "\n",
    "    # Since we're not training, we don't need to calculate\n",
    "    # the gradients for our outputs with torch.no_grad():\n",
    "    model.eval()\n",
    "    with torch.no_grad():\n",
    "        for i, data in enumerate(dataloader_test):\n",
    "\n",
    "            # Dataset.\n",
    "            inputs, labels = data[0].to(device), data[1].to(device)\n",
    "\n",
    "            # Calculate outputs by running images through the network.\n",
    "            outputs = model(inputs)\n",
    "\n",
    "            # The class with the highest energy is what we\n",
    "            # choose as prediction.\n",
    "            _, predicted = torch.max(outputs.data, 1)\n",
    "            total += labels.size(0)\n",
    "            correct += (predicted == labels).sum().item()\n",
    "\n",
    "            # Progress bar.\n",
    "            if i % 50 == 49:\n",
    "                print(f'Progress: {100 * i // len(dataloader_test)}%',\n",
    "                      end='\\r',\n",
    "                      flush=True)\n",
    "\n",
    "    print(f'Accuracy of the network on the {total} '\n",
    "          f'test images: {100 * correct // total}%')"
   ]
  },
  {
   "cell_type": "markdown",
   "id": "df4c48da-0289-4350-8641-62c207d44143",
   "metadata": {},
   "source": [
    "***"
   ]
  },
  {
   "cell_type": "markdown",
   "id": "18762958-4bb5-4a9e-a642-e5cecbc0f8f1",
   "metadata": {},
   "source": [
    "***"
   ]
  },
  {
   "cell_type": "markdown",
   "id": "2ce24b86-e4e5-442a-876a-782db427e0c3",
   "metadata": {},
   "source": [
    "# ResNet18 from scrath"
   ]
  },
  {
   "cell_type": "markdown",
   "id": "ea5b72a3-8fd8-45fe-8353-e77cdc5f99d6",
   "metadata": {},
   "source": [
    "## Definition and hyperparameters"
   ]
  },
  {
   "cell_type": "code",
   "execution_count": 24,
   "id": "8b373932-506b-45a0-9301-d182e038d965",
   "metadata": {},
   "outputs": [],
   "source": [
    "# Model: resnet with random weights.\n",
    "model = torchvision.models.resnet18(weights=None)"
   ]
  },
  {
   "cell_type": "markdown",
   "id": "f8627587-6558-4637-b5b2-f8e0cdc7b3ea",
   "metadata": {},
   "source": [
    "## Adjust final layer"
   ]
  },
  {
   "cell_type": "markdown",
   "id": "0d714e83-002f-4f1a-b240-cf7e80ae41ca",
   "metadata": {},
   "source": [
    "Type: linear not softmax for the moment."
   ]
  },
  {
   "cell_type": "code",
   "execution_count": 25,
   "id": "974ad1ef-8697-41ab-a1af-1b6f615715c6",
   "metadata": {},
   "outputs": [
    {
     "name": "stdout",
     "output_type": "stream",
     "text": [
      "Linear(in_features=512, out_features=1000, bias=True)\n",
      "512\n",
      "Linear(in_features=512, out_features=29, bias=True)\n"
     ]
    },
    {
     "data": {
      "text/plain": [
       "==========================================================================================\n",
       "Layer (type:depth-idx)                   Output Shape              Param #\n",
       "==========================================================================================\n",
       "ResNet                                   [128, 29]                 --\n",
       "├─Conv2d: 1-1                            [128, 64, 112, 112]       9,408\n",
       "├─BatchNorm2d: 1-2                       [128, 64, 112, 112]       128\n",
       "├─ReLU: 1-3                              [128, 64, 112, 112]       --\n",
       "├─MaxPool2d: 1-4                         [128, 64, 56, 56]         --\n",
       "├─Sequential: 1-5                        [128, 64, 56, 56]         --\n",
       "│    └─BasicBlock: 2-1                   [128, 64, 56, 56]         --\n",
       "│    │    └─Conv2d: 3-1                  [128, 64, 56, 56]         36,864\n",
       "│    │    └─BatchNorm2d: 3-2             [128, 64, 56, 56]         128\n",
       "│    │    └─ReLU: 3-3                    [128, 64, 56, 56]         --\n",
       "│    │    └─Conv2d: 3-4                  [128, 64, 56, 56]         36,864\n",
       "│    │    └─BatchNorm2d: 3-5             [128, 64, 56, 56]         128\n",
       "│    │    └─ReLU: 3-6                    [128, 64, 56, 56]         --\n",
       "│    └─BasicBlock: 2-2                   [128, 64, 56, 56]         --\n",
       "│    │    └─Conv2d: 3-7                  [128, 64, 56, 56]         36,864\n",
       "│    │    └─BatchNorm2d: 3-8             [128, 64, 56, 56]         128\n",
       "│    │    └─ReLU: 3-9                    [128, 64, 56, 56]         --\n",
       "│    │    └─Conv2d: 3-10                 [128, 64, 56, 56]         36,864\n",
       "│    │    └─BatchNorm2d: 3-11            [128, 64, 56, 56]         128\n",
       "│    │    └─ReLU: 3-12                   [128, 64, 56, 56]         --\n",
       "├─Sequential: 1-6                        [128, 128, 28, 28]        --\n",
       "│    └─BasicBlock: 2-3                   [128, 128, 28, 28]        --\n",
       "│    │    └─Conv2d: 3-13                 [128, 128, 28, 28]        73,728\n",
       "│    │    └─BatchNorm2d: 3-14            [128, 128, 28, 28]        256\n",
       "│    │    └─ReLU: 3-15                   [128, 128, 28, 28]        --\n",
       "│    │    └─Conv2d: 3-16                 [128, 128, 28, 28]        147,456\n",
       "│    │    └─BatchNorm2d: 3-17            [128, 128, 28, 28]        256\n",
       "│    │    └─Sequential: 3-18             [128, 128, 28, 28]        8,448\n",
       "│    │    └─ReLU: 3-19                   [128, 128, 28, 28]        --\n",
       "│    └─BasicBlock: 2-4                   [128, 128, 28, 28]        --\n",
       "│    │    └─Conv2d: 3-20                 [128, 128, 28, 28]        147,456\n",
       "│    │    └─BatchNorm2d: 3-21            [128, 128, 28, 28]        256\n",
       "│    │    └─ReLU: 3-22                   [128, 128, 28, 28]        --\n",
       "│    │    └─Conv2d: 3-23                 [128, 128, 28, 28]        147,456\n",
       "│    │    └─BatchNorm2d: 3-24            [128, 128, 28, 28]        256\n",
       "│    │    └─ReLU: 3-25                   [128, 128, 28, 28]        --\n",
       "├─Sequential: 1-7                        [128, 256, 14, 14]        --\n",
       "│    └─BasicBlock: 2-5                   [128, 256, 14, 14]        --\n",
       "│    │    └─Conv2d: 3-26                 [128, 256, 14, 14]        294,912\n",
       "│    │    └─BatchNorm2d: 3-27            [128, 256, 14, 14]        512\n",
       "│    │    └─ReLU: 3-28                   [128, 256, 14, 14]        --\n",
       "│    │    └─Conv2d: 3-29                 [128, 256, 14, 14]        589,824\n",
       "│    │    └─BatchNorm2d: 3-30            [128, 256, 14, 14]        512\n",
       "│    │    └─Sequential: 3-31             [128, 256, 14, 14]        33,280\n",
       "│    │    └─ReLU: 3-32                   [128, 256, 14, 14]        --\n",
       "│    └─BasicBlock: 2-6                   [128, 256, 14, 14]        --\n",
       "│    │    └─Conv2d: 3-33                 [128, 256, 14, 14]        589,824\n",
       "│    │    └─BatchNorm2d: 3-34            [128, 256, 14, 14]        512\n",
       "│    │    └─ReLU: 3-35                   [128, 256, 14, 14]        --\n",
       "│    │    └─Conv2d: 3-36                 [128, 256, 14, 14]        589,824\n",
       "│    │    └─BatchNorm2d: 3-37            [128, 256, 14, 14]        512\n",
       "│    │    └─ReLU: 3-38                   [128, 256, 14, 14]        --\n",
       "├─Sequential: 1-8                        [128, 512, 7, 7]          --\n",
       "│    └─BasicBlock: 2-7                   [128, 512, 7, 7]          --\n",
       "│    │    └─Conv2d: 3-39                 [128, 512, 7, 7]          1,179,648\n",
       "│    │    └─BatchNorm2d: 3-40            [128, 512, 7, 7]          1,024\n",
       "│    │    └─ReLU: 3-41                   [128, 512, 7, 7]          --\n",
       "│    │    └─Conv2d: 3-42                 [128, 512, 7, 7]          2,359,296\n",
       "│    │    └─BatchNorm2d: 3-43            [128, 512, 7, 7]          1,024\n",
       "│    │    └─Sequential: 3-44             [128, 512, 7, 7]          132,096\n",
       "│    │    └─ReLU: 3-45                   [128, 512, 7, 7]          --\n",
       "│    └─BasicBlock: 2-8                   [128, 512, 7, 7]          --\n",
       "│    │    └─Conv2d: 3-46                 [128, 512, 7, 7]          2,359,296\n",
       "│    │    └─BatchNorm2d: 3-47            [128, 512, 7, 7]          1,024\n",
       "│    │    └─ReLU: 3-48                   [128, 512, 7, 7]          --\n",
       "│    │    └─Conv2d: 3-49                 [128, 512, 7, 7]          2,359,296\n",
       "│    │    └─BatchNorm2d: 3-50            [128, 512, 7, 7]          1,024\n",
       "│    │    └─ReLU: 3-51                   [128, 512, 7, 7]          --\n",
       "├─AdaptiveAvgPool2d: 1-9                 [128, 512, 1, 1]          --\n",
       "├─Linear: 1-10                           [128, 29]                 14,877\n",
       "==========================================================================================\n",
       "Total params: 11,191,389\n",
       "Trainable params: 11,191,389\n",
       "Non-trainable params: 0\n",
       "Total mult-adds (G): 232.14\n",
       "==========================================================================================\n",
       "Input size (MB): 77.07\n",
       "Forward/backward pass size (MB): 5086.67\n",
       "Params size (MB): 44.77\n",
       "Estimated Total Size (MB): 5208.51\n",
       "=========================================================================================="
      ]
     },
     "execution_count": 25,
     "metadata": {},
     "output_type": "execute_result"
    }
   ],
   "source": [
    "# Check old final layer.\n",
    "print(model.fc)\n",
    "\n",
    "# Get the number of input features to the layer.\n",
    "num_ftrs = model.fc.in_features\n",
    "print(num_ftrs)\n",
    "\n",
    "# Adjust the final layer to the current number of classes.\n",
    "model.fc = torch.nn.Linear(num_ftrs, len(class_names))\n",
    "\n",
    "# Check new final layer.\n",
    "print(model.fc)\n",
    "\n",
    "# # Freezing all the network except the final layer.\n",
    "# for param in model.parameters():\n",
    "#     param.requires_grad = False\n",
    "# for param in model.fc.parameters():\n",
    "#     param.requires_grad = True\n",
    "\n",
    "# Model structure.\n",
    "summary(\n",
    "    model,\n",
    "    input_size=(batch_size, 3, input_size, input_size),\n",
    "    device=device\n",
    ")"
   ]
  },
  {
   "cell_type": "markdown",
   "id": "d2fdf194-24c8-45c3-bf12-d6ac176df30e",
   "metadata": {},
   "source": [
    "## Loss fcn and optimizer"
   ]
  },
  {
   "cell_type": "code",
   "execution_count": 26,
   "id": "b3ea9cdf-c59e-4e10-94b5-f6017bda668c",
   "metadata": {},
   "outputs": [],
   "source": [
    "# Loss function: cross-entropy loss.\n",
    "loss_fn = torch.nn.CrossEntropyLoss()\n",
    "\n",
    "# Optimizers: specified in the torch.optim package\n",
    "optimizer = torch.optim.Adam(model.parameters(),\n",
    "                             lr=0.001)"
   ]
  },
  {
   "cell_type": "markdown",
   "id": "42ee9848-8c21-489d-8adc-2fc0e0bff9b0",
   "metadata": {},
   "source": [
    "## Training"
   ]
  },
  {
   "cell_type": "code",
   "execution_count": 27,
   "id": "ba464d96-1913-43ef-96c4-59b5fdf9b65c",
   "metadata": {},
   "outputs": [
    {
     "name": "stdout",
     "output_type": "stream",
     "text": [
      "Using cuda device\n",
      "Epoch: 0 | Train loss: 1.9660 | Val loss: 6.9562 | Elapsed: 0m 8s | Save weights: True\n",
      "Epoch: 1 | Train loss: 1.2727 | Val loss: 4.0568 | Elapsed: 0m 7s | Save weights: True\n",
      "Epoch: 2 | Train loss: 1.1273 | Val loss: 2.6492 | Elapsed: 0m 7s | Save weights: True\n",
      "Epoch: 3 | Train loss: 1.0918 | Val loss: 2.2406 | Elapsed: 0m 8s | Save weights: True\n",
      "Epoch: 4 | Train loss: 1.0291 | Val loss: 1.3137 | Elapsed: 0m 8s | Save weights: True\n",
      "Epoch: 5 | Train loss: 1.0326 | Val loss: 1.4477 | Elapsed: 0m 8s | Save weights: False\n",
      "Epoch: 6 | Train loss: 1.0200 | Val loss: 1.6466 | Elapsed: 0m 8s | Save weights: False\n",
      "Epoch: 7 | Train loss: 0.9315 | Val loss: 1.8640 | Elapsed: 0m 8s | Save weights: False\n",
      "Epoch: 8 | Train loss: 0.8791 | Val loss: 2.0126 | Elapsed: 0m 8s | Save weights: False\n",
      "Epoch: 9 | Train loss: 0.9361 | Val loss: 2.3492 | Elapsed: 0m 8s | Save weights: False\n",
      "Epoch: 10 | Train loss: 0.8162 | Val loss: 1.6214 | Elapsed: 0m 8s | Save weights: False\n",
      "Epoch: 11 | Train loss: 0.7996 | Val loss: 1.8187 | Elapsed: 0m 8s | Save weights: False\n",
      "Epoch: 12 | Train loss: 0.8557 | Val loss: 2.0907 | Elapsed: 0m 8s | Save weights: False\n",
      "Epoch: 13 | Train loss: 0.7644 | Val loss: 2.3026 | Elapsed: 0m 8s | Save weights: False\n",
      "Epoch: 14 | Train loss: 0.7505 | Val loss: 1.2587 | Elapsed: 0m 8s | Save weights: True\n",
      "Epoch: 15 | Train loss: 0.7921 | Val loss: 2.4068 | Elapsed: 0m 8s | Save weights: False\n",
      "Epoch: 16 | Train loss: 0.7630 | Val loss: 1.4339 | Elapsed: 0m 8s | Save weights: False\n",
      "Epoch: 17 | Train loss: 0.7403 | Val loss: 2.0514 | Elapsed: 0m 8s | Save weights: False\n",
      "Epoch: 18 | Train loss: 0.7546 | Val loss: 1.4652 | Elapsed: 0m 7s | Save weights: False\n",
      "Epoch: 19 | Train loss: 0.7042 | Val loss: 2.7504 | Elapsed: 0m 8s | Save weights: False\n",
      "Epoch: 20 | Train loss: 0.7863 | Val loss: 2.7668 | Elapsed: 0m 8s | Save weights: False\n",
      "Epoch: 21 | Train loss: 0.7762 | Val loss: 6.4552 | Elapsed: 0m 8s | Save weights: False\n",
      "Epoch: 22 | Train loss: 0.7364 | Val loss: 2.3067 | Elapsed: 0m 8s | Save weights: False\n",
      "Epoch: 23 | Train loss: 0.7175 | Val loss: 1.5344 | Elapsed: 0m 8s | Save weights: False\n",
      "Epoch: 24 | Train loss: 0.7185 | Val loss: 1.6908 | Elapsed: 0m 8s | Save weights: False\n",
      "\n",
      "Training completed in 3m 11s\n",
      "Model successfuly saved\n"
     ]
    },
    {
     "data": {
      "image/png": "[encoded data removed]",
      "text/plain": [
       "<Figure size 720x360 with 1 Axes>"
      ]
     },
     "metadata": {
      "needs_background": "light"
     },
     "output_type": "display_data"
    }
   ],
   "source": [
    "model, loss_history = train_model(\n",
    "    model,\n",
    "    loss_fn,\n",
    "    optimizer,\n",
    "    device,\n",
    "    epochs=EPOCHS,\n",
    "    save_best_model=True\n",
    ")\n",
    "\n",
    "plot_losses(loss_history, 'Model w/o pretrained weights')"
   ]
  },
  {
   "cell_type": "markdown",
   "id": "fa0504b3-ae1c-4836-87e9-3c45e93b92d7",
   "metadata": {},
   "source": [
    "## Check performance on test dataset"
   ]
  },
  {
   "cell_type": "code",
   "execution_count": 28,
   "id": "5515fcfa-ed16-42f9-8b70-992fde11c8c3",
   "metadata": {},
   "outputs": [
    {
     "name": "stdout",
     "output_type": "stream",
     "text": [
      "Accuracy of the network on the 191001 test images: 58%\n"
     ]
    }
   ],
   "source": [
    "evaluation_on_test(model, device)"
   ]
  },
  {
   "cell_type": "markdown",
   "id": "b6d101e8-426c-408d-a5fc-345d08a4434d",
   "metadata": {},
   "source": [
    "***"
   ]
  },
  {
   "cell_type": "markdown",
   "id": "04d76c1c-8bf2-4b5e-ae24-9fd71ab6b7b0",
   "metadata": {},
   "source": [
    "***"
   ]
  },
  {
   "cell_type": "markdown",
   "id": "cf4b22ad-185d-4251-8545-744f9e403c59",
   "metadata": {},
   "source": [
    "# ResNet18 with pretrained weights"
   ]
  },
  {
   "cell_type": "markdown",
   "id": "49e46b01-7e1d-4215-b2ae-c0afa84c82ac",
   "metadata": {},
   "source": [
    "## Definition and hyperparameters"
   ]
  },
  {
   "cell_type": "code",
   "execution_count": 29,
   "id": "472cdf9a-2854-4bd0-8ef5-4e5d179f0019",
   "metadata": {},
   "outputs": [],
   "source": [
    "# Model: resnet with pretrained weights.\n",
    "del model\n",
    "model = torchvision.models.resnet18(\n",
    "    weights=torchvision.models.ResNet18_Weights.DEFAULT\n",
    ")"
   ]
  },
  {
   "cell_type": "markdown",
   "id": "6eb9f8c6-dc14-4557-9ed2-b9d6084093b5",
   "metadata": {},
   "source": [
    "## Adjust final layer"
   ]
  },
  {
   "cell_type": "code",
   "execution_count": 30,
   "id": "1a63f366-3feb-40fa-bbcf-117fbca74817",
   "metadata": {},
   "outputs": [
    {
     "name": "stdout",
     "output_type": "stream",
     "text": [
      "Linear(in_features=512, out_features=1000, bias=True)\n",
      "512\n",
      "Linear(in_features=512, out_features=29, bias=True)\n"
     ]
    },
    {
     "data": {
      "text/plain": [
       "==========================================================================================\n",
       "Layer (type:depth-idx)                   Output Shape              Param #\n",
       "==========================================================================================\n",
       "ResNet                                   [128, 29]                 --\n",
       "├─Conv2d: 1-1                            [128, 64, 112, 112]       9,408\n",
       "├─BatchNorm2d: 1-2                       [128, 64, 112, 112]       128\n",
       "├─ReLU: 1-3                              [128, 64, 112, 112]       --\n",
       "├─MaxPool2d: 1-4                         [128, 64, 56, 56]         --\n",
       "├─Sequential: 1-5                        [128, 64, 56, 56]         --\n",
       "│    └─BasicBlock: 2-1                   [128, 64, 56, 56]         --\n",
       "│    │    └─Conv2d: 3-1                  [128, 64, 56, 56]         36,864\n",
       "│    │    └─BatchNorm2d: 3-2             [128, 64, 56, 56]         128\n",
       "│    │    └─ReLU: 3-3                    [128, 64, 56, 56]         --\n",
       "│    │    └─Conv2d: 3-4                  [128, 64, 56, 56]         36,864\n",
       "│    │    └─BatchNorm2d: 3-5             [128, 64, 56, 56]         128\n",
       "│    │    └─ReLU: 3-6                    [128, 64, 56, 56]         --\n",
       "│    └─BasicBlock: 2-2                   [128, 64, 56, 56]         --\n",
       "│    │    └─Conv2d: 3-7                  [128, 64, 56, 56]         36,864\n",
       "│    │    └─BatchNorm2d: 3-8             [128, 64, 56, 56]         128\n",
       "│    │    └─ReLU: 3-9                    [128, 64, 56, 56]         --\n",
       "│    │    └─Conv2d: 3-10                 [128, 64, 56, 56]         36,864\n",
       "│    │    └─BatchNorm2d: 3-11            [128, 64, 56, 56]         128\n",
       "│    │    └─ReLU: 3-12                   [128, 64, 56, 56]         --\n",
       "├─Sequential: 1-6                        [128, 128, 28, 28]        --\n",
       "│    └─BasicBlock: 2-3                   [128, 128, 28, 28]        --\n",
       "│    │    └─Conv2d: 3-13                 [128, 128, 28, 28]        73,728\n",
       "│    │    └─BatchNorm2d: 3-14            [128, 128, 28, 28]        256\n",
       "│    │    └─ReLU: 3-15                   [128, 128, 28, 28]        --\n",
       "│    │    └─Conv2d: 3-16                 [128, 128, 28, 28]        147,456\n",
       "│    │    └─BatchNorm2d: 3-17            [128, 128, 28, 28]        256\n",
       "│    │    └─Sequential: 3-18             [128, 128, 28, 28]        8,448\n",
       "│    │    └─ReLU: 3-19                   [128, 128, 28, 28]        --\n",
       "│    └─BasicBlock: 2-4                   [128, 128, 28, 28]        --\n",
       "│    │    └─Conv2d: 3-20                 [128, 128, 28, 28]        147,456\n",
       "│    │    └─BatchNorm2d: 3-21            [128, 128, 28, 28]        256\n",
       "│    │    └─ReLU: 3-22                   [128, 128, 28, 28]        --\n",
       "│    │    └─Conv2d: 3-23                 [128, 128, 28, 28]        147,456\n",
       "│    │    └─BatchNorm2d: 3-24            [128, 128, 28, 28]        256\n",
       "│    │    └─ReLU: 3-25                   [128, 128, 28, 28]        --\n",
       "├─Sequential: 1-7                        [128, 256, 14, 14]        --\n",
       "│    └─BasicBlock: 2-5                   [128, 256, 14, 14]        --\n",
       "│    │    └─Conv2d: 3-26                 [128, 256, 14, 14]        294,912\n",
       "│    │    └─BatchNorm2d: 3-27            [128, 256, 14, 14]        512\n",
       "│    │    └─ReLU: 3-28                   [128, 256, 14, 14]        --\n",
       "│    │    └─Conv2d: 3-29                 [128, 256, 14, 14]        589,824\n",
       "│    │    └─BatchNorm2d: 3-30            [128, 256, 14, 14]        512\n",
       "│    │    └─Sequential: 3-31             [128, 256, 14, 14]        33,280\n",
       "│    │    └─ReLU: 3-32                   [128, 256, 14, 14]        --\n",
       "│    └─BasicBlock: 2-6                   [128, 256, 14, 14]        --\n",
       "│    │    └─Conv2d: 3-33                 [128, 256, 14, 14]        589,824\n",
       "│    │    └─BatchNorm2d: 3-34            [128, 256, 14, 14]        512\n",
       "│    │    └─ReLU: 3-35                   [128, 256, 14, 14]        --\n",
       "│    │    └─Conv2d: 3-36                 [128, 256, 14, 14]        589,824\n",
       "│    │    └─BatchNorm2d: 3-37            [128, 256, 14, 14]        512\n",
       "│    │    └─ReLU: 3-38                   [128, 256, 14, 14]        --\n",
       "├─Sequential: 1-8                        [128, 512, 7, 7]          --\n",
       "│    └─BasicBlock: 2-7                   [128, 512, 7, 7]          --\n",
       "│    │    └─Conv2d: 3-39                 [128, 512, 7, 7]          1,179,648\n",
       "│    │    └─BatchNorm2d: 3-40            [128, 512, 7, 7]          1,024\n",
       "│    │    └─ReLU: 3-41                   [128, 512, 7, 7]          --\n",
       "│    │    └─Conv2d: 3-42                 [128, 512, 7, 7]          2,359,296\n",
       "│    │    └─BatchNorm2d: 3-43            [128, 512, 7, 7]          1,024\n",
       "│    │    └─Sequential: 3-44             [128, 512, 7, 7]          132,096\n",
       "│    │    └─ReLU: 3-45                   [128, 512, 7, 7]          --\n",
       "│    └─BasicBlock: 2-8                   [128, 512, 7, 7]          --\n",
       "│    │    └─Conv2d: 3-46                 [128, 512, 7, 7]          2,359,296\n",
       "│    │    └─BatchNorm2d: 3-47            [128, 512, 7, 7]          1,024\n",
       "│    │    └─ReLU: 3-48                   [128, 512, 7, 7]          --\n",
       "│    │    └─Conv2d: 3-49                 [128, 512, 7, 7]          2,359,296\n",
       "│    │    └─BatchNorm2d: 3-50            [128, 512, 7, 7]          1,024\n",
       "│    │    └─ReLU: 3-51                   [128, 512, 7, 7]          --\n",
       "├─AdaptiveAvgPool2d: 1-9                 [128, 512, 1, 1]          --\n",
       "├─Linear: 1-10                           [128, 29]                 14,877\n",
       "==========================================================================================\n",
       "Total params: 11,191,389\n",
       "Trainable params: 11,191,389\n",
       "Non-trainable params: 0\n",
       "Total mult-adds (G): 232.14\n",
       "==========================================================================================\n",
       "Input size (MB): 77.07\n",
       "Forward/backward pass size (MB): 5086.67\n",
       "Params size (MB): 44.77\n",
       "Estimated Total Size (MB): 5208.51\n",
       "=========================================================================================="
      ]
     },
     "execution_count": 30,
     "metadata": {},
     "output_type": "execute_result"
    }
   ],
   "source": [
    "# Check old final layer.\n",
    "print(model.fc)\n",
    "\n",
    "# Get the number of input features to the layer.\n",
    "num_ftrs = model.fc.in_features\n",
    "print(num_ftrs)\n",
    "\n",
    "# Adjust the final layer to the current number of classes.\n",
    "model.fc = torch.nn.Linear(num_ftrs, len(class_names))\n",
    "\n",
    "# Parameters of newly constructed modules\n",
    "# have requires_grad=True by default.\n",
    "# Check new final layer.\n",
    "print(model.fc)\n",
    "\n",
    "# # Freezing all the network except the final layer.\n",
    "# for param in model.parameters():\n",
    "#     param.requires_grad = False\n",
    "# for param in model.fc.parameters():\n",
    "#     param.requires_grad = True\n",
    "\n",
    "# Model structure.\n",
    "summary(\n",
    "    model,\n",
    "    input_size=(batch_size, 3, input_size, input_size),\n",
    "    device=device\n",
    ")"
   ]
  },
  {
   "cell_type": "markdown",
   "id": "0e916e25-8b38-4e14-beb4-f311126e01f1",
   "metadata": {},
   "source": [
    "## Loss fcn and optimizer"
   ]
  },
  {
   "cell_type": "code",
   "execution_count": 31,
   "id": "aaccb2dc-7957-4857-9bf7-b9eab949bee4",
   "metadata": {},
   "outputs": [],
   "source": [
    "# Loss function: cross-entropy loss.\n",
    "loss_fn = torch.nn.CrossEntropyLoss()\n",
    "\n",
    "# Optimizers: specified in the torch.optim package\n",
    "optimizer = torch.optim.Adam(model.parameters(),\n",
    "                             lr=0.001)"
   ]
  },
  {
   "cell_type": "markdown",
   "id": "425ec5c5-ddc4-4938-9720-8e07068997d0",
   "metadata": {},
   "source": [
    "## Training"
   ]
  },
  {
   "cell_type": "code",
   "execution_count": 32,
   "id": "b4ea3d48-0270-41dc-a48d-15953ffb23e6",
   "metadata": {},
   "outputs": [
    {
     "name": "stdout",
     "output_type": "stream",
     "text": [
      "Using cuda device\n",
      "Epoch: 0 | Train loss: 1.2653 | Val loss: 4.2820 | Elapsed: 0m 7s | Save weights: True\n",
      "Epoch: 1 | Train loss: 0.6769 | Val loss: 2.7695 | Elapsed: 0m 8s | Save weights: True\n",
      "Epoch: 2 | Train loss: 0.5282 | Val loss: 1.4228 | Elapsed: 0m 7s | Save weights: True\n",
      "Epoch: 3 | Train loss: 0.4962 | Val loss: 0.7445 | Elapsed: 0m 8s | Save weights: True\n",
      "Epoch: 4 | Train loss: 0.4237 | Val loss: 0.6790 | Elapsed: 0m 7s | Save weights: True\n",
      "Epoch: 5 | Train loss: 0.3715 | Val loss: 0.6953 | Elapsed: 0m 7s | Save weights: False\n",
      "Epoch: 6 | Train loss: 0.3808 | Val loss: 0.7442 | Elapsed: 0m 8s | Save weights: False\n",
      "Epoch: 7 | Train loss: 0.3360 | Val loss: 0.4368 | Elapsed: 0m 8s | Save weights: True\n",
      "Epoch: 8 | Train loss: 0.3495 | Val loss: 0.4153 | Elapsed: 0m 8s | Save weights: True\n",
      "Epoch: 9 | Train loss: 0.3475 | Val loss: 0.6358 | Elapsed: 0m 8s | Save weights: False\n",
      "Epoch: 10 | Train loss: 0.3229 | Val loss: 0.6770 | Elapsed: 0m 7s | Save weights: False\n",
      "Epoch: 11 | Train loss: 0.3219 | Val loss: 1.2608 | Elapsed: 0m 7s | Save weights: False\n",
      "Epoch: 12 | Train loss: 0.2884 | Val loss: 0.5337 | Elapsed: 0m 7s | Save weights: False\n",
      "Epoch: 13 | Train loss: 0.2831 | Val loss: 0.3341 | Elapsed: 0m 7s | Save weights: True\n",
      "Epoch: 14 | Train loss: 0.2406 | Val loss: 0.5562 | Elapsed: 0m 8s | Save weights: False\n",
      "Epoch: 15 | Train loss: 0.2598 | Val loss: 0.7960 | Elapsed: 0m 8s | Save weights: False\n",
      "Epoch: 16 | Train loss: 0.2468 | Val loss: 0.3873 | Elapsed: 0m 8s | Save weights: False\n",
      "Epoch: 17 | Train loss: 0.2348 | Val loss: 0.3798 | Elapsed: 0m 7s | Save weights: False\n",
      "Epoch: 18 | Train loss: 0.2333 | Val loss: 0.7216 | Elapsed: 0m 7s | Save weights: False\n",
      "Epoch: 19 | Train loss: 0.2197 | Val loss: 0.6007 | Elapsed: 0m 8s | Save weights: False\n",
      "Epoch: 20 | Train loss: 0.2040 | Val loss: 0.4187 | Elapsed: 0m 7s | Save weights: False\n",
      "Epoch: 21 | Train loss: 0.2093 | Val loss: 0.7202 | Elapsed: 0m 8s | Save weights: False\n",
      "Epoch: 22 | Train loss: 0.2054 | Val loss: 0.3289 | Elapsed: 0m 8s | Save weights: True\n",
      "Epoch: 23 | Train loss: 0.2232 | Val loss: 0.5161 | Elapsed: 0m 7s | Save weights: False\n",
      "Epoch: 24 | Train loss: 0.2466 | Val loss: 0.3730 | Elapsed: 0m 8s | Save weights: False\n",
      "\n",
      "Training completed in 3m 8s\n",
      "Model successfuly saved\n"
     ]
    },
    {
     "data": {
      "image/png": "[encoded data removed]",
      "text/plain": [
       "<Figure size 720x360 with 1 Axes>"
      ]
     },
     "metadata": {
      "needs_background": "light"
     },
     "output_type": "display_data"
    }
   ],
   "source": [
    "model, loss_history = train_model(\n",
    "    model,\n",
    "    loss_fn,\n",
    "    optimizer,\n",
    "    device,\n",
    "    epochs=EPOCHS,\n",
    "    save_best_model=True\n",
    ")\n",
    "\n",
    "plot_losses(loss_history, 'Model w/ pretrained weights')"
   ]
  },
  {
   "cell_type": "markdown",
   "id": "d3a40815-9743-42c6-8643-a963ce8533e6",
   "metadata": {},
   "source": [
    "## Check performance on test dataset"
   ]
  },
  {
   "cell_type": "code",
   "execution_count": 33,
   "id": "d8d9e847-5b2e-49fc-ad8e-92529b5410e7",
   "metadata": {},
   "outputs": [
    {
     "name": "stdout",
     "output_type": "stream",
     "text": [
      "Accuracy of the network on the 191001 test images: 89%\n"
     ]
    }
   ],
   "source": [
    "evaluation_on_test(model, device)"
   ]
  },
  {
   "cell_type": "markdown",
   "id": "36bba927-e499-45b7-9d32-bd5e83b8d257",
   "metadata": {},
   "source": [
    "***"
   ]
  },
  {
   "cell_type": "markdown",
   "id": "53a486bc-8b38-451a-9424-477585524559",
   "metadata": {},
   "source": [
    "***"
   ]
  },
  {
   "cell_type": "markdown",
   "id": "f806d186-1c7c-4423-8337-5d7f9433c746",
   "metadata": {},
   "source": [
    "# SSL model"
   ]
  },
  {
   "cell_type": "markdown",
   "id": "1839bbef-1ec9-4899-972b-9d6db8f2613c",
   "metadata": {},
   "source": [
    "## Loading"
   ]
  },
  {
   "cell_type": "code",
   "execution_count": 34,
   "id": "42234674-8005-4fcd-a76f-5d54f586fb3f",
   "metadata": {},
   "outputs": [],
   "source": [
    "# State model class.\n",
    "resnet18 = torchvision.models.resnet18(weights=None)\n",
    "\n",
    "# Only backbone (w/o final fc layer).\n",
    "pt_backbone = torch.nn.Sequential(*list(resnet18.children())[:-1])"
   ]
  },
  {
   "cell_type": "code",
   "execution_count": 35,
   "id": "147bd03f-ee69-4664-a0f3-57ea6aa78331",
   "metadata": {},
   "outputs": [
    {
     "name": "stdout",
     "output_type": "stream",
     "text": [
      "00: simsiam_backbone_resnet18-loss=-0.9625-coll=0.1829(0)_0.0361(0.044194)-time=2022_11_15_10_22_43\n",
      "01: simsiam_backbone_resnet18-loss=-0.9645-coll=0.2174(0)_0.0346(0.044194)-time=2022_11_15_10_13_31\n",
      "02: simsiam_backbone_resnet18-loss=-0.9712-coll=0.1918(0)_0.0357(0.044194)-time=2022_11_15_10_33_01\n",
      "03: simsiam_backbone_resnet18-loss=-0.9777-coll=0.1008(0)_0.0397(0.044194)-time=2022_11_15_09_53_50\n",
      "04: simsiam_backbone_resnet18-loss=-0.9829-coll=0.1427(0)_0.0379(0.044194)-time=2022_11_15_10_03_58\n"
     ]
    }
   ],
   "source": [
    "# List of trained models.\n",
    "model_list = []\n",
    "for root, dirs, files in os.walk('pytorch_models/simsiam/'):\n",
    "    for i, filename in enumerate(sorted(files, reverse=False)):\n",
    "        model_list.append(root + filename)\n",
    "        print(f'{i:02}: {filename}')"
   ]
  },
  {
   "cell_type": "code",
   "execution_count": 36,
   "id": "ad21f18d-da7d-4007-a8be-edd49331ed69",
   "metadata": {},
   "outputs": [
    {
     "name": "stdout",
     "output_type": "stream",
     "text": [
      "pytorch_models/simsiam/simsiam_backbone_resnet18-loss=-0.9777-coll=0.1008(0)_0.0397(0.044194)-time=2022_11_15_09_53_50\n"
     ]
    },
    {
     "data": {
      "text/plain": [
       "<All keys matched successfully>"
      ]
     },
     "execution_count": 36,
     "metadata": {},
     "output_type": "execute_result"
    }
   ],
   "source": [
    "# Loading model.\n",
    "idx = 3\n",
    "print(model_list[idx])\n",
    "pt_backbone.load_state_dict(torch.load(model_list[idx]))"
   ]
  },
  {
   "cell_type": "code",
   "execution_count": 37,
   "id": "0b953213-478a-41fc-8f77-c418c5cf9def",
   "metadata": {},
   "outputs": [
    {
     "data": {
      "text/plain": [
       "False"
      ]
     },
     "execution_count": 37,
     "metadata": {},
     "output_type": "execute_result"
    }
   ],
   "source": [
    "# Check if the model is loaded on GPU.\n",
    "next(pt_backbone.parameters()).is_cuda"
   ]
  },
  {
   "cell_type": "markdown",
   "id": "4bebf71e-7453-442a-898a-1a38825e025b",
   "metadata": {},
   "source": [
    "## Checking the weights"
   ]
  },
  {
   "cell_type": "code",
   "execution_count": 38,
   "id": "1d413d46-02cf-49a2-9a86-b39fbfaac08f",
   "metadata": {},
   "outputs": [
    {
     "name": "stdout",
     "output_type": "stream",
     "text": [
      "Conv2d(3, 64, kernel_size=(7, 7), stride=(2, 2), padding=(3, 3), bias=False)\n",
      "tensor([[[-4.7707e-02, -9.4591e-03,  1.2708e-03,  1.5682e-02,  7.2891e-04,\n",
      "          -1.2917e-03, -2.9619e-02],\n",
      "         [-2.9606e-02,  5.5604e-02,  9.2220e-02,  6.3633e-02, -7.5210e-03,\n",
      "          -1.7648e-02, -4.4546e-02],\n",
      "         [ 7.9238e-02,  1.4430e-01,  2.6459e-02, -1.7241e-01, -1.7130e-01,\n",
      "          -8.1119e-02, -7.3222e-02],\n",
      "         [ 1.0173e-01, -5.0173e-02, -3.4629e-01, -3.6428e-01, -7.0717e-02,\n",
      "           5.8550e-02,  2.8500e-02],\n",
      "         [-6.4034e-02, -2.4245e-01, -2.5068e-01,  2.6574e-02,  2.1406e-01,\n",
      "           1.0698e-01,  2.9919e-02],\n",
      "         [-3.5971e-02, -4.3475e-02,  7.2091e-02,  2.2464e-01,  1.6166e-01,\n",
      "          -2.2230e-02, -5.1037e-02],\n",
      "         [-3.7260e-02, -7.0593e-03,  5.5504e-02,  5.3969e-02, -6.0028e-02,\n",
      "          -1.4628e-01, -9.6495e-02]],\n",
      "\n",
      "        [[-9.9251e-03,  2.3599e-02,  8.7059e-03, -3.0502e-04, -1.3078e-02,\n",
      "          -1.8328e-03, -3.6655e-03],\n",
      "         [ 4.4901e-02,  1.2181e-01,  1.2021e-01,  4.6410e-02, -3.4653e-02,\n",
      "          -2.5420e-02, -1.6091e-02],\n",
      "         [ 1.3202e-01,  1.7449e-01, -3.0020e-02, -2.8635e-01, -2.4841e-01,\n",
      "          -1.0214e-01, -6.3698e-02],\n",
      "         [ 5.4446e-02, -1.7270e-01, -5.3823e-01, -5.1266e-01, -9.6440e-02,\n",
      "           9.3054e-02,  6.1484e-02],\n",
      "         [-1.2767e-01, -3.6451e-01, -3.4409e-01,  6.5147e-02,  3.4726e-01,\n",
      "           2.2071e-01,  1.0978e-01],\n",
      "         [-5.9329e-02, -6.0536e-02,  1.1701e-01,  3.2867e-01,  3.0257e-01,\n",
      "           7.1026e-02, -9.4035e-03],\n",
      "         [-7.0162e-04,  4.3534e-02,  1.2639e-01,  1.4268e-01,  3.0688e-02,\n",
      "          -9.6192e-02, -9.2877e-02]],\n",
      "\n",
      "        [[-5.6634e-03,  1.1085e-02, -2.3678e-02, -1.2573e-02,  1.3783e-03,\n",
      "           1.3221e-03,  1.1536e-02],\n",
      "         [ 1.2239e-03,  3.5395e-02,  4.9016e-02,  5.6173e-02,  6.9575e-03,\n",
      "          -8.0549e-03, -4.6053e-04],\n",
      "         [ 4.3724e-02,  1.0473e-01,  3.4596e-02, -1.1829e-01, -1.3258e-01,\n",
      "          -6.9249e-02, -5.4885e-02],\n",
      "         [ 4.3427e-02, -4.3321e-02, -2.4928e-01, -2.5986e-01, -4.8270e-02,\n",
      "           4.7400e-02,  2.5309e-02],\n",
      "         [-3.0766e-02, -1.4538e-01, -1.4052e-01,  8.0809e-02,  1.9402e-01,\n",
      "           1.0052e-01,  5.8673e-02],\n",
      "         [-1.2175e-02, -3.5886e-03,  7.1206e-02,  1.6393e-01,  1.3118e-01,\n",
      "           1.4893e-02, -1.2738e-02],\n",
      "         [-7.4264e-03, -7.5728e-03,  2.8469e-02,  2.9104e-02, -2.7748e-02,\n",
      "          -6.6066e-02, -6.1571e-02]]], grad_fn=<SelectBackward0>)\n"
     ]
    }
   ],
   "source": [
    "# First convolutional layer weights.\n",
    "# print(backbone)\n",
    "print(pt_backbone[0])\n",
    "print(pt_backbone[0].weight[63])"
   ]
  },
  {
   "cell_type": "markdown",
   "id": "f5bd91df-abe1-42d3-ace9-8a8b45fbb0f8",
   "metadata": {},
   "source": [
    "## Adding a final linear layer (CHANGED!)"
   ]
  },
  {
   "cell_type": "code",
   "execution_count": 39,
   "id": "b768a0a1-85c5-40a4-b843-4d50d44fd161",
   "metadata": {},
   "outputs": [
    {
     "data": {
      "text/plain": [
       "===============================================================================================\n",
       "Layer (type:depth-idx)                        Output Shape              Param #\n",
       "===============================================================================================\n",
       "Sequential                                    [128, 29]                 --\n",
       "├─Sequential: 1-1                             [128, 512, 1, 1]          --\n",
       "│    └─Conv2d: 2-1                            [128, 64, 112, 112]       9,408\n",
       "│    └─BatchNorm2d: 2-2                       [128, 64, 112, 112]       128\n",
       "│    └─ReLU: 2-3                              [128, 64, 112, 112]       --\n",
       "│    └─MaxPool2d: 2-4                         [128, 64, 56, 56]         --\n",
       "│    └─Sequential: 2-5                        [128, 64, 56, 56]         --\n",
       "│    │    └─BasicBlock: 3-1                   [128, 64, 56, 56]         73,984\n",
       "│    │    └─BasicBlock: 3-2                   [128, 64, 56, 56]         73,984\n",
       "│    └─Sequential: 2-6                        [128, 128, 28, 28]        --\n",
       "│    │    └─BasicBlock: 3-3                   [128, 128, 28, 28]        230,144\n",
       "│    │    └─BasicBlock: 3-4                   [128, 128, 28, 28]        295,424\n",
       "│    └─Sequential: 2-7                        [128, 256, 14, 14]        --\n",
       "│    │    └─BasicBlock: 3-5                   [128, 256, 14, 14]        919,040\n",
       "│    │    └─BasicBlock: 3-6                   [128, 256, 14, 14]        1,180,672\n",
       "│    └─Sequential: 2-8                        [128, 512, 7, 7]          --\n",
       "│    │    └─BasicBlock: 3-7                   [128, 512, 7, 7]          3,673,088\n",
       "│    │    └─BasicBlock: 3-8                   [128, 512, 7, 7]          4,720,640\n",
       "│    └─AdaptiveAvgPool2d: 2-9                 [128, 512, 1, 1]          --\n",
       "├─Flatten: 1-2                                [128, 512]                --\n",
       "├─Linear: 1-3                                 [128, 29]                 14,877\n",
       "===============================================================================================\n",
       "Total params: 11,191,389\n",
       "Trainable params: 11,191,389\n",
       "Non-trainable params: 0\n",
       "Total mult-adds (G): 232.14\n",
       "===============================================================================================\n",
       "Input size (MB): 77.07\n",
       "Forward/backward pass size (MB): 5086.67\n",
       "Params size (MB): 44.77\n",
       "Estimated Total Size (MB): 5208.51\n",
       "==============================================================================================="
      ]
     },
     "execution_count": 39,
     "metadata": {},
     "output_type": "execute_result"
    }
   ],
   "source": [
    "# Adding a linear layer on top of the model (linear classifier).\n",
    "model_ssl = torch.nn.Sequential(\n",
    "    pt_backbone,\n",
    "    torch.nn.Flatten(),\n",
    "    torch.nn.Linear(in_features=512, out_features=len(class_names), bias=True),\n",
    "    # torch.nn.Softmax(dim=1)\n",
    ")\n",
    "\n",
    "# # Freezing all the network except the final layer.\n",
    "# for param in model_ssl.parameters():\n",
    "#     param.requires_grad = False\n",
    "# # for param in model_ssl[0][7].parameters():\n",
    "# #     param.requires_grad = True\n",
    "# for param in model_ssl[2].parameters():\n",
    "#     param.requires_grad = True\n",
    "\n",
    "# Model structure.\n",
    "summary(\n",
    "    model_ssl,\n",
    "    input_size=(batch_size, 3, input_size, input_size),\n",
    "    device=device\n",
    ")"
   ]
  },
  {
   "cell_type": "markdown",
   "id": "e80c0096-fb2f-4183-bdab-dfc345be59c7",
   "metadata": {},
   "source": [
    "## Loss fcn and optimizer"
   ]
  },
  {
   "cell_type": "code",
   "execution_count": 40,
   "id": "21f3ed4b-1948-4843-96ca-b4cced958a9a",
   "metadata": {},
   "outputs": [],
   "source": [
    "# Loss function: cross-entropy loss.\n",
    "loss_fn = torch.nn.CrossEntropyLoss()\n",
    "\n",
    "# Optimizers: specified in the torch.optim package\n",
    "optimizer = torch.optim.Adam(model_ssl.parameters(),\n",
    "                             lr=0.01)"
   ]
  },
  {
   "cell_type": "markdown",
   "id": "a106ebc3-d159-45f8-b956-abd33add0552",
   "metadata": {},
   "source": [
    "## Training"
   ]
  },
  {
   "cell_type": "code",
   "execution_count": 41,
   "id": "c0c9d4f1-bc8a-45fe-88f5-dbcb71b0c8c3",
   "metadata": {},
   "outputs": [
    {
     "name": "stdout",
     "output_type": "stream",
     "text": [
      "Using cuda device\n",
      "Epoch: 0 | Train loss: 2.8797 | Val loss: 5744.2573 | Elapsed: 0m 8s | Save weights: True\n",
      "Epoch: 1 | Train loss: 2.3183 | Val loss: 47.6031 | Elapsed: 0m 8s | Save weights: True\n",
      "Epoch: 2 | Train loss: 1.9783 | Val loss: 3.1376 | Elapsed: 0m 7s | Save weights: True\n",
      "Epoch: 3 | Train loss: 1.7329 | Val loss: 5.0372 | Elapsed: 0m 8s | Save weights: False\n",
      "Epoch: 4 | Train loss: 1.7863 | Val loss: 3.0252 | Elapsed: 0m 7s | Save weights: True\n",
      "Epoch: 5 | Train loss: 1.6389 | Val loss: 2.4884 | Elapsed: 0m 8s | Save weights: True\n",
      "Epoch: 6 | Train loss: 1.6445 | Val loss: 2.8943 | Elapsed: 0m 8s | Save weights: False\n",
      "Epoch: 7 | Train loss: 1.6742 | Val loss: 1.4983 | Elapsed: 0m 8s | Save weights: True\n",
      "Epoch: 8 | Train loss: 1.5728 | Val loss: 1.9191 | Elapsed: 0m 8s | Save weights: False\n",
      "Epoch: 9 | Train loss: 1.5945 | Val loss: 1.4730 | Elapsed: 0m 8s | Save weights: True\n",
      "Epoch: 10 | Train loss: 1.5997 | Val loss: 3.4812 | Elapsed: 0m 8s | Save weights: False\n",
      "Epoch: 11 | Train loss: 1.4244 | Val loss: 1.2839 | Elapsed: 0m 8s | Save weights: True\n",
      "Epoch: 12 | Train loss: 1.2695 | Val loss: 2.3234 | Elapsed: 0m 8s | Save weights: False\n",
      "Epoch: 13 | Train loss: 1.2217 | Val loss: 1.3930 | Elapsed: 0m 8s | Save weights: False\n",
      "Epoch: 14 | Train loss: 1.1746 | Val loss: 1.9276 | Elapsed: 0m 8s | Save weights: False\n",
      "Epoch: 15 | Train loss: 1.2608 | Val loss: 3.8663 | Elapsed: 0m 8s | Save weights: False\n",
      "Epoch: 16 | Train loss: 1.3536 | Val loss: 1.8567 | Elapsed: 0m 8s | Save weights: False\n",
      "Epoch: 17 | Train loss: 1.2566 | Val loss: 1.6495 | Elapsed: 0m 8s | Save weights: False\n",
      "Epoch: 18 | Train loss: 1.2150 | Val loss: 1.1904 | Elapsed: 0m 8s | Save weights: True\n",
      "Epoch: 19 | Train loss: 1.2383 | Val loss: 71.0326 | Elapsed: 0m 7s | Save weights: False\n",
      "Epoch: 20 | Train loss: 1.3880 | Val loss: 93.0193 | Elapsed: 0m 7s | Save weights: False\n",
      "Epoch: 21 | Train loss: 1.2269 | Val loss: 1.6729 | Elapsed: 0m 8s | Save weights: False\n",
      "Epoch: 22 | Train loss: 1.2684 | Val loss: 1.2061 | Elapsed: 0m 8s | Save weights: False\n",
      "Epoch: 23 | Train loss: 1.1680 | Val loss: 1.8183 | Elapsed: 0m 8s | Save weights: False\n",
      "Epoch: 24 | Train loss: 1.1730 | Val loss: 1.4171 | Elapsed: 0m 8s | Save weights: False\n",
      "\n",
      "Training completed in 3m 11s\n",
      "Model successfuly saved\n"
     ]
    },
    {
     "data": {
      "image/png": "[encoded data removed]",
      "text/plain": [
       "<Figure size 720x360 with 1 Axes>"
      ]
     },
     "metadata": {
      "needs_background": "light"
     },
     "output_type": "display_data"
    }
   ],
   "source": [
    "model_ssl, loss_history = train_model(\n",
    "    model_ssl,\n",
    "    loss_fn,\n",
    "    optimizer,\n",
    "    device,\n",
    "    epochs=EPOCHS,\n",
    "    save_best_model=True\n",
    ")\n",
    "\n",
    "plot_losses(loss_history, 'Model w/ ssl pretrained weights')"
   ]
  },
  {
   "cell_type": "markdown",
   "id": "7815545a-4949-41fa-b208-774516170576",
   "metadata": {},
   "source": [
    "## Checking the weights after training"
   ]
  },
  {
   "cell_type": "markdown",
   "id": "83ea1ae5-4c44-4c2a-8efe-ac210a30ed79",
   "metadata": {},
   "source": [
    "They should have remained the same (frozen) except for the final layer."
   ]
  },
  {
   "cell_type": "code",
   "execution_count": 42,
   "id": "b87f242c-38db-4d11-b84b-4bbab655297b",
   "metadata": {},
   "outputs": [
    {
     "name": "stdout",
     "output_type": "stream",
     "text": [
      "Conv2d(3, 64, kernel_size=(7, 7), stride=(2, 2), padding=(3, 3), bias=False)\n",
      "tensor([[[-1.3495e-01, -1.7765e-01, -1.6767e-01, -2.8873e-03, -1.7732e-02,\n",
      "          -2.1196e-02, -4.8433e-02],\n",
      "         [-1.2244e-01,  6.7344e-02,  1.0310e-01,  9.4893e-02,  2.3189e-02,\n",
      "           1.1543e-02, -1.5214e-02],\n",
      "         [-1.3376e-02,  1.5597e-01,  3.6052e-02, -1.4313e-01, -1.4341e-01,\n",
      "          -5.4888e-02, -4.6724e-02],\n",
      "         [ 3.2467e-02, -1.5888e-02, -3.1591e-01, -3.3590e-01, -4.4186e-02,\n",
      "           8.2765e-02,  5.3058e-02],\n",
      "         [-1.5338e-01, -2.0992e-01, -2.2281e-01,  5.1981e-02,  2.3682e-01,\n",
      "           1.2710e-01,  5.1121e-02],\n",
      "         [-1.2602e-01, -3.1939e-02,  7.8239e-02,  2.4709e-01,  1.8104e-01,\n",
      "          -4.5628e-03, -3.1160e-02],\n",
      "         [-1.2755e-01,  6.1356e-03,  6.3485e-02,  7.7894e-02, -3.8408e-02,\n",
      "          -1.2544e-01, -7.3438e-02]],\n",
      "\n",
      "        [[-6.1363e-02, -3.5888e-03, -1.9356e-02,  2.0373e-03, -1.1351e-02,\n",
      "          -1.7746e-03, -3.3763e-03],\n",
      "         [ 4.2522e-04,  1.6324e-01,  1.5697e-01,  1.8588e-01,  1.0348e-01,\n",
      "           1.1058e-01,  1.2591e-01],\n",
      "         [ 8.8063e-02,  2.1574e-01,  5.4230e-03, -1.5291e-01, -1.1568e-01,\n",
      "           3.1857e-02,  7.7646e-02],\n",
      "         [ 1.1764e-02, -1.4363e-01, -4.9573e-01, -4.1263e-01,  2.3232e-03,\n",
      "           1.9367e-01,  1.6613e-01],\n",
      "         [-1.7064e-01, -3.3943e-01, -3.2679e-01,  1.5954e-01,  4.4066e-01,\n",
      "           3.1180e-01,  2.0512e-01],\n",
      "         [-1.0285e-01, -3.5702e-02,  1.3246e-01,  4.1962e-01,  3.8701e-01,\n",
      "           1.4947e-01,  7.2618e-02],\n",
      "         [-4.4222e-02,  7.7522e-02,  1.4865e-01,  2.4933e-01,  1.2559e-01,\n",
      "          -9.2460e-03, -6.0507e-03]],\n",
      "\n",
      "        [[-1.0900e-01, -1.3494e-01, -1.6979e-01, -1.5599e-01, -1.4201e-01,\n",
      "          -1.4328e-01, -1.3258e-01],\n",
      "         [-1.1105e-01, -1.7546e-01, -1.6074e-01, -1.9009e-01, -2.4147e-01,\n",
      "          -2.5873e-01, -2.5197e-01],\n",
      "         [-6.8450e-02, -1.0499e-01, -1.7685e-01, -3.7195e-01, -3.9143e-01,\n",
      "          -3.3138e-01, -3.1733e-01],\n",
      "         [-4.4727e-02, -2.0605e-01, -4.1564e-01, -4.7000e-01, -2.6331e-01,\n",
      "          -1.7222e-01, -1.9479e-01],\n",
      "         [-1.1854e-01, -3.0792e-01, -3.0763e-01, -1.3114e-01, -2.5258e-02,\n",
      "          -1.2336e-01, -1.6290e-01],\n",
      "         [-9.9715e-02, -1.6697e-01, -9.6909e-02, -5.1184e-02, -8.9072e-02,\n",
      "          -2.0443e-01, -2.2594e-01],\n",
      "         [-9.4988e-02, -1.7504e-01, -1.4212e-01, -1.8737e-01, -2.4378e-01,\n",
      "          -2.7667e-01, -2.6358e-01]]], device='cuda:0',\n",
      "       grad_fn=<SelectBackward0>)\n"
     ]
    }
   ],
   "source": [
    "# First convolutional layer weights.\n",
    "# print(backbone)\n",
    "print(pt_backbone[0])\n",
    "print(pt_backbone[0].weight[63])"
   ]
  },
  {
   "cell_type": "markdown",
   "id": "4a9dff9a-1277-4301-b08e-8152110abe26",
   "metadata": {},
   "source": [
    "## Check performance on test dataset"
   ]
  },
  {
   "cell_type": "code",
   "execution_count": 43,
   "id": "2636a4a8-8ee4-4861-9aa8-920f0df40b7c",
   "metadata": {},
   "outputs": [
    {
     "name": "stdout",
     "output_type": "stream",
     "text": [
      "Accuracy of the network on the 191001 test images: 56%\n"
     ]
    }
   ],
   "source": [
    "evaluation_on_test(model_ssl, device)"
   ]
  },
  {
   "cell_type": "markdown",
   "id": "df1f373b-af92-4595-8676-46728d926f92",
   "metadata": {},
   "source": [
    "***"
   ]
  },
  {
   "cell_type": "markdown",
   "id": "b4eca1e9-6cc7-4cdc-881a-1551111223fa",
   "metadata": {},
   "source": [
    "***"
   ]
  },
  {
   "cell_type": "markdown",
   "id": "33cac558-c4a4-489a-9036-1a3e1a01dcfe",
   "metadata": {},
   "source": [
    "***"
   ]
  },
  {
   "cell_type": "markdown",
   "id": "788ad0aa-d143-42dd-96f9-63c9cf6ad81f",
   "metadata": {},
   "source": [
    "***"
   ]
  },
  {
   "cell_type": "markdown",
   "id": "08b11e4a-d913-4508-80ad-b7d45eb0a66e",
   "metadata": {},
   "source": [
    "***"
   ]
  },
  {
   "cell_type": "markdown",
   "id": "3094e101-bd6d-46b0-85ee-ea4f54b73c8d",
   "metadata": {},
   "source": [
    "***"
   ]
  },
  {
   "cell_type": "markdown",
   "id": "c6141892-5b73-4968-98e2-61837b6a244f",
   "metadata": {},
   "source": [
    "***"
   ]
  },
  {
   "cell_type": "markdown",
   "id": "f3fe40ed-ca86-4418-8cec-1500c0ae480e",
   "metadata": {},
   "source": [
    "# OLD"
   ]
  },
  {
   "cell_type": "code",
   "execution_count": 44,
   "id": "17f27b2f-fe4c-4309-8fa4-991b2e03aaab",
   "metadata": {},
   "outputs": [
    {
     "ename": "NameError",
     "evalue": "name 'pretrained_model' is not defined",
     "output_type": "error",
     "traceback": [
      "\u001b[0;31m---------------------------------------------------------------------------\u001b[0m",
      "\u001b[0;31mNameError\u001b[0m                                 Traceback (most recent call last)",
      "Input \u001b[0;32mIn [44]\u001b[0m, in \u001b[0;36m<cell line: 2>\u001b[0;34m()\u001b[0m\n\u001b[1;32m      1\u001b[0m \u001b[38;5;66;03m# Adding a linear layer on top of the model (linear classifier).\u001b[39;00m\n\u001b[1;32m      2\u001b[0m model_ft \u001b[38;5;241m=\u001b[39m torch\u001b[38;5;241m.\u001b[39mnn\u001b[38;5;241m.\u001b[39mSequential(\n\u001b[0;32m----> 3\u001b[0m     \u001b[43mpretrained_model\u001b[49m,\n\u001b[1;32m      4\u001b[0m     torch\u001b[38;5;241m.\u001b[39mnn\u001b[38;5;241m.\u001b[39mFlatten(),\n\u001b[1;32m      5\u001b[0m     torch\u001b[38;5;241m.\u001b[39mnn\u001b[38;5;241m.\u001b[39mLinear(in_features\u001b[38;5;241m=\u001b[39m\u001b[38;5;241m512\u001b[39m, out_features\u001b[38;5;241m=\u001b[39mnum_classes, bias\u001b[38;5;241m=\u001b[39m\u001b[38;5;28;01mTrue\u001b[39;00m),\n\u001b[1;32m      6\u001b[0m     \u001b[38;5;66;03m# torch.nn.Softmax(dim=1)\u001b[39;00m\n\u001b[1;32m      7\u001b[0m )\n",
      "\u001b[0;31mNameError\u001b[0m: name 'pretrained_model' is not defined"
     ]
    }
   ],
   "source": [
    "# Adding a linear layer on top of the model (linear classifier).\n",
    "model_ft = torch.nn.Sequential(\n",
    "    pretrained_model,\n",
    "    torch.nn.Flatten(),\n",
    "    torch.nn.Linear(in_features=512, out_features=num_classes, bias=True),\n",
    "    # torch.nn.Softmax(dim=1)\n",
    ")"
   ]
  },
  {
   "cell_type": "code",
   "execution_count": null,
   "id": "93a3d5c8-c1de-480b-876e-fe1fdf9f69e2",
   "metadata": {},
   "outputs": [],
   "source": [
    "summary(model_ft, input_size=(batch_size, 3, input_size, input_size))"
   ]
  },
  {
   "cell_type": "code",
   "execution_count": null,
   "id": "5eafe15c-247d-4bd4-804d-47f34880d071",
   "metadata": {},
   "outputs": [],
   "source": [
    "from torch.optim import lr_scheduler\n",
    "\n",
    "model_ft = model_ft.to(device)\n",
    "\n",
    "criterion = torch.nn.CrossEntropyLoss()\n",
    "\n",
    "# Observe that all parameters are being optimized\n",
    "optimizer_ft = torch.optim.SGD(model_ft.parameters(), lr=0.001, momentum=0.9)\n",
    "\n",
    "# Decay LR by a factor of 0.1 every 7 epochs\n",
    "exp_lr_scheduler = lr_scheduler.StepLR(optimizer_ft, step_size=7, gamma=0.1)"
   ]
  },
  {
   "cell_type": "code",
   "execution_count": null,
   "id": "860b3244-9d30-41ce-ae4d-5e75cfbebd97",
   "metadata": {},
   "outputs": [],
   "source": [
    "model_ft = train_model(model_ft, criterion, optimizer_ft, exp_lr_scheduler,\n",
    "                       num_epochs=10)"
   ]
  },
  {
   "cell_type": "code",
   "execution_count": null,
   "id": "e100de22-9e17-4d1c-87fb-a6c965834b0d",
   "metadata": {},
   "outputs": [],
   "source": [
    "def visualize_model(model, num_images=6):\n",
    "    was_training = model.training\n",
    "    model.eval()\n",
    "    images_so_far = 0\n",
    "    fig = plt.figure(figsize=(10, 16))\n",
    "\n",
    "    with torch.no_grad():\n",
    "        for i, (inputs, labels) in enumerate(dataloaders['val']):\n",
    "            inputs = inputs.to(device)\n",
    "            labels = labels.to(device)\n",
    "\n",
    "            outputs = model(inputs)\n",
    "            _, preds = torch.max(outputs, 1)\n",
    "\n",
    "            for j in range(inputs.size()[0]):\n",
    "                images_so_far += 1\n",
    "                ax = plt.subplot(num_images//2, 2, images_so_far)\n",
    "                ax.axis('off')\n",
    "                ax.set_title(f'predicted: {class_names[preds[j]]} |\\n'\n",
    "                             f'real: {class_names[labels.cpu().data[j]]}')\n",
    "                \n",
    "                plt.imshow(torch.permute(inputs.cpu().data[j], (1, 2, 0)))\n",
    "\n",
    "                if images_so_far == num_images:\n",
    "                    model.train(mode=was_training)\n",
    "                    return\n",
    "        model.train(mode=was_training)"
   ]
  },
  {
   "cell_type": "code",
   "execution_count": null,
   "id": "2b2fe63a-4c23-4c74-92db-905a9d403c67",
   "metadata": {},
   "outputs": [],
   "source": [
    "visualize_model(model_ft, num_images=8)"
   ]
  }
 ],
 "metadata": {
  "kernelspec": {
   "display_name": "lulc-venv",
   "language": "python",
   "name": "lulc-venv"
  },
  "language_info": {
   "codemirror_mode": {
    "name": "ipython",
    "version": 3
   },
   "file_extension": ".py",
   "mimetype": "text/x-python",
   "name": "python",
   "nbconvert_exporter": "python",
   "pygments_lexer": "ipython3",
   "version": "3.8.10"
  },
  "toc-autonumbering": true
 },
 "nbformat": 4,
 "nbformat_minor": 5
}
