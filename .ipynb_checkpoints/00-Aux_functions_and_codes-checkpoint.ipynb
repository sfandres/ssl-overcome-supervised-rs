{
 "cells": [
  {
   "cell_type": "markdown",
   "id": "5791228a-95b5-450b-ae4e-b20e78bc047e",
   "metadata": {},
   "source": [
    "**AUX FUNCTIONS AND CODES**"
   ]
  },
  {
   "cell_type": "markdown",
   "id": "f0e24b79-d640-42ce-a6d6-3b4c69ddcb9c",
   "metadata": {},
   "source": [
    "Here I keep the codes that I have developed but no longer use. They may not work."
   ]
  },
  {
   "cell_type": "markdown",
   "id": "d6ddcb8a-229c-4f55-aa72-3e3102c8b811",
   "metadata": {},
   "source": [
    "***"
   ]
  },
  {
   "cell_type": "markdown",
   "id": "a3e51b97-e27b-43a5-bd4f-074f27d47af4",
   "metadata": {},
   "source": [
    "***"
   ]
  },
  {
   "cell_type": "markdown",
   "id": "0d133dfb-be3b-4229-b8e2-d4630b30411e",
   "metadata": {},
   "source": [
    "# Iterating over the classes"
   ]
  },
  {
   "cell_type": "code",
   "execution_count": null,
   "id": "b25bcaa5-c296-440b-b01c-7b4e4fc864b4",
   "metadata": {},
   "outputs": [],
   "source": [
    "import os\n",
    "import PIL\n",
    "from PIL import Image\n",
    "import numpy as np"
   ]
  },
  {
   "cell_type": "code",
   "execution_count": null,
   "id": "fa01e483-e325-48ea-b43f-f50ea3ce521e",
   "metadata": {},
   "outputs": [],
   "source": [
    "# Single example.\n",
    "# source_path = 'datasets/Sentinel2GlobalLULC_full_raw/Sentinel2LULC_JPEG/01_BarrenLands___jpeg/' \n",
    "# image = Image.open(source_path + \"1_BarrenLands___100.0__1_0.1_(+43.5345146251,-113.3788872915)_US_Idaho_Butte-County_Arco.jpg\")"
   ]
  },
  {
   "cell_type": "code",
   "execution_count": null,
   "id": "70c578e7-9a4c-4cde-9262-fe639a795ab1",
   "metadata": {},
   "outputs": [],
   "source": [
    "# Global example.\n",
    "source_path = 'datasets/Sentinel2GlobalLULC_full_raw/Sentinel2LULC_JPEG/' \n",
    "\n",
    "img_data_array = img_class_array = []\n",
    "IMG_HEIGHT = IMG_WIDTH = 224\n",
    "\n",
    "classes = sorted(os.listdir(source_path))\n",
    "print(classes)\n",
    "\n",
    "# Iterating over the classes (only two in this case).\n",
    "for folder in classes[:2]:\n",
    "\n",
    "    # Iterating over the images.\n",
    "    for file in os.listdir(os.path.join(source_path, folder)):\n",
    "        \n",
    "        # Creating image path.        \n",
    "        image_path = os.path.join(source_path, folder, file)\n",
    "\n",
    "        # Img to array.\n",
    "        image = np.array(Image.open(image_path))\n",
    "\n",
    "        # Resize.\n",
    "        # image = np.resize(image, (IMG_HEIGHT, IMG_WIDTH, 3))\n",
    "\n",
    "        # Cast to float.\n",
    "        image = image.astype('float32')\n",
    "\n",
    "        # Normalization (0-1).\n",
    "        image /= 255\n",
    "\n",
    "        # Filling the arrays.\n",
    "        img_data_array.append(image)\n",
    "        curr_class = int(folder[:2])\n",
    "        img_class_array.append(curr_class)"
   ]
  },
  {
   "cell_type": "markdown",
   "id": "0750e3a8-6a36-4937-a87c-eca40c8df288",
   "metadata": {},
   "source": [
    "***"
   ]
  },
  {
   "cell_type": "markdown",
   "id": "90e8bdf5-4918-4e17-82a8-df87b7697c16",
   "metadata": {},
   "source": [
    "***"
   ]
  },
  {
   "cell_type": "code",
   "execution_count": null,
   "id": "fade81a3-7fbb-4ac6-85d8-034d3cccd1f2",
   "metadata": {},
   "outputs": [],
   "source": []
  }
 ],
 "metadata": {
  "kernelspec": {
   "display_name": "lulc-venv",
   "language": "python",
   "name": "lulc-venv"
  },
  "language_info": {
   "codemirror_mode": {
    "name": "ipython",
    "version": 3
   },
   "file_extension": ".py",
   "mimetype": "text/x-python",
   "name": "python",
   "nbconvert_exporter": "python",
   "pygments_lexer": "ipython3",
   "version": "3.8.10"
  }
 },
 "nbformat": 4,
 "nbformat_minor": 5
}
