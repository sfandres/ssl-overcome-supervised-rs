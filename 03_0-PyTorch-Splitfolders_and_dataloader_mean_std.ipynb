{
 "cells": [
  {
   "cell_type": "markdown",
   "id": "1fdfe9a2-c9bd-4888-8328-957001cd2d3d",
   "metadata": {},
   "source": [
    "**DATASET HANDLING**"
   ]
  },
  {
   "cell_type": "code",
   "execution_count": 1,
   "id": "1190f7cd-02a9-4b8e-8b35-f27fffee6fe0",
   "metadata": {},
   "outputs": [],
   "source": [
    "%load_ext pycodestyle_magic"
   ]
  },
  {
   "cell_type": "code",
   "execution_count": 2,
   "id": "d51a0ac0-39cf-4d54-8a6e-93215e337037",
   "metadata": {},
   "outputs": [],
   "source": [
    "%pycodestyle_on"
   ]
  },
  {
   "cell_type": "code",
   "execution_count": 3,
   "id": "cd4fb5df-2719-4007-b5fa-1ce43a06d73b",
   "metadata": {},
   "outputs": [],
   "source": [
    "# Reproducibility.\n",
    "SEED = 42"
   ]
  },
  {
   "cell_type": "markdown",
   "id": "980098f6-8d45-4873-bd68-fc9c1dee3ed3",
   "metadata": {},
   "source": [
    "***"
   ]
  },
  {
   "cell_type": "markdown",
   "id": "ca21427c-8634-4b89-ac05-b0f02d0476c1",
   "metadata": {},
   "source": [
    "***"
   ]
  },
  {
   "cell_type": "markdown",
   "id": "56c39d1a-c859-45ec-bb95-d1aaaf526436",
   "metadata": {
    "tags": []
   },
   "source": [
    "# Split the dataset folder"
   ]
  },
  {
   "cell_type": "raw",
   "id": "005d2f30-dd21-44ac-83ef-b9efccb39125",
   "metadata": {},
   "source": [
    "import splitfolders\n",
    "\n",
    "data_dir_initial = 'datasets/0_Raw/' \\\n",
    "                   'Sentinel2GlobalLULC_full_raw/' \\\n",
    "                   'Sentinel2LULC_JPEG/'\n",
    "\n",
    "print(data_dir_initial)"
   ]
  },
  {
   "cell_type": "markdown",
   "id": "8ebbf3a5-2956-4b33-9c19-aebcd44d59bd",
   "metadata": {
    "tags": []
   },
   "source": [
    "## Full dataset (imbalanced)"
   ]
  },
  {
   "cell_type": "raw",
   "id": "80df4b38-ea7f-44db-ab5c-11e0ba081877",
   "metadata": {},
   "source": [
    "# Split with a ratio.\n",
    "# To only split into training and validation set,\n",
    "# set a tuple to `ratio`, i.e, `(.8, .2)`.\n",
    "\n",
    "ratio = (.7, .1, .2)\n",
    "dataset_name = f'datasets/Sentinel2GlobalLULC_full' \\\n",
    "               f'-ratio={ratio}' \\\n",
    "               f'-seed={SEED}'\n",
    "\n",
    "splitfolders.ratio(data_dir_initial,\n",
    "                   output=dataset_name,\n",
    "                   seed=SEED,\n",
    "                   ratio=ratio,\n",
    "                   group_prefix=None,\n",
    "                   move=False)  # Default values."
   ]
  },
  {
   "cell_type": "markdown",
   "id": "af15d6e2-2ff8-4fd2-8c84-3d78150200fd",
   "metadata": {
    "tags": []
   },
   "source": [
    "## Reduced dataset (imbalanced)"
   ]
  },
  {
   "cell_type": "raw",
   "id": "9420920c-1e4f-4f12-948c-6dfc473c709f",
   "metadata": {},
   "source": [
    "# Split with a ratio.\n",
    "# To only split into training and validation set,\n",
    "# set a tuple to `ratio`, i.e, `(.8, .2)`.\n",
    "\n",
    "ratio = (.01, .01, .98)\n",
    "dataset_name = f'datasets/Sentinel2GlobalLULC_full' \\\n",
    "               f'-ratio={ratio}' \\\n",
    "               f'-seed={SEED}'\n",
    "\n",
    "splitfolders.ratio(data_dir_initial,\n",
    "                   output=dataset_name,\n",
    "                   seed=SEED,\n",
    "                   ratio=ratio,\n",
    "                   group_prefix=None,\n",
    "                   move=False)  # Default values."
   ]
  },
  {
   "cell_type": "markdown",
   "id": "57b141bd-c8f8-4939-a7c4-08638a19a307",
   "metadata": {},
   "source": [
    "## Full dataset (val and test balanced)"
   ]
  },
  {
   "cell_type": "raw",
   "id": "73cbb6b8-2305-4c3c-9a24-8941a9f4ce6b",
   "metadata": {},
   "source": [
    "# Split val/test with a fixed number of items, e.g. `(100, 100)`, for each set.\n",
    "# To only split into train-val set, use a single number to `fixed`, i.e., `10`.\n",
    "# Set 3 values, e.g. `(300, 100, 100)`, to limit the number of training values.\n",
    "\n",
    "fixed = (100, 150)\n",
    "dataset_name = f'datasets/Sentinel2GlobalLULC_full' \\\n",
    "               f'-fixed={fixed}' \\\n",
    "               f'-seed={SEED}'\n",
    "\n",
    "splitfolders.fixed(data_dir_initial,\n",
    "                   output=dataset_name,\n",
    "                   seed=SEED,\n",
    "                   fixed=fixed,\n",
    "                   oversample=False,  # Does not duplicate train samples.\n",
    "                   group_prefix=None,\n",
    "                   move=False)  # Default values."
   ]
  },
  {
   "cell_type": "markdown",
   "id": "9a2b026d-e12b-482d-934d-acca828a0c3b",
   "metadata": {},
   "source": [
    "I cannot give more samples to the validation and test datasets since the class with fewer samples has only 353 (27)."
   ]
  },
  {
   "cell_type": "markdown",
   "id": "6a70fbbf-0ee4-4db3-87e8-d99c4419809f",
   "metadata": {},
   "source": [
    "***"
   ]
  },
  {
   "cell_type": "markdown",
   "id": "a09562a1-4066-42e1-a525-90b2ecbf3c91",
   "metadata": {},
   "source": [
    "***"
   ]
  },
  {
   "cell_type": "markdown",
   "id": "596485c2-1e41-4924-aeae-2fdab33abd12",
   "metadata": {
    "tags": []
   },
   "source": [
    "# Compute the mean and std of the dataset"
   ]
  },
  {
   "cell_type": "markdown",
   "id": "cd6442ba-d2a0-466a-b1c8-ae2d2648a92e",
   "metadata": {},
   "source": [
    "## Libraries and modules"
   ]
  },
  {
   "cell_type": "code",
   "execution_count": 4,
   "id": "e8098771-cad2-4577-9b54-3ed8458ba6f8",
   "metadata": {},
   "outputs": [],
   "source": [
    "import os\n",
    "\n",
    "import torch\n",
    "import torchvision\n",
    "\n",
    "import matplotlib.pyplot as plt\n",
    "import numpy as np\n",
    "import math\n",
    "import random"
   ]
  },
  {
   "cell_type": "markdown",
   "id": "57eff356-1df3-4c32-9b2a-ad2ddf6e76dc",
   "metadata": {},
   "source": [
    "## Reproducibility"
   ]
  },
  {
   "cell_type": "code",
   "execution_count": 5,
   "id": "17d08b78-c3ed-4699-b32c-01b58178fff0",
   "metadata": {},
   "outputs": [],
   "source": [
    "# Seed torch and numpy.\n",
    "os.environ['PYTHONHASHSEED'] = str(SEED)\n",
    "torch.manual_seed(SEED)\n",
    "np.random.seed(SEED)\n",
    "random.seed(SEED)\n",
    "\n",
    "# Enable CUDNN deterministic mode.\n",
    "torch.backends.cudnn.deterministic = True\n",
    "torch.backends.cudnn.benchmark = False\n",
    "\n",
    "# Issues a warning if it is not met.\n",
    "torch.use_deterministic_algorithms(True)"
   ]
  },
  {
   "cell_type": "code",
   "execution_count": 6,
   "id": "e6f7e416-c3ba-400b-9668-3954b74ebd32",
   "metadata": {},
   "outputs": [
    {
     "data": {
      "text/plain": [
       "<torch._C.Generator at 0x7efc5e28c250>"
      ]
     },
     "execution_count": 6,
     "metadata": {},
     "output_type": "execute_result"
    }
   ],
   "source": [
    "# For dataloaders.\n",
    "def seed_worker(worker_id):\n",
    "    worker_seed = torch.initial_seed() % 2**32\n",
    "    np.random.seed(worker_seed)\n",
    "    random.seed(worker_seed)\n",
    "\n",
    "\n",
    "g = torch.Generator()\n",
    "g.manual_seed(SEED)"
   ]
  },
  {
   "cell_type": "code",
   "execution_count": 7,
   "id": "7b1220dd-fc67-4524-819f-5c1adbc66672",
   "metadata": {},
   "outputs": [],
   "source": [
    "# Enable deterministic behavior using external GPU.\n",
    "# %env CUBLAS_WORKSPACE_CONFIG=:4096:8\n",
    "# %env CUBLAS_WORKSPACE_CONFIG=:16:8\n",
    "os.environ['CUBLAS_WORKSPACE_CONFIG'] = ':16:8'"
   ]
  },
  {
   "cell_type": "markdown",
   "id": "de8b5e75-6a50-483a-a4a7-4b285a13d274",
   "metadata": {},
   "source": [
    "## Computation"
   ]
  },
  {
   "cell_type": "code",
   "execution_count": 8,
   "id": "43716c06-f933-4cdc-99f4-15d9c793481a",
   "metadata": {},
   "outputs": [],
   "source": [
    "from utils import listdir_fullpath\n",
    "from utils import get_mean_std_dataloader"
   ]
  },
  {
   "cell_type": "code",
   "execution_count": 9,
   "id": "14d1a3a0-6b70-4b81-9af3-cf6746b534b3",
   "metadata": {},
   "outputs": [],
   "source": [
    "# help(listdir_fullpath)"
   ]
  },
  {
   "cell_type": "code",
   "execution_count": 10,
   "id": "9d8cd902-27f0-4646-b463-35e6a0664f43",
   "metadata": {},
   "outputs": [
    {
     "name": "stdout",
     "output_type": "stream",
     "text": [
      "['datasets/0_Raw', 'datasets/Clothing-dataset', 'datasets/Sentinel2GlobalLULC_full-fixed=(100, 150)-seed=42', 'datasets/Sentinel2GlobalLULC_full-ratio=(0.01, 0.01, 0.98)-seed=42', 'datasets/Sentinel2GlobalLULC_full-ratio=(0.7, 0.1, 0.2)-seed=42']\n"
     ]
    }
   ],
   "source": [
    "# List of trained models.\n",
    "datasets_dir = 'datasets/'\n",
    "\n",
    "# Get the subsets with full path.\n",
    "data_dirs = listdir_fullpath(datasets_dir)\n",
    "print(data_dirs)"
   ]
  },
  {
   "cell_type": "code",
   "execution_count": 11,
   "id": "72026024-e0bf-4cb6-8c60-27e9b2a0ac4d",
   "metadata": {},
   "outputs": [],
   "source": [
    "# help(get_mean_std_dataloader)"
   ]
  },
  {
   "cell_type": "code",
   "execution_count": 12,
   "id": "274c55be-f02e-46d1-859c-b2379febfa29",
   "metadata": {},
   "outputs": [
    {
     "name": "stdout",
     "output_type": "stream",
     "text": [
      "datasets/Sentinel2GlobalLULC_full-fixed=(100, 150)-seed=42/train/\n",
      "Samples processed in train dataset: 187627\n",
      "tensor([0.3350, 0.3388, 0.3616])\n",
      "tensor([0.2996, 0.2394, 0.2130])\n",
      "datasets/Sentinel2GlobalLULC_full-fixed=(100, 150)-seed=42/val/\n",
      "Samples processed in val dataset: 2900\n",
      "tensor([0.2768, 0.2996, 0.3267])\n",
      "tensor([0.2352, 0.1857, 0.1670])\n",
      "datasets/Sentinel2GlobalLULC_full-fixed=(100, 150)-seed=42/test/\n",
      "Samples processed in test dataset: 4350\n",
      "tensor([0.2741, 0.2973, 0.3245])\n",
      "tensor([0.2338, 0.1833, 0.1643])\n",
      "datasets/Sentinel2GlobalLULC_full-ratio=(0.01, 0.01, 0.98)-seed=42/train/\n",
      "Samples processed in train dataset: 1938\n",
      "tensor([0.3341, 0.3395, 0.3636])\n",
      "tensor([0.2904, 0.2328, 0.2091])\n",
      "datasets/Sentinel2GlobalLULC_full-ratio=(0.01, 0.01, 0.98)-seed=42/val/\n",
      "Samples processed in val dataset: 1938\n",
      "tensor([0.3357, 0.3382, 0.3616])\n",
      "tensor([0.2942, 0.2330, 0.2069])\n",
      "datasets/Sentinel2GlobalLULC_full-ratio=(0.01, 0.01, 0.98)-seed=42/test/\n",
      "Samples processed in test dataset: 191001\n",
      "tensor([0.3327, 0.3372, 0.3603])\n",
      "tensor([0.2976, 0.2376, 0.2115])\n",
      "datasets/Sentinel2GlobalLULC_full-ratio=(0.7, 0.1, 0.2)-seed=42/train/\n",
      "Samples processed in train dataset: 136403\n",
      "tensor([0.3329, 0.3373, 0.3603])\n",
      "tensor([0.2978, 0.2377, 0.2115])\n",
      "datasets/Sentinel2GlobalLULC_full-ratio=(0.7, 0.1, 0.2)-seed=42/val/\n",
      "Samples processed in val dataset: 19478\n",
      "tensor([0.3318, 0.3363, 0.3597])\n",
      "tensor([0.2962, 0.2364, 0.2104])\n",
      "datasets/Sentinel2GlobalLULC_full-ratio=(0.7, 0.1, 0.2)-seed=42/test/\n",
      "Samples processed in test dataset: 38996\n",
      "tensor([0.3328, 0.3375, 0.3605])\n",
      "tensor([0.2974, 0.2378, 0.2118])\n"
     ]
    }
   ],
   "source": [
    "# Initialization.\n",
    "splits = ['train', 'val', 'test']\n",
    "\n",
    "# Loop over the datasets (except raw and clothing).\n",
    "for data_dir in data_dirs[2:]:\n",
    "\n",
    "    # Loading the datasets into a dic.\n",
    "    datasets = {x: torchvision.datasets.ImageFolder(\n",
    "        os.path.join(data_dir, x),\n",
    "        transform=torchvision.transforms.ToTensor()\n",
    "    ) for x in splits}\n",
    "\n",
    "    # Creating the dataloaders into a dic.\n",
    "    dataloaders = {x: torch.utils.data.DataLoader(\n",
    "        datasets[x],\n",
    "        batch_size=128,\n",
    "        worker_init_fn=seed_worker,\n",
    "        generator=g\n",
    "    ) for x in splits}\n",
    "\n",
    "    # Loop over the train, val, and test datasets.\n",
    "    for x in splits:\n",
    "        print(f'{data_dir}/{x}/')\n",
    "        print(f'Samples processed: '\n",
    "              f'{len(dataloaders[x].dataset)}')\n",
    "        mean, std = get_mean_std_dataloader(dataloaders[x])\n",
    "        print(mean)\n",
    "        print(std)"
   ]
  },
  {
   "cell_type": "markdown",
   "id": "46d62c80-f3c8-4d28-bfb9-3a52c0909234",
   "metadata": {},
   "source": [
    "datasets/Sentinel2GlobalLULC_full-fixed=(100, 150)-seed=42/train/\n",
    "Samples processed in train dataset: 187627\n",
    "tensor([0.3350, 0.3388, 0.3616])\n",
    "tensor([0.2996, 0.2394, 0.2130])\n",
    "datasets/Sentinel2GlobalLULC_full-fixed=(100, 150)-seed=42/val/\n",
    "Samples processed in val dataset: 2900\n",
    "tensor([0.2768, 0.2996, 0.3267])\n",
    "tensor([0.2352, 0.1857, 0.1670])\n",
    "datasets/Sentinel2GlobalLULC_full-fixed=(100, 150)-seed=42/test/\n",
    "Samples processed in test dataset: 4350\n",
    "tensor([0.2741, 0.2973, 0.3245])\n",
    "tensor([0.2338, 0.1833, 0.1643])\n",
    "datasets/Sentinel2GlobalLULC_full-ratio=(0.01, 0.01, 0.98)-seed=42/train/\n",
    "Samples processed in train dataset: 1938\n",
    "tensor([0.3341, 0.3395, 0.3636])\n",
    "tensor([0.2904, 0.2328, 0.2091])\n",
    "datasets/Sentinel2GlobalLULC_full-ratio=(0.01, 0.01, 0.98)-seed=42/val/\n",
    "Samples processed in val dataset: 1938\n",
    "tensor([0.3357, 0.3382, 0.3616])\n",
    "tensor([0.2942, 0.2330, 0.2069])\n",
    "datasets/Sentinel2GlobalLULC_full-ratio=(0.01, 0.01, 0.98)-seed=42/test/\n",
    "Samples processed in test dataset: 191001\n",
    "tensor([0.3327, 0.3372, 0.3603])\n",
    "tensor([0.2976, 0.2376, 0.2115])\n",
    "datasets/Sentinel2GlobalLULC_full-ratio=(0.7, 0.1, 0.2)-seed=42/train/\n",
    "Samples processed in train dataset: 136403\n",
    "tensor([0.3329, 0.3373, 0.3603])\n",
    "tensor([0.2978, 0.2377, 0.2115])\n",
    "datasets/Sentinel2GlobalLULC_full-ratio=(0.7, 0.1, 0.2)-seed=42/val/\n",
    "Samples processed in val dataset: 19478\n",
    "tensor([0.3318, 0.3363, 0.3597])\n",
    "tensor([0.2962, 0.2364, 0.2104])\n",
    "datasets/Sentinel2GlobalLULC_full-ratio=(0.7, 0.1, 0.2)-seed=42/test/\n",
    "Samples processed in test dataset: 38996\n",
    "tensor([0.3328, 0.3375, 0.3605])\n",
    "tensor([0.2974, 0.2378, 0.2118])"
   ]
  },
  {
   "cell_type": "code",
   "execution_count": null,
   "id": "bd3a76ba-af81-4832-b16b-a094602113ed",
   "metadata": {},
   "outputs": [],
   "source": []
  }
 ],
 "metadata": {
  "kernelspec": {
   "display_name": "lulc-venv",
   "language": "python",
   "name": "lulc-venv"
  },
  "language_info": {
   "codemirror_mode": {
    "name": "ipython",
    "version": 3
   },
   "file_extension": ".py",
   "mimetype": "text/x-python",
   "name": "python",
   "nbconvert_exporter": "python",
   "pygments_lexer": "ipython3",
   "version": "3.8.10"
  }
 },
 "nbformat": 4,
 "nbformat_minor": 5
}
