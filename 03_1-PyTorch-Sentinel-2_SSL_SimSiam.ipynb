{
 "cells": [
  {
   "cell_type": "markdown",
   "id": "924096aa-e3ec-437c-81fe-03dd73fbfce5",
   "metadata": {},
   "source": [
    "**FIRST ATTEMP TO APPLY SSL TO THE SENTINEL-2 DATASET**"
   ]
  },
  {
   "cell_type": "markdown",
   "id": "49adbc03-f1d2-446f-b2aa-028c144e8a4a",
   "metadata": {},
   "source": [
    "Reference tutorial: https://docs.lightly.ai/tutorials/package/tutorial_simsiam_esa.html"
   ]
  },
  {
   "cell_type": "code",
   "execution_count": 1,
   "id": "65f2f9be-dc8e-4b2c-ab6e-94407466cad3",
   "metadata": {},
   "outputs": [],
   "source": [
    "%load_ext pycodestyle_magic"
   ]
  },
  {
   "cell_type": "code",
   "execution_count": 2,
   "id": "1c01ea34-c899-40a9-8a7f-e6cc346cee53",
   "metadata": {},
   "outputs": [],
   "source": [
    "%pycodestyle_on"
   ]
  },
  {
   "cell_type": "code",
   "execution_count": 3,
   "id": "e74a41df-66ca-4a6c-935e-1277e006b5a7",
   "metadata": {},
   "outputs": [],
   "source": [
    "# Reproducibility.\n",
    "SEED = 42"
   ]
  },
  {
   "cell_type": "markdown",
   "id": "f7a7fc52-07dd-41f2-9fb4-510f27a20e82",
   "metadata": {},
   "source": [
    "***"
   ]
  },
  {
   "cell_type": "markdown",
   "id": "e7de16ef-fd9a-45fb-b620-a514366d9db4",
   "metadata": {},
   "source": [
    "***"
   ]
  },
  {
   "cell_type": "markdown",
   "id": "a398826b-0d08-4e22-9144-9dfb3926f7f7",
   "metadata": {
    "tags": []
   },
   "source": [
    "# Split the dataset folder"
   ]
  },
  {
   "cell_type": "raw",
   "id": "236e0449-bb0e-4000-b1ee-fbfd517c4312",
   "metadata": {},
   "source": [
    "import splitfolders\n",
    "\n",
    "data_dir_initial = 'datasets/Sentinel2GlobalLULC_full_raw/Sentinel2LULC_JPEG/'"
   ]
  },
  {
   "cell_type": "markdown",
   "id": "35055a2e-a266-4d21-bc85-51f6ce9716f1",
   "metadata": {
    "tags": []
   },
   "source": [
    "## Ratio (imbalanced)"
   ]
  },
  {
   "cell_type": "raw",
   "id": "0ee6f619-db46-440a-9497-79bac113b5fd",
   "metadata": {},
   "source": [
    "# Split with a ratio.\n",
    "# To only split into training and validation set,\n",
    "# set a tuple to `ratio`, i.e, `(.8, .2)`.\n",
    "splitfolders.ratio(data_dir_initial,\n",
    "                   output=\"datasets/Sentinel2GlobalLULC_full_ratio_seed=\"\n",
    "                   + str(SEED),\n",
    "                   seed=SEED,\n",
    "                   ratio=(.7, .1, .2),\n",
    "                   group_prefix=None,\n",
    "                   move=False)  # Default values."
   ]
  },
  {
   "cell_type": "markdown",
   "id": "9f5fcbb1-d41c-412a-9554-b262a6622fc1",
   "metadata": {
    "tags": []
   },
   "source": [
    "## Ratio to create reduced sample"
   ]
  },
  {
   "cell_type": "raw",
   "id": "cfd1ec61-9321-4840-af6a-042bb6d9685a",
   "metadata": {},
   "source": [
    "# Split with a ratio.\n",
    "# To only split into training and validation set,\n",
    "# set a tuple to `ratio`, i.e, `(.8, .2)`.\n",
    "splitfolders.ratio(data_dir_initial,\n",
    "                   output=\"datasets/Sentinel2GlobalLULC_reduced_ratio_seed=\"\n",
    "                   + str(SEED),\n",
    "                   seed=SEED,\n",
    "                   ratio=(.01, .01, .98),\n",
    "                   group_prefix=None,\n",
    "                   move=False)  # Default values."
   ]
  },
  {
   "cell_type": "markdown",
   "id": "e5891bb1-003e-475e-810c-62cde7bb62f7",
   "metadata": {},
   "source": [
    "## Fixed (balanced)"
   ]
  },
  {
   "cell_type": "raw",
   "id": "bd67ebe9-28d6-442f-99d6-570148579a8d",
   "metadata": {},
   "source": [
    "# Split val/test with a fixed number of items, e.g. `(100, 100)`, for each set.\n",
    "# To only split into train-val set, use a single number to `fixed`, i.e., `10`.\n",
    "# Set 3 values, e.g. `(300, 100, 100)`, to limit the number of training values.\n",
    "splitfolders.fixed(data_dir_initial,\n",
    "                   output=\"datasets/Sentinel2GlobalLULC_full_balanced_seed=\"\n",
    "                   + str(SEED),\n",
    "                   seed=SEED,\n",
    "                   fixed=(250, 100),\n",
    "                   oversample=True,\n",
    "                   group_prefix=None,\n",
    "                   move=False)  # Default values."
   ]
  },
  {
   "cell_type": "markdown",
   "id": "9473fee0-fe3a-4211-ba88-837cca8424e8",
   "metadata": {},
   "source": [
    "***"
   ]
  },
  {
   "cell_type": "markdown",
   "id": "08f99239-de1b-4fa8-bb68-e7c4e4672f81",
   "metadata": {},
   "source": [
    "***"
   ]
  },
  {
   "cell_type": "markdown",
   "id": "428a342e-d7c1-4999-8ed0-0a3118f5f3bf",
   "metadata": {},
   "source": [
    "# Imports"
   ]
  },
  {
   "cell_type": "markdown",
   "id": "c506cd5d-71b7-47d7-b157-1b58caee0936",
   "metadata": {},
   "source": [
    "## Libraries and modules"
   ]
  },
  {
   "cell_type": "code",
   "execution_count": 4,
   "id": "1cb94f55-b0da-4d7e-b461-f6a478166de9",
   "metadata": {},
   "outputs": [],
   "source": [
    "import os\n",
    "\n",
    "import torch\n",
    "import torchvision\n",
    "\n",
    "from torchinfo import summary\n",
    "\n",
    "import lightly\n",
    "from lightly.models.modules.heads import SimSiamPredictionHead\n",
    "from lightly.models.modules.heads import SimSiamProjectionHead\n",
    "from lightly.utils.debug import std_of_l2_normalized\n",
    "import copy\n",
    "\n",
    "import matplotlib.pyplot as plt\n",
    "import numpy as np\n",
    "import math\n",
    "import random\n",
    "\n",
    "# Training checks.\n",
    "import time\n",
    "from datetime import datetime\n",
    "\n",
    "# Showing images in the notebook.\n",
    "import IPython\n",
    "# from IPython.display import Image\n",
    "# from IPython.core.display import HTML\n",
    "\n",
    "# For plotting.\n",
    "from PIL import Image\n",
    "import matplotlib.pyplot as plt\n",
    "import matplotlib.offsetbox as osb\n",
    "from matplotlib import rcParams as rcp\n",
    "\n",
    "# For resizing images to thumbnails.\n",
    "import torchvision.transforms.functional as functional\n",
    "\n",
    "# For clustering and 2d representations-\n",
    "from sklearn import random_projection"
   ]
  },
  {
   "cell_type": "markdown",
   "id": "f2265f6b-9854-4e2e-85bd-3e7c88792e77",
   "metadata": {},
   "source": [
    "## Settings"
   ]
  },
  {
   "cell_type": "code",
   "execution_count": 5,
   "id": "8d2497b4-d54f-44b8-a5bb-3c2fb8f4de5c",
   "metadata": {},
   "outputs": [],
   "source": [
    "# Training on GPU.\n",
    "device = 'cuda' if torch.cuda.is_available() else 'cpu'"
   ]
  },
  {
   "cell_type": "code",
   "execution_count": 6,
   "id": "1b811f12-b47d-442b-be67-c8d397a5a4fa",
   "metadata": {},
   "outputs": [],
   "source": [
    "# Hyperparamenters.\n",
    "input_size = 224  # old_input_size = 256\n",
    "batch_size = 128   # old_batch_size = 128\n",
    "num_workers = 8\n",
    "\n",
    "EPOCHS = 5\n",
    "\n",
    "# Dimension of the embeddings.\n",
    "num_ftrs = 512\n",
    "\n",
    "# Dimension of the output of the prediction and projection heads.\n",
    "out_dim = proj_hidden_dim = 512\n",
    "\n",
    "# The prediction head uses a bottleneck architecture.\n",
    "pred_hidden_dim = 128"
   ]
  },
  {
   "cell_type": "markdown",
   "id": "897cdadd-b624-406c-8c2d-d4f57d796a21",
   "metadata": {},
   "source": [
    "## Reproducibility"
   ]
  },
  {
   "cell_type": "code",
   "execution_count": 7,
   "id": "2b728bc3-9c98-474f-ba43-c1175071fde4",
   "metadata": {},
   "outputs": [],
   "source": [
    "# Seed torch and numpy.\n",
    "os.environ['PYTHONHASHSEED'] = str(SEED)\n",
    "torch.manual_seed(SEED)\n",
    "np.random.seed(SEED)\n",
    "random.seed(SEED)\n",
    "\n",
    "# Enable CUDNN deterministic mode.\n",
    "torch.backends.cudnn.deterministic = True\n",
    "torch.backends.cudnn.benchmark = False\n",
    "\n",
    "# Issues a warning if it is not met.\n",
    "torch.use_deterministic_algorithms(True)"
   ]
  },
  {
   "cell_type": "code",
   "execution_count": 8,
   "id": "1e719254-299e-4b48-ae7b-288fd7d1eb54",
   "metadata": {},
   "outputs": [
    {
     "data": {
      "text/plain": [
       "<torch._C.Generator at 0x7fc07da8acd0>"
      ]
     },
     "execution_count": 8,
     "metadata": {},
     "output_type": "execute_result"
    }
   ],
   "source": [
    "# For dataloaders.\n",
    "def seed_worker(worker_id):\n",
    "    worker_seed = torch.initial_seed() % 2**32\n",
    "    np.random.seed(worker_seed)\n",
    "    random.seed(worker_seed)\n",
    "\n",
    "\n",
    "g = torch.Generator()\n",
    "g.manual_seed(SEED)"
   ]
  },
  {
   "cell_type": "code",
   "execution_count": 9,
   "id": "f1f85abd-c398-4238-8054-14017c5cb572",
   "metadata": {},
   "outputs": [],
   "source": [
    "# Enable deterministic behavior using external GPU.\n",
    "# %env CUBLAS_WORKSPACE_CONFIG=:4096:8\n",
    "# %env CUBLAS_WORKSPACE_CONFIG=:16:8\n",
    "os.environ['CUBLAS_WORKSPACE_CONFIG'] = ':16:8'"
   ]
  },
  {
   "cell_type": "markdown",
   "id": "77ce08d1-0293-4830-a366-c149e95f0515",
   "metadata": {},
   "source": [
    "***"
   ]
  },
  {
   "cell_type": "markdown",
   "id": "6745ac7c-9497-4bf7-90b8-18a3dae2c27b",
   "metadata": {},
   "source": [
    "***"
   ]
  },
  {
   "cell_type": "markdown",
   "id": "ae9e2c6c-4e75-4708-88d2-1ef7da79a9f0",
   "metadata": {},
   "source": [
    "# Loading dataset"
   ]
  },
  {
   "cell_type": "code",
   "execution_count": 10,
   "id": "9e327f67-c943-482a-8294-2c90685a1579",
   "metadata": {},
   "outputs": [],
   "source": [
    "data_dir_target = 'datasets/Sentinel2GlobalLULC_full_ratio_seed=' \\\n",
    "                  + str(SEED)"
   ]
  },
  {
   "cell_type": "markdown",
   "id": "144ef555-daa7-48d6-be77-9d069ce7404d",
   "metadata": {},
   "source": [
    "## Custom tranforms (w/o normalization)"
   ]
  },
  {
   "cell_type": "markdown",
   "id": "119a8172-7c2c-49a0-99de-223d3b0ebbca",
   "metadata": {},
   "source": [
    "Define the augmentations for self-supervised learning."
   ]
  },
  {
   "cell_type": "code",
   "execution_count": 11,
   "id": "3b451709-864e-42fe-841e-b30157619385",
   "metadata": {},
   "outputs": [],
   "source": [
    "# Data augmentations for the train dataset.\n",
    "train_transform = torchvision.transforms.Compose([\n",
    "    torchvision.transforms.Resize((input_size, input_size)),\n",
    "    torchvision.transforms.RandomResizedCrop(size=input_size,\n",
    "                                             scale=(0.2, 1.0)),\n",
    "    torchvision.transforms.RandomHorizontalFlip(p=0.5),\n",
    "    torchvision.transforms.RandomVerticalFlip(p=0.5),\n",
    "    torchvision.transforms.GaussianBlur(21),\n",
    "    torchvision.transforms.ToTensor(),\n",
    "])\n",
    "\n",
    "# Data augmentations for the val and test datasets.\n",
    "test_transform = torchvision.transforms.Compose([\n",
    "    torchvision.transforms.Resize((input_size, input_size)),\n",
    "    torchvision.transforms.ToTensor(),\n",
    "])"
   ]
  },
  {
   "cell_type": "markdown",
   "id": "6ff192ed-3aa6-4ee3-aab1-76d8a737d6c6",
   "metadata": {},
   "source": [
    "## ImageFolder"
   ]
  },
  {
   "cell_type": "code",
   "execution_count": 12,
   "id": "8e50bcc5-7e50-4d9e-962f-9a21343618a9",
   "metadata": {},
   "outputs": [],
   "source": [
    "# Loading the three datasets.\n",
    "train_data = torchvision.datasets.ImageFolder(data_dir_target + '/train/')\n",
    "\n",
    "val_data = torchvision.datasets.ImageFolder(data_dir_target + '/val/')\n",
    "\n",
    "test_data = torchvision.datasets.ImageFolder(data_dir_target + '/test/')\n",
    "\n",
    "# Building the lightly datasets from the PyTorch datasets.\n",
    "train_data_lightly = lightly.data.LightlyDataset.from_torch_dataset(train_data)\n",
    "\n",
    "val_data_lightly = lightly.data.LightlyDataset.from_torch_dataset(\n",
    "    val_data,\n",
    "    transform=test_transform\n",
    ")\n",
    "\n",
    "test_data_lightly = lightly.data.LightlyDataset.from_torch_dataset(\n",
    "    test_data,\n",
    "    transform=test_transform\n",
    ")"
   ]
  },
  {
   "cell_type": "markdown",
   "id": "2f3c1996-9ed9-4597-bb3a-3819f70bb22d",
   "metadata": {},
   "source": [
    "## Collate functions"
   ]
  },
  {
   "cell_type": "markdown",
   "id": "fe6088d6-ddbd-4829-a1ee-dbbc60b5d522",
   "metadata": {},
   "source": [
    "PyTorch uses a Collate Function to combine the data in your batches together.\n",
    "\n",
    "BaseCollateFunction (base class) takes a batch of images as input and transforms each image into two different augmentations with the help of random transforms. The images are then concatenated such that the output batch is exactly twice the length of the input batch."
   ]
  },
  {
   "cell_type": "code",
   "execution_count": 13,
   "id": "af33670d-1bed-4d12-a117-279d43b98089",
   "metadata": {},
   "outputs": [],
   "source": [
    "# Base class for other collate implementations.\n",
    "# This allows training.\n",
    "collate_fn_train = lightly.data.collate.BaseCollateFunction(train_transform)"
   ]
  },
  {
   "cell_type": "markdown",
   "id": "615c7a8d-f598-417d-92f2-3b411a68dcc0",
   "metadata": {},
   "source": [
    "## PyTorch dataloaders"
   ]
  },
  {
   "cell_type": "code",
   "execution_count": 14,
   "id": "57a496a2-2e9f-4e66-81bb-9a6f475cacdd",
   "metadata": {},
   "outputs": [],
   "source": [
    "# Dataloader for training.\n",
    "dataloader_train_simsiam = torch.utils.data.DataLoader(\n",
    "    train_data_lightly,\n",
    "    batch_size=batch_size,\n",
    "    shuffle=True,\n",
    "    collate_fn=collate_fn_train,\n",
    "    drop_last=True,\n",
    "    num_workers=num_workers,\n",
    "    worker_init_fn=seed_worker,\n",
    "    generator=g\n",
    ")\n",
    "\n",
    "# Dataloader for embedding (val).\n",
    "dataloader_val = torch.utils.data.DataLoader(\n",
    "    val_data_lightly,\n",
    "    batch_size=batch_size,\n",
    "    shuffle=False,\n",
    "    drop_last=False,\n",
    "    num_workers=num_workers,\n",
    "    worker_init_fn=seed_worker,\n",
    "    generator=g\n",
    ")\n",
    "\n",
    "# Dataloader for embedding (test).\n",
    "dataloader_test = torch.utils.data.DataLoader(\n",
    "    test_data_lightly,\n",
    "    batch_size=batch_size,\n",
    "    shuffle=False,\n",
    "    drop_last=False,\n",
    "    num_workers=num_workers,\n",
    "    worker_init_fn=seed_worker,\n",
    "    generator=g\n",
    ")"
   ]
  },
  {
   "cell_type": "markdown",
   "id": "5967c24a-aa41-4dd3-b183-2232799c16a4",
   "metadata": {},
   "source": [
    "## Check the balance and size of the dataset"
   ]
  },
  {
   "cell_type": "code",
   "execution_count": 15,
   "id": "80aa6845-e34c-4016-983d-688c1c0928cc",
   "metadata": {},
   "outputs": [
    {
     "name": "stdout",
     "output_type": "stream",
     "text": [
      "(array([ 0,  1,  2,  3,  4,  5,  6,  7,  8,  9, 10, 11, 12, 13, 14, 15, 16,\n",
      "       17, 18, 19, 20, 21, 22, 23, 24, 25, 26, 27, 28]), array([9800, 3259, 6208, 9800, 8355, 3105,  943, 9800, 7306, 4466, 2015,\n",
      "        396,  880, 9800, 2739, 2710, 9793,  291,  340, 2943, 9800, 9800,\n",
      "       9800, 1402,  589,  714,  247,  289, 8813]))\n"
     ]
    }
   ],
   "source": [
    "# Check samples per class in train dataset.\n",
    "print(np.unique(train_data.targets, return_counts=True))"
   ]
  },
  {
   "cell_type": "code",
   "execution_count": 16,
   "id": "01e1f177-016e-4f0e-96f9-a06ce945882a",
   "metadata": {},
   "outputs": [
    {
     "name": "stdout",
     "output_type": "stream",
     "text": [
      "(array([ 0,  1,  2,  3,  4,  5,  6,  7,  8,  9, 10, 11, 12, 13, 14, 15, 16,\n",
      "       17, 18, 19, 20, 21, 22, 23, 24, 25, 26, 27, 28]), array([1400,  465,  886, 1400, 1193,  443,  134, 1400, 1043,  638,  288,\n",
      "         56,  125, 1400,  391,  387, 1399,   41,   48,  420, 1400, 1400,\n",
      "       1400,  200,   84,  102,   35,   41, 1259]))\n"
     ]
    }
   ],
   "source": [
    "# Check samples per class in train dataset.\n",
    "print(np.unique(val_data.targets, return_counts=True))"
   ]
  },
  {
   "cell_type": "code",
   "execution_count": 17,
   "id": "97b964a0-5d99-48aa-8108-fad4a1fdf2a6",
   "metadata": {},
   "outputs": [
    {
     "name": "stdout",
     "output_type": "stream",
     "text": [
      "(array([ 0,  1,  2,  3,  4,  5,  6,  7,  8,  9, 10, 11, 12, 13, 14, 15, 16,\n",
      "       17, 18, 19, 20, 21, 22, 23, 24, 25, 26, 27, 28]), array([2800,  932, 1775, 2800, 2389,  889,  271, 2800, 2089, 1276,  577,\n",
      "        115,  253, 2800,  784,  775, 2799,   84,   99,  842, 2800, 2800,\n",
      "       2800,  402,  169,  204,   71,   83, 2518]))\n"
     ]
    }
   ],
   "source": [
    "# Check samples per class in test dataset.\n",
    "print(np.unique(test_data.targets, return_counts=True))"
   ]
  },
  {
   "cell_type": "code",
   "execution_count": 18,
   "id": "52070963-a543-484f-a134-b5a1dde41fc9",
   "metadata": {},
   "outputs": [
    {
     "name": "stdout",
     "output_type": "stream",
     "text": [
      "N batches in train dataset: 1065\n",
      "136403\n",
      "19478\n",
      "38996\n"
     ]
    }
   ],
   "source": [
    "print('N batches in train dataset: ' + str(len(dataloader_train_simsiam)))\n",
    "\n",
    "# Check the size of each dataset.\n",
    "print(len(train_data.targets))\n",
    "print(len(val_data.targets))\n",
    "print(len(test_data.targets))"
   ]
  },
  {
   "cell_type": "markdown",
   "id": "366bf8d4-6053-4115-8fd7-b628a5b9a284",
   "metadata": {},
   "source": [
    "## See some samples (lightly dataset)"
   ]
  },
  {
   "cell_type": "code",
   "execution_count": 19,
   "id": "40d64513-dda3-4e75-853c-2290bcf40452",
   "metadata": {},
   "outputs": [
    {
     "name": "stdout",
     "output_type": "stream",
     "text": [
      "torch.Size([128, 3, 224, 224])\n",
      "torch.Size([128])\n"
     ]
    },
    {
     "data": {
      "image/png": "[encoded data removed]",
      "text/plain": [
       "<Figure size 432x288 with 1 Axes>"
      ]
     },
     "metadata": {
      "needs_background": "light"
     },
     "output_type": "display_data"
    }
   ],
   "source": [
    "# Accessing Data and Targets in a PyTorch DataLoader.\n",
    "for images, labels, names in dataloader_train_simsiam:\n",
    "    img = images[0][0]\n",
    "    label = labels[0]\n",
    "    print(images[0].shape)\n",
    "    print(labels.shape)\n",
    "    plt.title(\"Label: \" + str(int(label)))\n",
    "    plt.imshow(torch.permute(img, (1, 2, 0)))\n",
    "    plt.show()\n",
    "    break  # Only one batch."
   ]
  },
  {
   "cell_type": "markdown",
   "id": "61a4a6d8-28c2-422a-926d-3d5bd9aa69cc",
   "metadata": {
    "tags": []
   },
   "source": [
    "# SimSiam model"
   ]
  },
  {
   "cell_type": "code",
   "execution_count": 20,
   "id": "ebc3f5ec-a5f0-43fd-ae76-f2861008ef61",
   "metadata": {},
   "outputs": [
    {
     "data": {
      "text/html": [
       "<img src=\"https://user-images.githubusercontent.com/2420753/118343499-4c410100-b4de-11eb-9313-d49e65440a7e.png\" width=\"700\" height=\"700\"/>"
      ],
      "text/plain": [
       "<IPython.core.display.Image object>"
      ]
     },
     "execution_count": 20,
     "metadata": {},
     "output_type": "execute_result"
    }
   ],
   "source": [
    "IPython.display.Image(\n",
    "    url=\"https://user-images.githubusercontent.com/\"\n",
    "    \"2420753/118343499-4c410100-b4de-11eb-9313-d49e65440a7e.png\",\n",
    "    width=700,\n",
    "    height=700)"
   ]
  },
  {
   "cell_type": "markdown",
   "id": "9325b910-69ef-48c8-8777-11189b1e0920",
   "metadata": {},
   "source": [
    "Given an image, we create two augmented views and process these two versions with the same encoder network (a backbone plus a projection MLP)."
   ]
  },
  {
   "cell_type": "markdown",
   "id": "1da7b00a-48c4-4e71-8b4c-a4d54d633df4",
   "metadata": {},
   "source": [
    "The predictor is another MLP and on the other side a stop-gradient operation is applied. And we maximize the similarity at the end."
   ]
  },
  {
   "cell_type": "markdown",
   "id": "e55c24a8-5d44-4fa9-ade5-a51c2517e991",
   "metadata": {},
   "source": [
    "## Creation"
   ]
  },
  {
   "cell_type": "code",
   "execution_count": 21,
   "id": "60885a39-131d-4def-86f0-2548aadfe7a2",
   "metadata": {},
   "outputs": [],
   "source": [
    "# Copied from the reference tutorial.\n",
    "class SimSiam(torch.nn.Module):\n",
    "\n",
    "    # Constructor.\n",
    "    def __init__(self, backbone, num_ftrs, proj_hidden_dim,\n",
    "                 pred_hidden_dim, out_dim):\n",
    "\n",
    "        # Inheritance.\n",
    "        super().__init__()\n",
    "\n",
    "        # Blackbone model.\n",
    "        self.backbone = backbone\n",
    "\n",
    "        # Projection head (lightly).\n",
    "        self.projection_head = SimSiamProjectionHead(\n",
    "            num_ftrs, proj_hidden_dim, out_dim)\n",
    "\n",
    "        # Prediction head (lightly).\n",
    "        self.prediction_head = SimSiamPredictionHead(\n",
    "            out_dim, pred_hidden_dim, out_dim)\n",
    "\n",
    "    # In the forward function, you define how your model\n",
    "    # is going to be run, from input to output.\n",
    "    def forward(self, x):\n",
    "\n",
    "        # Get representations.\n",
    "        f = self.backbone(x).flatten(start_dim=1)\n",
    "\n",
    "        # Get projections.\n",
    "        z = self.projection_head(f)\n",
    "\n",
    "        # Get predictions.\n",
    "        p = self.prediction_head(z)\n",
    "\n",
    "        # Stop gradient.\n",
    "        z = z.detach()\n",
    "\n",
    "        return z, p"
   ]
  },
  {
   "cell_type": "markdown",
   "id": "c0f4e7b1-3bd7-48f6-8e44-983ebdee7b64",
   "metadata": {},
   "source": [
    "## Backbone net (w/ ResNet18)"
   ]
  },
  {
   "cell_type": "markdown",
   "id": "9591e6ba-a646-430a-ad14-0f21db32827d",
   "metadata": {},
   "source": [
    "This is different from the tutorial: resnet without pretrained weights (not now)."
   ]
  },
  {
   "cell_type": "code",
   "execution_count": 22,
   "id": "0bb30195-100c-428e-97c5-6941d5bcdd0d",
   "metadata": {},
   "outputs": [],
   "source": [
    "# Resnet trained from scratch.\n",
    "resnet = torchvision.models.resnet18(\n",
    "    weights=torchvision.models.ResNet18_Weights.DEFAULT\n",
    ")\n",
    "\n",
    "# Removing head from resnet. Embedding.\n",
    "backbone = torch.nn.Sequential(*list(resnet.children())[:-1])\n",
    "\n",
    "# Model creation.\n",
    "model = SimSiam(backbone, num_ftrs, proj_hidden_dim, pred_hidden_dim, out_dim)"
   ]
  },
  {
   "cell_type": "code",
   "execution_count": 23,
   "id": "cc27a0c0-75d0-473e-9d6a-44075eaa6306",
   "metadata": {},
   "outputs": [
    {
     "data": {
      "text/plain": [
       "==========================================================================================\n",
       "Layer (type:depth-idx)                   Output Shape              Param #\n",
       "==========================================================================================\n",
       "Sequential                               [128, 512, 1, 1]          --\n",
       "├─Conv2d: 1-1                            [128, 64, 112, 112]       9,408\n",
       "├─BatchNorm2d: 1-2                       [128, 64, 112, 112]       128\n",
       "├─ReLU: 1-3                              [128, 64, 112, 112]       --\n",
       "├─MaxPool2d: 1-4                         [128, 64, 56, 56]         --\n",
       "├─Sequential: 1-5                        [128, 64, 56, 56]         --\n",
       "│    └─BasicBlock: 2-1                   [128, 64, 56, 56]         --\n",
       "│    │    └─Conv2d: 3-1                  [128, 64, 56, 56]         36,864\n",
       "│    │    └─BatchNorm2d: 3-2             [128, 64, 56, 56]         128\n",
       "│    │    └─ReLU: 3-3                    [128, 64, 56, 56]         --\n",
       "│    │    └─Conv2d: 3-4                  [128, 64, 56, 56]         36,864\n",
       "│    │    └─BatchNorm2d: 3-5             [128, 64, 56, 56]         128\n",
       "│    │    └─ReLU: 3-6                    [128, 64, 56, 56]         --\n",
       "│    └─BasicBlock: 2-2                   [128, 64, 56, 56]         --\n",
       "│    │    └─Conv2d: 3-7                  [128, 64, 56, 56]         36,864\n",
       "│    │    └─BatchNorm2d: 3-8             [128, 64, 56, 56]         128\n",
       "│    │    └─ReLU: 3-9                    [128, 64, 56, 56]         --\n",
       "│    │    └─Conv2d: 3-10                 [128, 64, 56, 56]         36,864\n",
       "│    │    └─BatchNorm2d: 3-11            [128, 64, 56, 56]         128\n",
       "│    │    └─ReLU: 3-12                   [128, 64, 56, 56]         --\n",
       "├─Sequential: 1-6                        [128, 128, 28, 28]        --\n",
       "│    └─BasicBlock: 2-3                   [128, 128, 28, 28]        --\n",
       "│    │    └─Conv2d: 3-13                 [128, 128, 28, 28]        73,728\n",
       "│    │    └─BatchNorm2d: 3-14            [128, 128, 28, 28]        256\n",
       "│    │    └─ReLU: 3-15                   [128, 128, 28, 28]        --\n",
       "│    │    └─Conv2d: 3-16                 [128, 128, 28, 28]        147,456\n",
       "│    │    └─BatchNorm2d: 3-17            [128, 128, 28, 28]        256\n",
       "│    │    └─Sequential: 3-18             [128, 128, 28, 28]        8,448\n",
       "│    │    └─ReLU: 3-19                   [128, 128, 28, 28]        --\n",
       "│    └─BasicBlock: 2-4                   [128, 128, 28, 28]        --\n",
       "│    │    └─Conv2d: 3-20                 [128, 128, 28, 28]        147,456\n",
       "│    │    └─BatchNorm2d: 3-21            [128, 128, 28, 28]        256\n",
       "│    │    └─ReLU: 3-22                   [128, 128, 28, 28]        --\n",
       "│    │    └─Conv2d: 3-23                 [128, 128, 28, 28]        147,456\n",
       "│    │    └─BatchNorm2d: 3-24            [128, 128, 28, 28]        256\n",
       "│    │    └─ReLU: 3-25                   [128, 128, 28, 28]        --\n",
       "├─Sequential: 1-7                        [128, 256, 14, 14]        --\n",
       "│    └─BasicBlock: 2-5                   [128, 256, 14, 14]        --\n",
       "│    │    └─Conv2d: 3-26                 [128, 256, 14, 14]        294,912\n",
       "│    │    └─BatchNorm2d: 3-27            [128, 256, 14, 14]        512\n",
       "│    │    └─ReLU: 3-28                   [128, 256, 14, 14]        --\n",
       "│    │    └─Conv2d: 3-29                 [128, 256, 14, 14]        589,824\n",
       "│    │    └─BatchNorm2d: 3-30            [128, 256, 14, 14]        512\n",
       "│    │    └─Sequential: 3-31             [128, 256, 14, 14]        33,280\n",
       "│    │    └─ReLU: 3-32                   [128, 256, 14, 14]        --\n",
       "│    └─BasicBlock: 2-6                   [128, 256, 14, 14]        --\n",
       "│    │    └─Conv2d: 3-33                 [128, 256, 14, 14]        589,824\n",
       "│    │    └─BatchNorm2d: 3-34            [128, 256, 14, 14]        512\n",
       "│    │    └─ReLU: 3-35                   [128, 256, 14, 14]        --\n",
       "│    │    └─Conv2d: 3-36                 [128, 256, 14, 14]        589,824\n",
       "│    │    └─BatchNorm2d: 3-37            [128, 256, 14, 14]        512\n",
       "│    │    └─ReLU: 3-38                   [128, 256, 14, 14]        --\n",
       "├─Sequential: 1-8                        [128, 512, 7, 7]          --\n",
       "│    └─BasicBlock: 2-7                   [128, 512, 7, 7]          --\n",
       "│    │    └─Conv2d: 3-39                 [128, 512, 7, 7]          1,179,648\n",
       "│    │    └─BatchNorm2d: 3-40            [128, 512, 7, 7]          1,024\n",
       "│    │    └─ReLU: 3-41                   [128, 512, 7, 7]          --\n",
       "│    │    └─Conv2d: 3-42                 [128, 512, 7, 7]          2,359,296\n",
       "│    │    └─BatchNorm2d: 3-43            [128, 512, 7, 7]          1,024\n",
       "│    │    └─Sequential: 3-44             [128, 512, 7, 7]          132,096\n",
       "│    │    └─ReLU: 3-45                   [128, 512, 7, 7]          --\n",
       "│    └─BasicBlock: 2-8                   [128, 512, 7, 7]          --\n",
       "│    │    └─Conv2d: 3-46                 [128, 512, 7, 7]          2,359,296\n",
       "│    │    └─BatchNorm2d: 3-47            [128, 512, 7, 7]          1,024\n",
       "│    │    └─ReLU: 3-48                   [128, 512, 7, 7]          --\n",
       "│    │    └─Conv2d: 3-49                 [128, 512, 7, 7]          2,359,296\n",
       "│    │    └─BatchNorm2d: 3-50            [128, 512, 7, 7]          1,024\n",
       "│    │    └─ReLU: 3-51                   [128, 512, 7, 7]          --\n",
       "├─AdaptiveAvgPool2d: 1-9                 [128, 512, 1, 1]          --\n",
       "==========================================================================================\n",
       "Total params: 11,176,512\n",
       "Trainable params: 11,176,512\n",
       "Non-trainable params: 0\n",
       "Total mult-adds (G): 232.14\n",
       "==========================================================================================\n",
       "Input size (MB): 77.07\n",
       "Forward/backward pass size (MB): 5086.64\n",
       "Params size (MB): 44.71\n",
       "Estimated Total Size (MB): 5208.42\n",
       "=========================================================================================="
      ]
     },
     "execution_count": 23,
     "metadata": {},
     "output_type": "execute_result"
    }
   ],
   "source": [
    "# Model's backbone structure.\n",
    "summary(\n",
    "    model.backbone,\n",
    "    input_size=(batch_size, 3, input_size, input_size),\n",
    "    device=device\n",
    ")"
   ]
  },
  {
   "cell_type": "markdown",
   "id": "5d4308cc-0649-4f87-b574-bd306b931b21",
   "metadata": {},
   "source": [
    "## Training setup"
   ]
  },
  {
   "cell_type": "markdown",
   "id": "4529c018-fe2b-40f5-91d0-1708f4925e5f",
   "metadata": {},
   "source": [
    "SimSiam uses a symmetric negative cosine similarity loss and does therefore not require any negative samples. We build a criterion and an optimizer.\n",
    "\n"
   ]
  },
  {
   "cell_type": "code",
   "execution_count": 24,
   "id": "6c498b42-1e1d-4740-b3ad-2daaecc0908a",
   "metadata": {},
   "outputs": [],
   "source": [
    "# SimSiam uses a symmetric negative cosine similarity loss.\n",
    "criterion = lightly.loss.NegativeCosineSimilarity()\n",
    "\n",
    "# Scale the learning rate.\n",
    "lr = 0.05 * batch_size / 256\n",
    "\n",
    "# Use SGD with momentum and weight decay.\n",
    "optimizer = torch.optim.SGD(\n",
    "    model.parameters(),\n",
    "    lr=lr,\n",
    "    momentum=0.9,\n",
    "    weight_decay=5e-4\n",
    ")"
   ]
  },
  {
   "cell_type": "markdown",
   "id": "665beb28-df9a-4010-8781-50423d27dda7",
   "metadata": {},
   "source": [
    "## Training"
   ]
  },
  {
   "cell_type": "markdown",
   "id": "c745b5bb-e4a8-4886-83fd-e2ecbfbc6148",
   "metadata": {},
   "source": [
    "### Loop"
   ]
  },
  {
   "cell_type": "code",
   "execution_count": 29,
   "id": "55e988d0-f261-40d1-9d70-bdf6d3a85d90",
   "metadata": {},
   "outputs": [
    {
     "name": "stdout",
     "output_type": "stream",
     "text": [
      "Using cuda device\n",
      "T[1,    50] | Loss: -0.9893 | Representation std: 0.0004\n",
      "T[1,   100] | Loss: -0.9999 | Representation std: 0.0000\n",
      "T[1,   150] | Loss: -1.0000 | Representation std: 0.0000\n",
      "T[1,   200] | Loss: -1.0000 | Representation std: 0.0000\n",
      "T[1,   250] | Loss: -1.0000 | Representation std: 0.0000\n",
      "T[1,   300] | Loss: -1.0000 | Representation std: 0.0000\n",
      "T[1,   350] | Loss: -1.0000 | Representation std: 0.0000\n",
      "T[1,   400] | Loss: -1.0000 | Representation std: 0.0000\n",
      "T[1,   450] | Loss: -1.0000 | Representation std: 0.0000\n",
      "T[1,   500] | Loss: -1.0000 | Representation std: 0.0000\n",
      "T[1,   550] | Loss: -1.0000 | Representation std: 0.0000\n",
      "T[1,   600] | Loss: -1.0000 | Representation std: 0.0000\n",
      "T[1,   650] | Loss: -1.0000 | Representation std: 0.0000\n",
      "T[1,   700] | Loss: -1.0000 | Representation std: 0.0000\n",
      "T[1,   750] | Loss: -1.0000 | Representation std: 0.0000\n",
      "T[1,   800] | Loss: -1.0000 | Representation std: 0.0000\n",
      "T[1,   850] | Loss: -1.0000 | Representation std: 0.0000\n",
      "T[1,   900] | Loss: -1.0000 | Representation std: 0.0000\n",
      "T[1,   950] | Loss: -1.0000 | Representation std: 0.0000\n",
      "T[1,  1000] | Loss: -1.0000 | Representation std: 0.0000\n",
      "T[1,  1050] | Loss: -1.0000 | Representation std: 0.0000\n",
      "[Epoch   0] Loss: -1.0000 | Collapse Level: 0.9992 / 1.00 | Representation std: 0.0000 / 0.044194 | Duration: 530.00 s | Saved: True\n",
      "T[2,    50] | Loss: -1.0000 | Representation std: 0.0000\n",
      "T[2,   100] | Loss: -1.0000 | Representation std: 0.0000\n",
      "T[2,   150] | Loss: -1.0000 | Representation std: 0.0000\n",
      "T[2,   200] | Loss: -1.0000 | Representation std: 0.0000\n",
      "T[2,   250] | Loss: -1.0000 | Representation std: 0.0001\n",
      "T[2,   300] | Loss: -1.0000 | Representation std: 0.0001\n",
      "T[2,   350] | Loss: -1.0000 | Representation std: 0.0001\n",
      "T[2,   400] | Loss: -1.0000 | Representation std: 0.0001\n",
      "T[2,   450] | Loss: -1.0000 | Representation std: 0.0001\n",
      "T[2,   500] | Loss: -1.0000 | Representation std: 0.0001\n",
      "T[2,   550] | Loss: -1.0000 | Representation std: 0.0001\n",
      "T[2,   600] | Loss: -1.0000 | Representation std: 0.0001\n",
      "T[2,   650] | Loss: -1.0000 | Representation std: 0.0001\n",
      "T[2,   700] | Loss: -1.0000 | Representation std: 0.0001\n",
      "T[2,   750] | Loss: -1.0000 | Representation std: 0.0001\n",
      "T[2,   800] | Loss: -1.0000 | Representation std: 0.0001\n",
      "T[2,   850] | Loss: -1.0000 | Representation std: 0.0001\n",
      "T[2,   900] | Loss: -1.0000 | Representation std: 0.0002\n",
      "T[2,   950] | Loss: -1.0000 | Representation std: 0.0002\n",
      "T[2,  1000] | Loss: -1.0000 | Representation std: 0.0002\n",
      "T[2,  1050] | Loss: -1.0000 | Representation std: 0.0002\n",
      "[Epoch   1] Loss: -1.0000 | Collapse Level: 0.9955 / 1.00 | Representation std: 0.0002 / 0.044194 | Duration: 530.82 s | Saved: True\n",
      "T[3,    50] | Loss: -1.0000 | Representation std: 0.0002\n",
      "T[3,   100] | Loss: -1.0000 | Representation std: 0.0002\n",
      "T[3,   150] | Loss: -1.0000 | Representation std: 0.0002\n",
      "T[3,   200] | Loss: -0.9999 | Representation std: 0.0002\n",
      "T[3,   250] | Loss: -0.9999 | Representation std: 0.0003\n",
      "T[3,   300] | Loss: -0.9999 | Representation std: 0.0003\n",
      "T[3,   350] | Loss: -0.9999 | Representation std: 0.0003\n",
      "T[3,   400] | Loss: -0.9999 | Representation std: 0.0004\n",
      "T[3,   450] | Loss: -0.9998 | Representation std: 0.0004\n",
      "T[3,   500] | Loss: -0.9996 | Representation std: 0.0007\n",
      "T[3,   550] | Loss: -0.9938 | Representation std: 0.0041\n",
      "T[3,   600] | Loss: -0.9980 | Representation std: 0.0003\n",
      "T[3,   650] | Loss: -1.0000 | Representation std: 0.0000\n",
      "T[3,   700] | Loss: -1.0000 | Representation std: 0.0000\n",
      "T[3,   750] | Loss: -1.0000 | Representation std: 0.0000\n",
      "T[3,   800] | Loss: -1.0000 | Representation std: 0.0000\n",
      "T[3,   850] | Loss: -1.0000 | Representation std: 0.0000\n",
      "T[3,   900] | Loss: -1.0000 | Representation std: 0.0000\n",
      "T[3,   950] | Loss: -1.0000 | Representation std: 0.0000\n",
      "T[3,  1000] | Loss: -1.0000 | Representation std: 0.0000\n",
      "T[3,  1050] | Loss: -1.0000 | Representation std: 0.0000\n",
      "[Epoch   2] Loss: -1.0000 | Collapse Level: 0.9994 / 1.00 | Representation std: 0.0000 / 0.044194 | Duration: 533.14 s | Saved: True\n",
      "T[4,    50] | Loss: -1.0000 | Representation std: 0.0000\n",
      "T[4,   100] | Loss: -1.0000 | Representation std: 0.0000\n",
      "T[4,   150] | Loss: -1.0000 | Representation std: 0.0000\n",
      "T[4,   200] | Loss: -1.0000 | Representation std: 0.0000\n",
      "T[4,   250] | Loss: -1.0000 | Representation std: 0.0000\n",
      "T[4,   300] | Loss: -1.0000 | Representation std: 0.0001\n",
      "T[4,   350] | Loss: -1.0000 | Representation std: 0.0001\n",
      "T[4,   400] | Loss: -1.0000 | Representation std: 0.0001\n",
      "T[4,   450] | Loss: -1.0000 | Representation std: 0.0001\n",
      "T[4,   500] | Loss: -1.0000 | Representation std: 0.0001\n",
      "T[4,   550] | Loss: -1.0000 | Representation std: 0.0001\n",
      "T[4,   600] | Loss: -1.0000 | Representation std: 0.0001\n",
      "T[4,   650] | Loss: -1.0000 | Representation std: 0.0001\n",
      "T[4,   700] | Loss: -1.0000 | Representation std: 0.0002\n",
      "T[4,   750] | Loss: -1.0000 | Representation std: 0.0002\n",
      "T[4,   800] | Loss: -1.0000 | Representation std: 0.0003\n",
      "T[4,   850] | Loss: -1.0000 | Representation std: 0.0003\n",
      "T[4,   900] | Loss: -1.0000 | Representation std: 0.0003\n",
      "T[4,   950] | Loss: -1.0000 | Representation std: 0.0003\n",
      "T[4,  1000] | Loss: -1.0000 | Representation std: 0.0003\n",
      "T[4,  1050] | Loss: -1.0000 | Representation std: 0.0003\n",
      "[Epoch   3] Loss: -1.0000 | Collapse Level: 0.9933 / 1.00 | Representation std: 0.0003 / 0.044194 | Duration: 530.88 s | Saved: True\n",
      "T[5,    50] | Loss: -1.0000 | Representation std: 0.0003\n",
      "T[5,   100] | Loss: -1.0000 | Representation std: 0.0003\n",
      "T[5,   150] | Loss: -1.0000 | Representation std: 0.0003\n",
      "T[5,   200] | Loss: -1.0000 | Representation std: 0.0002\n",
      "T[5,   250] | Loss: -1.0000 | Representation std: 0.0002\n",
      "T[5,   300] | Loss: -1.0000 | Representation std: 0.0002\n",
      "T[5,   350] | Loss: -1.0000 | Representation std: 0.0002\n",
      "T[5,   400] | Loss: -1.0000 | Representation std: 0.0002\n",
      "T[5,   450] | Loss: -1.0000 | Representation std: 0.0002\n",
      "T[5,   500] | Loss: -1.0000 | Representation std: 0.0002\n",
      "T[5,   550] | Loss: -1.0000 | Representation std: 0.0002\n",
      "T[5,   600] | Loss: -1.0000 | Representation std: 0.0002\n",
      "T[5,   650] | Loss: -1.0000 | Representation std: 0.0002\n",
      "T[5,   700] | Loss: -1.0000 | Representation std: 0.0002\n",
      "T[5,   750] | Loss: -1.0000 | Representation std: 0.0002\n",
      "T[5,   800] | Loss: -1.0000 | Representation std: 0.0002\n",
      "T[5,   850] | Loss: -1.0000 | Representation std: 0.0002\n",
      "T[5,   900] | Loss: -1.0000 | Representation std: 0.0002\n",
      "T[5,   950] | Loss: -1.0000 | Representation std: 0.0002\n",
      "T[5,  1000] | Loss: -1.0000 | Representation std: 0.0001\n",
      "T[5,  1050] | Loss: -1.0000 | Representation std: 0.0001\n",
      "[Epoch   4] Loss: -1.0000 | Collapse Level: 0.9967 / 1.00 | Representation std: 0.0001 / 0.044194 | Duration: 530.93 s | Saved: True\n"
     ]
    }
   ],
   "source": [
    "print(f\"Using {device} device\")\n",
    "model.to(device)\n",
    "\n",
    "# Setup.\n",
    "avg_loss = 0.\n",
    "avg_output_std = 0.\n",
    "avg_rep_collapse = 0.\n",
    "\n",
    "# Saving best model's weights.\n",
    "best_model_wts = copy.deepcopy(model.state_dict())\n",
    "lowest_loss = 10000\n",
    "lowest_collapse_level = 10000\n",
    "\n",
    "# Main training loop.\n",
    "for e in range(EPOCHS):\n",
    "\n",
    "    # Timer added.\n",
    "    t0 = time.time()\n",
    "\n",
    "    batch_id = 0\n",
    "\n",
    "    # Iterating through the dataloader (lightly dataset is different).\n",
    "    for (x0, x1), _, _ in dataloader_train_simsiam:\n",
    "\n",
    "        # Move images to the GPU.\n",
    "        x0 = x0.to(device)\n",
    "        x1 = x1.to(device)\n",
    "\n",
    "        # Run the model on both transforms of the images:\n",
    "        # We get projections (z0 and z1) and\n",
    "        # predictions (p0 and p1) as output.\n",
    "        z0, p0 = model(x0)\n",
    "        z1, p1 = model(x1)\n",
    "\n",
    "        # Apply the symmetric negative cosine similarity\n",
    "        # and run backpropagation.\n",
    "        loss = 0.5 * (criterion(z0, p1) + criterion(z1, p0))\n",
    "        loss.backward()\n",
    "\n",
    "        optimizer.step()\n",
    "        optimizer.zero_grad()\n",
    "\n",
    "        # Calculate the per-dimension standard deviation of the outputs.\n",
    "        # We can use this later to check whether the embeddings are collapsing.\n",
    "        output = p0.detach()\n",
    "        output = torch.nn.functional.normalize(output, dim=1)\n",
    "\n",
    "        output_std = torch.std(output, 0)\n",
    "        output_std = output_std.mean()\n",
    "\n",
    "        # Use moving averages to track the loss and standard deviation.\n",
    "        w = 0.9\n",
    "        avg_loss = w * avg_loss + (1 - w) * loss.item()\n",
    "        avg_output_std = w * avg_output_std + (1 - w) * output_std.item()\n",
    "\n",
    "        # Use moving averages to track representation collapse.\n",
    "        avg_rep_collapse = (w * avg_rep_collapse\n",
    "                            + (1 - w) * std_of_l2_normalized(output).item())\n",
    "\n",
    "        if batch_id % 50 == 49:\n",
    "            print(f'T[{e + 1}, {batch_id + 1:5d}] | '\n",
    "                  f'Loss: {avg_loss:.4f} | '\n",
    "                  f'Representation std: {avg_rep_collapse:.4f}')\n",
    "\n",
    "        batch_id += 1\n",
    "\n",
    "    # The level of collapse is large if the standard deviation of the L2\n",
    "    # normalized output is much smaller than 1 / sqrt(dim).\n",
    "    collapse_level = max(0., 1 - math.sqrt(out_dim) * avg_output_std)\n",
    "\n",
    "    # Ideal value for not collapsing.\n",
    "    rep_ideal = 1 / math.sqrt(out_dim)\n",
    "\n",
    "    # Deep copy the weights of the model.\n",
    "    save_model = True\n",
    "    if save_model:\n",
    "        lowest_loss = avg_loss\n",
    "        lowest_collapse_level = collapse_level\n",
    "        lowest_rep_collapse = avg_rep_collapse\n",
    "        best_model_wts = copy.deepcopy(model.state_dict())\n",
    "\n",
    "        # Move to CPU before saving it.\n",
    "        model.to('cpu')\n",
    "\n",
    "        # Filename with stats.\n",
    "        filename = f'pytorch_models/simsiam/simsiam_backbone_resnet18' \\\n",
    "                   f'-loss={lowest_loss:.4f}' \\\n",
    "                   f'-coll={lowest_collapse_level:.4f}(0)' \\\n",
    "                   f'_{avg_rep_collapse:.4f}({rep_ideal:4f})' \\\n",
    "                   f'-time={datetime.now():%Y_%m_%d_%H_%M_%S}'\n",
    "\n",
    "        # Save this pretrained model (recommended approach).\n",
    "        torch.save(model.backbone.state_dict(), filename)\n",
    "\n",
    "        # Move back to the GPU.\n",
    "        model.to(device)\n",
    "\n",
    "    # Print intermediate results (timing added).\n",
    "    print(f'[Epoch {e:3d}] '\n",
    "          f'Loss: {avg_loss:.4f} | '\n",
    "          f'Collapse Level: {collapse_level:.4f} / 1.00 | '\n",
    "          f'Representation std: {avg_rep_collapse:.4f} / {rep_ideal:4f} | '\n",
    "          f'Duration: {(time.time()-t0):.2f} s | '\n",
    "          f'Saved: {save_model}')"
   ]
  },
  {
   "cell_type": "markdown",
   "id": "c5576290-ee98-4e46-994c-9f760be29a47",
   "metadata": {},
   "source": [
    "Collapse level: the closer to zero the better"
   ]
  },
  {
   "cell_type": "markdown",
   "id": "4243d3a7-2030-46b4-97ce-a095d5d8133b",
   "metadata": {},
   "source": [
    "A value close to 0 indicates that the representations have collapsed. A value close to 1/sqrt(dimensions), where dimensions are the number of representation dimensions, indicates that the representations are stable. "
   ]
  },
  {
   "cell_type": "markdown",
   "id": "c6818fcd-c195-413f-b940-d03b83799dd3",
   "metadata": {},
   "source": [
    "### Checking the weights of the last model"
   ]
  },
  {
   "cell_type": "code",
   "execution_count": 26,
   "id": "f9f997d9-11ab-4b6e-a7fc-5e17e56e7212",
   "metadata": {},
   "outputs": [
    {
     "name": "stdout",
     "output_type": "stream",
     "text": [
      "Conv2d(3, 64, kernel_size=(7, 7), stride=(2, 2), padding=(3, 3), bias=False)\n",
      "tensor([[[-2.8740e-02, -7.0705e-03, -4.4241e-04,  1.0018e-02,  1.8466e-03,\n",
      "           1.3873e-04, -1.6420e-02],\n",
      "         [-1.7437e-02,  3.1784e-02,  5.3582e-02,  3.8743e-02, -2.5024e-03,\n",
      "          -9.2248e-03, -2.5062e-02],\n",
      "         [ 4.6739e-02,  8.4043e-02,  1.5208e-02, -9.9723e-02, -9.9015e-02,\n",
      "          -4.7156e-02, -4.2712e-02],\n",
      "         [ 5.8795e-02, -3.1194e-02, -2.0492e-01, -2.1403e-01, -4.2024e-02,\n",
      "           3.2604e-02,  1.4738e-02],\n",
      "         [-3.7444e-02, -1.4314e-01, -1.4839e-01,  1.5490e-02,  1.2499e-01,\n",
      "           6.1046e-02,  1.5707e-02],\n",
      "         [-1.9682e-02, -2.5334e-02,  4.1752e-02,  1.3230e-01,  9.4931e-02,\n",
      "          -1.3933e-02, -3.1197e-02],\n",
      "         [-2.0264e-02, -4.0049e-03,  3.1962e-02,  3.2215e-02, -3.4914e-02,\n",
      "          -8.6690e-02, -5.7823e-02]],\n",
      "\n",
      "        [[-1.0942e-02,  8.0824e-03, -3.7357e-04, -3.7174e-03, -1.0745e-02,\n",
      "          -4.8427e-03, -5.8470e-03],\n",
      "         [ 2.2004e-02,  6.6378e-02,  6.5694e-02,  2.4377e-02, -2.2822e-02,\n",
      "          -1.8256e-02, -1.2864e-02],\n",
      "         [ 7.3353e-02,  9.7526e-02, -2.2175e-02, -1.7080e-01, -1.4848e-01,\n",
      "          -6.3927e-02, -4.1508e-02],\n",
      "         [ 2.6184e-02, -1.0788e-01, -3.2236e-01, -3.0567e-01, -6.1690e-02,\n",
      "           4.8037e-02,  2.9349e-02],\n",
      "         [-7.9699e-02, -2.1956e-01, -2.0785e-01,  3.3498e-02,  1.9863e-01,\n",
      "           1.2314e-01,  5.7866e-02],\n",
      "         [-3.8599e-02, -4.0396e-02,  6.3301e-02,  1.8876e-01,  1.7306e-01,\n",
      "           3.6069e-02, -1.1326e-02],\n",
      "         [-4.1498e-03,  2.0576e-02,  6.8658e-02,  7.9541e-02,  1.3672e-02,\n",
      "          -6.2024e-02, -6.0380e-02]],\n",
      "\n",
      "        [[-2.5351e-03,  6.7303e-03, -1.3484e-02, -5.0068e-03,  3.6598e-03,\n",
      "           2.7668e-03,  8.8177e-03],\n",
      "         [ 2.2891e-03,  2.1614e-02,  2.9863e-02,  3.6091e-02,  7.5508e-03,\n",
      "          -2.3044e-03,  2.1448e-03],\n",
      "         [ 2.7259e-02,  6.2321e-02,  2.1457e-02, -6.6368e-02, -7.4600e-02,\n",
      "          -3.8805e-02, -3.0449e-02],\n",
      "         [ 2.4660e-02, -2.7039e-02, -1.4778e-01, -1.5235e-01, -2.8246e-02,\n",
      "           2.6428e-02,  1.3430e-02],\n",
      "         [-1.7992e-02, -8.6197e-02, -8.3583e-02,  4.7693e-02,  1.1389e-01,\n",
      "           5.7737e-02,  3.3035e-02],\n",
      "         [-6.1334e-03, -2.2712e-03,  4.1136e-02,  9.6996e-02,  7.7552e-02,\n",
      "           8.1937e-03, -8.1574e-03],\n",
      "         [-3.4021e-03, -4.6631e-03,  1.5941e-02,  1.7821e-02, -1.5572e-02,\n",
      "          -3.9284e-02, -3.6851e-02]]], device='cuda:0',\n",
      "       grad_fn=<SelectBackward0>)\n"
     ]
    }
   ],
   "source": [
    "# First convolutional layer weights.\n",
    "print(model.backbone[0])\n",
    "print(model.backbone[0].weight[63])"
   ]
  },
  {
   "cell_type": "markdown",
   "id": "ccf66499-e3f5-477f-b158-840e9c041c63",
   "metadata": {},
   "source": [
    "***"
   ]
  },
  {
   "cell_type": "markdown",
   "id": "d33a48bc-7ed0-430b-8328-632b93901014",
   "metadata": {},
   "source": [
    "***"
   ]
  },
  {
   "cell_type": "markdown",
   "id": "42baa2ae-266c-4d94-88aa-25f9408f8339",
   "metadata": {},
   "source": [
    "# Check each model's performance/collapse on val data"
   ]
  },
  {
   "cell_type": "code",
   "execution_count": 27,
   "id": "39a5cb1c-437d-4e7c-adbd-a9c57418fc56",
   "metadata": {},
   "outputs": [],
   "source": [
    "def get_scatter_plot_with_thumbnails_axes(ax, title=''):\n",
    "    \"\"\"\n",
    "    Creates a scatter plot with image overlays to be plot\n",
    "    in a particular ax position.\n",
    "\n",
    "    \"\"\"\n",
    "\n",
    "    # Shuffle images and find out which images to show.\n",
    "    shown_images_idx = []\n",
    "    shown_images = np.array([[1., 1.]])\n",
    "    iterator = [i for i in range(embeddings_2d.shape[0])]\n",
    "    np.random.shuffle(iterator)\n",
    "    for i in iterator:\n",
    "\n",
    "        # Only show image if it is sufficiently far away from the others.\n",
    "        dist = np.sum((embeddings_2d[i] - shown_images) ** 2, 1)\n",
    "        if np.min(dist) < 2e-3:\n",
    "            continue\n",
    "        shown_images = np.r_[shown_images, [embeddings_2d[i]]]\n",
    "        shown_images_idx.append(i)\n",
    "\n",
    "    # Plot image overlays.\n",
    "    for idx in shown_images_idx:\n",
    "        thumbnail_size = int(rcp['figure.figsize'][0] * 2.5)  # 2.\n",
    "        path = os.path.join(data_dir_test, filenames[idx])\n",
    "        img = Image.open(path)\n",
    "        img = functional.resize(img, thumbnail_size)\n",
    "        img = np.array(img)\n",
    "        img_box = osb.AnnotationBbox(\n",
    "            osb.OffsetImage(img, cmap=plt.cm.gray_r),\n",
    "            embeddings_2d[idx],\n",
    "            pad=0.2,\n",
    "        )\n",
    "        ax.add_artist(img_box)\n",
    "\n",
    "    # Set aspect ratio.\n",
    "    ratio = 1. / ax.get_data_ratio()\n",
    "    ax.set_aspect(ratio, adjustable='box')\n",
    "    ax.title.set_text(title)"
   ]
  },
  {
   "cell_type": "code",
   "execution_count": 28,
   "id": "ab03d0fe-d736-4c71-a070-f77739c1d933",
   "metadata": {},
   "outputs": [
    {
     "name": "stdout",
     "output_type": "stream",
     "text": [
      "datasets/Sentinel2GlobalLULC_full_ratio_seed=42/val/\n",
      "Subplot of model-4 done!\r"
     ]
    },
    {
     "data": {
      "image/png": "[encoded data removed]",
      "text/plain": [
       "<Figure size 4320x720 with 6 Axes>"
      ]
     },
     "metadata": {
      "needs_background": "light"
     },
     "output_type": "display_data"
    }
   ],
   "source": [
    "# Validation dataset.\n",
    "data_dir_test = data_dir_target + '/val/'\n",
    "print(data_dir_test)\n",
    "\n",
    "# List of trained models.\n",
    "model_list = []\n",
    "for root, dirs, files in os.walk('pytorch_models/simsiam/'):\n",
    "    for i, filename in enumerate(sorted(files, reverse=False)):\n",
    "        model_list.append(root + filename)\n",
    "        # print(f'{i:02}: {filename}')\n",
    "\n",
    "# Plot setup.\n",
    "ncols = 6\n",
    "nrows = int(math.ceil(len(model_list) / ncols))\n",
    "\n",
    "fig, axes = plt.subplots(nrows=nrows,\n",
    "                         ncols=ncols,\n",
    "                         figsize=(10*ncols, 10*nrows))\n",
    "\n",
    "# Convert the array to 1 dimension.\n",
    "axes = axes.ravel()\n",
    "\n",
    "# Main loop over the models.\n",
    "for model_id, model_name in enumerate(model_list):\n",
    "\n",
    "    # Load model weights.\n",
    "    model.backbone.load_state_dict(torch.load(model_name))\n",
    "\n",
    "    # Empty lists.\n",
    "    embeddings = []\n",
    "    filenames = []\n",
    "\n",
    "    # Disable gradients for faster calculations.\n",
    "    # Put the model in evaluation mode.\n",
    "    model.eval()\n",
    "    with torch.no_grad():\n",
    "        for i, (x, _, fnames) in enumerate(dataloader_val):\n",
    "\n",
    "            # Move the images to the GPU.\n",
    "            x = x.to(device)\n",
    "\n",
    "            # Embed the images with the pre-trained backbone.\n",
    "            y = model.backbone(x).flatten(start_dim=1)\n",
    "\n",
    "            # Store the embeddings and filenames in lists.\n",
    "            embeddings.append(y)\n",
    "            filenames = filenames + list(fnames)\n",
    "\n",
    "    # Concatenate the embeddings and convert to numpy.\n",
    "    embeddings = torch.cat(embeddings, dim=0)\n",
    "    embeddings = embeddings.cpu().numpy()\n",
    "\n",
    "    # For the scatter plot we want to transform the images to a two-dimensional\n",
    "    # vector space using a random Gaussian projection.\n",
    "    projection = random_projection.GaussianRandomProjection(n_components=2,\n",
    "                                                            random_state=SEED)\n",
    "    embeddings_2d = projection.fit_transform(embeddings)\n",
    "\n",
    "    # Normalize the embeddings to fit in the [0, 1] square.\n",
    "    M = np.max(embeddings_2d, axis=0)\n",
    "    m = np.min(embeddings_2d, axis=0)\n",
    "    embeddings_2d = (embeddings_2d - m) / (M - m)\n",
    "\n",
    "    # Get a scatter plot with thumbnail overlays.\n",
    "    get_scatter_plot_with_thumbnails_axes(axes[model_id],\n",
    "                                          title=model_name[49:93])\n",
    "\n",
    "    # Show progress.\n",
    "    print(f'Subplot of model-{model_id} done!',\n",
    "          end='\\r',\n",
    "          flush=True)\n",
    "\n",
    "# Save figure.\n",
    "fig.savefig(f'models_knn_{datetime.now():%Y_%m_%d_%H_%M_%S}.pdf',\n",
    "            bbox_inches='tight')"
   ]
  },
  {
   "cell_type": "markdown",
   "id": "30c41974-eaad-4263-9e74-6fb3fb66b2f8",
   "metadata": {},
   "source": [
    "***"
   ]
  },
  {
   "cell_type": "markdown",
   "id": "f49d5f3d-aa82-48ef-916c-0c50dbd3636f",
   "metadata": {},
   "source": [
    "***"
   ]
  },
  {
   "cell_type": "markdown",
   "id": "8e2f9390-ddd8-4966-ae99-416445f99ada",
   "metadata": {},
   "source": [
    "REVISED UP TO HERE!"
   ]
  },
  {
   "cell_type": "markdown",
   "id": "a91de858-a1f9-4f98-90c4-586d9dee8ac1",
   "metadata": {},
   "source": [
    "# Embeddings for the samples of the test dataset"
   ]
  },
  {
   "cell_type": "code",
   "execution_count": null,
   "id": "2fcb1456-1752-406e-8963-5e1c2203c6ca",
   "metadata": {},
   "outputs": [],
   "source": [
    "# Test dataset.\n",
    "data_dir_test = data_dir_target + '/test/'\n",
    "print(data_dir_test)"
   ]
  },
  {
   "cell_type": "code",
   "execution_count": null,
   "id": "3eb16e0a-9190-4413-aa76-6fd557a66e47",
   "metadata": {},
   "outputs": [],
   "source": [
    "# load best model weights\n",
    "idx = 0\n",
    "print(model_list[idx])\n",
    "model.backbone.load_state_dict(torch.load(model_list[idx]))"
   ]
  },
  {
   "cell_type": "code",
   "execution_count": null,
   "id": "6db33812-0e52-4ba7-82ca-11da3895677d",
   "metadata": {},
   "outputs": [],
   "source": [
    "# Empty lists.\n",
    "embeddings = []\n",
    "filenames = []\n",
    "\n",
    "# Disable gradients for faster calculations.\n",
    "# Put the model in evaluation mode.\n",
    "model.eval()\n",
    "with torch.no_grad():\n",
    "    for i, (x, _, fnames) in enumerate(dataloader_test):\n",
    "\n",
    "        # Move the images to the GPU.\n",
    "        x = x.to(device)\n",
    "\n",
    "        # Embed the images with the pre-trained backbone.\n",
    "        y = model.backbone(x).flatten(start_dim=1)\n",
    "\n",
    "        # Store the embeddings and filenames in lists.\n",
    "        embeddings.append(y)\n",
    "        filenames = filenames + list(fnames)\n",
    "\n",
    "# Concatenate the embeddings and convert to numpy.\n",
    "embeddings = torch.cat(embeddings, dim=0)\n",
    "embeddings = embeddings.cpu().numpy()"
   ]
  },
  {
   "cell_type": "markdown",
   "id": "018fcfd3-b381-41d9-acae-88311438fa2c",
   "metadata": {},
   "source": [
    "***"
   ]
  },
  {
   "cell_type": "markdown",
   "id": "6ee6e131-4162-42d2-8999-1ba77a176782",
   "metadata": {},
   "source": [
    "***"
   ]
  },
  {
   "cell_type": "markdown",
   "id": "8c4e176a-477a-4732-bd6a-960e98170a13",
   "metadata": {},
   "source": [
    "# Scatter Plot"
   ]
  },
  {
   "cell_type": "markdown",
   "id": "93ebb68b-3b6b-4dd4-86ca-41bf36180d27",
   "metadata": {},
   "source": [
    "## Imports"
   ]
  },
  {
   "cell_type": "code",
   "execution_count": null,
   "id": "9ba27ac9-c52c-4028-bbfb-41636e1693af",
   "metadata": {},
   "outputs": [],
   "source": [
    "# For plotting.\n",
    "from PIL import Image\n",
    "import matplotlib.pyplot as plt\n",
    "import matplotlib.offsetbox as osb\n",
    "from matplotlib import rcParams as rcp\n",
    "\n",
    "# For resizing images to thumbnails.\n",
    "import torchvision.transforms.functional as functional\n",
    "\n",
    "# For clustering and 2d representations-\n",
    "from sklearn import random_projection"
   ]
  },
  {
   "cell_type": "markdown",
   "id": "ea426de8-886d-4a5b-a28a-4928ac029cc4",
   "metadata": {},
   "source": [
    "## Plot some examples"
   ]
  },
  {
   "cell_type": "markdown",
   "id": "0e672d5e-2d3c-479d-ba94-8f19e9543f4d",
   "metadata": {},
   "source": [
    "### Definitions"
   ]
  },
  {
   "cell_type": "code",
   "execution_count": null,
   "id": "6d3e1ba4-9f2f-41b9-87e9-60cece6d7005",
   "metadata": {},
   "outputs": [],
   "source": [
    "# Test data.\n",
    "data_dir_test = data_dir_target + '/test/'\n",
    "print(data_dir_test)"
   ]
  },
  {
   "cell_type": "code",
   "execution_count": null,
   "id": "6cfb003c-70f0-46be-ade6-37e35e453aa9",
   "metadata": {},
   "outputs": [],
   "source": [
    "# For the scatter plot we want to transform the images to a two-dimensional\n",
    "# vector space using a random Gaussian projection.\n",
    "projection = random_projection.GaussianRandomProjection(n_components=2,\n",
    "                                                        random_state=SEED)\n",
    "embeddings_2d = projection.fit_transform(embeddings)\n",
    "\n",
    "# Normalize the embeddings to fit in the [0, 1] square.\n",
    "M = np.max(embeddings_2d, axis=0)\n",
    "m = np.min(embeddings_2d, axis=0)\n",
    "embeddings_2d = (embeddings_2d - m) / (M - m)"
   ]
  },
  {
   "cell_type": "code",
   "execution_count": null,
   "id": "bd4de9c6-f3bf-48f4-9f6f-9aafafa3363f",
   "metadata": {},
   "outputs": [],
   "source": [
    "def get_scatter_plot_with_thumbnails():\n",
    "    \"\"\"\n",
    "    Creates a scatter plot with image overlays.\n",
    "\n",
    "    \"\"\"\n",
    "\n",
    "    # Initialize empty figure and add subplot.\n",
    "    fig = plt.figure(figsize=(15, 15))\n",
    "    fig.suptitle('Scatter Plot of the Sentinel-2 Dataset')\n",
    "    ax = fig.add_subplot(1, 1, 1)\n",
    "\n",
    "    # Shuffle images and find out which images to show.\n",
    "    shown_images_idx = []\n",
    "    shown_images = np.array([[1., 1.]])\n",
    "    iterator = [i for i in range(embeddings_2d.shape[0])]\n",
    "    np.random.shuffle(iterator)\n",
    "    for i in iterator:\n",
    "\n",
    "        # Only show image if it is sufficiently far away from the others.\n",
    "        dist = np.sum((embeddings_2d[i] - shown_images) ** 2, 1)\n",
    "        if np.min(dist) < 2e-3:\n",
    "            continue\n",
    "        shown_images = np.r_[shown_images, [embeddings_2d[i]]]\n",
    "        shown_images_idx.append(i)\n",
    "\n",
    "    # Plot image overlays.\n",
    "    for idx in shown_images_idx:\n",
    "        thumbnail_size = int(rcp['figure.figsize'][0] * 10.)\n",
    "        path = os.path.join(data_dir_test, filenames[idx])\n",
    "        img = Image.open(path)\n",
    "        img = functional.resize(img, thumbnail_size)\n",
    "        img = np.array(img)\n",
    "        img_box = osb.AnnotationBbox(\n",
    "            osb.OffsetImage(img, cmap=plt.cm.gray_r),\n",
    "            embeddings_2d[idx],\n",
    "            pad=0.2,\n",
    "        )\n",
    "        ax.add_artist(img_box)\n",
    "\n",
    "    # Set aspect ratio.\n",
    "    ratio = 1. / ax.get_data_ratio()\n",
    "    ax.set_aspect(ratio, adjustable='box')"
   ]
  },
  {
   "cell_type": "code",
   "execution_count": null,
   "id": "6fecab83-52c5-4de3-98d3-2e34d776cf0e",
   "metadata": {},
   "outputs": [],
   "source": [
    "# Get a scatter plot with thumbnail overlays.\n",
    "get_scatter_plot_with_thumbnails()"
   ]
  },
  {
   "cell_type": "markdown",
   "id": "6ab44f37-a3da-4044-bea3-94bc6eb83384",
   "metadata": {},
   "source": [
    "***"
   ]
  },
  {
   "cell_type": "markdown",
   "id": "41a11f59-c32b-495d-a8fd-d6303ef03b1c",
   "metadata": {},
   "source": [
    "***"
   ]
  },
  {
   "cell_type": "markdown",
   "id": "0ccc28d1-c569-4163-a3a7-f84ad17884eb",
   "metadata": {},
   "source": [
    "# Nearest Neighbors"
   ]
  },
  {
   "cell_type": "markdown",
   "id": "c1423fa1-653f-474e-ba2e-404cd7e37868",
   "metadata": {},
   "source": [
    "### Pick up one random sample per class"
   ]
  },
  {
   "cell_type": "code",
   "execution_count": null,
   "id": "998cde14-fb59-4330-b070-467a54537e51",
   "metadata": {},
   "outputs": [],
   "source": [
    "# List of subdirectories (classes).\n",
    "directory_list = []\n",
    "for root, dirs, files in os.walk(data_dir_test):\n",
    "    for dirname in sorted(dirs):\n",
    "        directory_list.append(os.path.join(root, dirname))\n",
    "        print(dirname)"
   ]
  },
  {
   "cell_type": "code",
   "execution_count": null,
   "id": "19ae54d2-c622-493a-96fa-f98fa931c371",
   "metadata": {},
   "outputs": [],
   "source": [
    "# List of files (samples).\n",
    "example_images = []\n",
    "for classes in directory_list:\n",
    "    random_file = np.random.choice(os.listdir(classes))\n",
    "    path_to_random_file = classes + '/' + random_file\n",
    "    example_images.append(path_to_random_file[53:])\n",
    "    print(path_to_random_file)"
   ]
  },
  {
   "cell_type": "code",
   "execution_count": null,
   "id": "88afde3b-32bb-4bef-ae93-a3a18475a229",
   "metadata": {},
   "outputs": [],
   "source": [
    "def get_image_as_np_array(filename: str):\n",
    "    \"\"\"\n",
    "    Loads the image with filename and returns it as a numpy array.\n",
    "\n",
    "    \"\"\"\n",
    "    img = Image.open(filename)\n",
    "    return np.asarray(img)\n",
    "\n",
    "\n",
    "def get_image_as_np_array_with_frame(filename: str, w: int = 5):\n",
    "    \"\"\"\n",
    "    Returns an image as a numpy array with a black frame of width w.\n",
    "\n",
    "    \"\"\"\n",
    "    img = get_image_as_np_array(filename)\n",
    "    ny, nx, _ = img.shape\n",
    "\n",
    "    # Create an empty image with padding for the frame.\n",
    "    framed_img = np.zeros((w + ny + w, w + nx + w, 3))\n",
    "    framed_img = framed_img.astype(np.uint8)\n",
    "\n",
    "    # Put the original image in the middle of the new one.\n",
    "    framed_img[w:-w, w:-w] = img\n",
    "    return framed_img\n",
    "\n",
    "\n",
    "def plot_nearest_neighbors_nxn(example_image: str, i: int):\n",
    "    \"\"\"\n",
    "    Plots the example image and its eight nearest neighbors.\n",
    "\n",
    "    \"\"\"\n",
    "    n_subplots = 6\n",
    "\n",
    "    # Initialize empty figure.\n",
    "    fig = plt.figure(figsize=(10, 10))\n",
    "    fig.suptitle(f\"Nearest Neighbor Plot {i + 1}\")\n",
    "\n",
    "    # Get indexes.\n",
    "    example_idx = filenames.index(example_image)\n",
    "\n",
    "    # Get distances to the cluster center.\n",
    "    distances = embeddings - embeddings[example_idx]\n",
    "    distances = np.power(distances, 2).sum(-1).squeeze()\n",
    "\n",
    "    # Sort indices by distance to the center.\n",
    "    nearest_neighbors = np.argsort(distances)[:n_subplots]\n",
    "\n",
    "    # Show images.\n",
    "    for plot_offset, plot_idx in enumerate(nearest_neighbors):\n",
    "        ax = fig.add_subplot(3, 3, plot_offset + 1)\n",
    "\n",
    "        # Get the corresponding filename.\n",
    "        fname = os.path.join(data_dir_test, filenames[plot_idx])\n",
    "        if plot_offset == 0:\n",
    "            ax.set_title(f\"Example Image\")\n",
    "            plt.imshow(get_image_as_np_array_with_frame(fname))\n",
    "        else:\n",
    "            plt.imshow(get_image_as_np_array(fname))\n",
    "\n",
    "        # Let's disable the axis.\n",
    "        plt.axis(\"off\")"
   ]
  },
  {
   "cell_type": "code",
   "execution_count": null,
   "id": "8b0db2c2-96ba-4715-9482-ace9155f5b7c",
   "metadata": {},
   "outputs": [],
   "source": [
    "# Show example images for each cluster.\n",
    "for i, example_image in enumerate(example_images):\n",
    "    plot_nearest_neighbors_nxn(example_image, i)"
   ]
  },
  {
   "cell_type": "code",
   "execution_count": null,
   "id": "7f809fc8-79ab-4389-a8ed-5e6a98421fc0",
   "metadata": {},
   "outputs": [],
   "source": []
  }
 ],
 "metadata": {
  "kernelspec": {
   "display_name": "lulc-venv",
   "language": "python",
   "name": "lulc-venv"
  },
  "language_info": {
   "codemirror_mode": {
    "name": "ipython",
    "version": 3
   },
   "file_extension": ".py",
   "mimetype": "text/x-python",
   "name": "python",
   "nbconvert_exporter": "python",
   "pygments_lexer": "ipython3",
   "version": "3.8.10"
  },
  "toc-autonumbering": true
 },
 "nbformat": 4,
 "nbformat_minor": 5
}
