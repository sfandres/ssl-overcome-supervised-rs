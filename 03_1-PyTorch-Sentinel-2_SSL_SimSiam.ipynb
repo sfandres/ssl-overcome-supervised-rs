{
 "cells": [
  {
   "cell_type": "markdown",
   "id": "924096aa-e3ec-437c-81fe-03dd73fbfce5",
   "metadata": {},
   "source": [
    "**FIRST ATTEMP TO APPLY SSL TO THE SENTINEL-2 DATASET**"
   ]
  },
  {
   "cell_type": "markdown",
   "id": "49adbc03-f1d2-446f-b2aa-028c144e8a4a",
   "metadata": {},
   "source": [
    "Reference tutorial: https://docs.lightly.ai/tutorials/package/tutorial_simsiam_esa.html"
   ]
  },
  {
   "cell_type": "code",
   "execution_count": null,
   "id": "65f2f9be-dc8e-4b2c-ab6e-94407466cad3",
   "metadata": {},
   "outputs": [],
   "source": [
    "%load_ext pycodestyle_magic"
   ]
  },
  {
   "cell_type": "code",
   "execution_count": null,
   "id": "1c01ea34-c899-40a9-8a7f-e6cc346cee53",
   "metadata": {},
   "outputs": [],
   "source": [
    "%pycodestyle_on"
   ]
  },
  {
   "cell_type": "markdown",
   "id": "f7a7fc52-07dd-41f2-9fb4-510f27a20e82",
   "metadata": {},
   "source": [
    "***"
   ]
  },
  {
   "cell_type": "markdown",
   "id": "e7de16ef-fd9a-45fb-b620-a514366d9db4",
   "metadata": {},
   "source": [
    "***"
   ]
  },
  {
   "cell_type": "markdown",
   "id": "428a342e-d7c1-4999-8ed0-0a3118f5f3bf",
   "metadata": {},
   "source": [
    "# Imports"
   ]
  },
  {
   "cell_type": "markdown",
   "id": "c506cd5d-71b7-47d7-b157-1b58caee0936",
   "metadata": {},
   "source": [
    "## Packages and modules"
   ]
  },
  {
   "cell_type": "code",
   "execution_count": null,
   "id": "1cb94f55-b0da-4d7e-b461-f6a478166de9",
   "metadata": {},
   "outputs": [],
   "source": [
    "# Main.\n",
    "import utils\n",
    "\n",
    "# OS module.\n",
    "import os\n",
    "\n",
    "# PyTorch.\n",
    "import torch\n",
    "import torchvision\n",
    "from torchinfo import summary\n",
    "\n",
    "# Data management.\n",
    "import numpy as np\n",
    "import pandas as pd\n",
    "\n",
    "# Lightly.\n",
    "import lightly\n",
    "\n",
    "# Training checks.\n",
    "from datetime import datetime\n",
    "import time\n",
    "import copy\n",
    "import math\n",
    "\n",
    "from lightly.utils.debug import std_of_l2_normalized\n",
    "\n",
    "# Showing images in the notebook.\n",
    "import IPython\n",
    "\n",
    "# For plotting.\n",
    "from PIL import Image\n",
    "import matplotlib.pyplot as plt\n",
    "import matplotlib.offsetbox as osb\n",
    "from matplotlib import rcParams as rcp\n",
    "import seaborn as sns\n",
    "\n",
    "# For resizing images to thumbnails.\n",
    "import torchvision.transforms.functional as functional\n",
    "\n",
    "# For clustering and 2d representations.\n",
    "from sklearn import random_projection"
   ]
  },
  {
   "cell_type": "markdown",
   "id": "f2265f6b-9854-4e2e-85bd-3e7c88792e77",
   "metadata": {},
   "source": [
    "## Settings"
   ]
  },
  {
   "cell_type": "code",
   "execution_count": null,
   "id": "3576cff2-906a-4897-ab1a-578ffebaa5ef",
   "metadata": {},
   "outputs": [],
   "source": [
    "# Handling class imbalance.\n",
    "handle_imb_classes = True\n",
    "\n",
    "# Hyperparamenters.\n",
    "exp = utils.Experiment(epochs=2,\n",
    "                       batch_size=64)\n",
    "output_dir_fig = 'figures/'\n",
    "output_dir_model = 'pytorch_models/'\n",
    "print(exp.device)"
   ]
  },
  {
   "cell_type": "code",
   "execution_count": null,
   "id": "379a17bd-cd1f-40ea-a333-569ed975c468",
   "metadata": {},
   "outputs": [],
   "source": [
    "# Dimension of the embeddings.\n",
    "num_ftrs = 512\n",
    "\n",
    "# Dimension of the output of the prediction and projection heads.\n",
    "out_dim = proj_hidden_dim = 512\n",
    "\n",
    "# The prediction head uses a bottleneck architecture.\n",
    "pred_hidden_dim = 128"
   ]
  },
  {
   "cell_type": "markdown",
   "id": "897cdadd-b624-406c-8c2d-d4f57d796a21",
   "metadata": {},
   "source": [
    "## Reproducibility"
   ]
  },
  {
   "cell_type": "code",
   "execution_count": null,
   "id": "2b728bc3-9c98-474f-ba43-c1175071fde4",
   "metadata": {},
   "outputs": [],
   "source": [
    "exp.reproducibility()"
   ]
  },
  {
   "cell_type": "markdown",
   "id": "77ce08d1-0293-4830-a366-c149e95f0515",
   "metadata": {},
   "source": [
    "***"
   ]
  },
  {
   "cell_type": "markdown",
   "id": "6745ac7c-9497-4bf7-90b8-18a3dae2c27b",
   "metadata": {},
   "source": [
    "***"
   ]
  },
  {
   "cell_type": "markdown",
   "id": "ae9e2c6c-4e75-4708-88d2-1ef7da79a9f0",
   "metadata": {},
   "source": [
    "# Loading dataset"
   ]
  },
  {
   "cell_type": "code",
   "execution_count": null,
   "id": "5b62b9c8-daed-4a6d-b140-695cac41b76c",
   "metadata": {},
   "outputs": [],
   "source": [
    "# List of trained models.\n",
    "datasets_dir = 'datasets/'\n",
    "\n",
    "# Get the subsets with full path.\n",
    "data_dirs = utils.listdir_fullpath(datasets_dir)\n",
    "\n",
    "# Leave out unwanted subsets (0_Raw and Clothing-dataset).\n",
    "data_dirs = data_dirs[2:]\n",
    "for dirs in data_dirs:\n",
    "    print(dirs)\n",
    "\n",
    "# Select the target dataset.\n",
    "data_dir_target = data_dirs[1]\n",
    "print('\\nSelected: ' + data_dir_target)\n",
    "\n",
    "# Ratio.\n",
    "ratio = data_dir_target[\n",
    "    data_dir_target.index(\"(\"):data_dir_target.index(\")\")+1\n",
    "]\n",
    "print(ratio)\n",
    "\n",
    "# Load mean and std from file.\n",
    "mean, std = utils.load_mean_std_values(data_dir_target)\n",
    "print(mean)\n",
    "print(std)"
   ]
  },
  {
   "cell_type": "markdown",
   "id": "144ef555-daa7-48d6-be77-9d069ce7404d",
   "metadata": {},
   "source": [
    "## Custom tranforms (w/o normalization)"
   ]
  },
  {
   "cell_type": "markdown",
   "id": "119a8172-7c2c-49a0-99de-223d3b0ebbca",
   "metadata": {},
   "source": [
    "Define the augmentations for self-supervised learning."
   ]
  },
  {
   "cell_type": "code",
   "execution_count": null,
   "id": "3b451709-864e-42fe-841e-b30157619385",
   "metadata": {},
   "outputs": [],
   "source": [
    "# Data augmentations for the train dataset.\n",
    "train_transform = torchvision.transforms.Compose([\n",
    "    torchvision.transforms.Resize((exp.input_size, exp.input_size)),\n",
    "    torchvision.transforms.RandomResizedCrop(224, scale=(0.2, 1.)),\n",
    "    torchvision.transforms.RandomApply([\n",
    "            torchvision.transforms.ColorJitter(0.4, 0.4, 0.4, 0.1)\n",
    "        ], p=0.8),  # not strengthened\n",
    "    torchvision.transforms.RandomGrayscale(p=0.2),\n",
    "    # torchvision.transforms.RandomApply([\n",
    "    #     simsiam.loader.GaussianBlur([.1, 2.])\n",
    "    # ], p=0.5),\n",
    "    torchvision.transforms.RandomHorizontalFlip(),\n",
    "    torchvision.transforms.ToTensor(),\n",
    "    torchvision.transforms.Normalize(mean['train'], std['train'])\n",
    "])\n",
    "\n",
    "# Data augmentations for the val and test datasets.\n",
    "val_transform = torchvision.transforms.Compose([\n",
    "    torchvision.transforms.Resize((exp.input_size, exp.input_size)),\n",
    "    torchvision.transforms.ToTensor(),\n",
    "    torchvision.transforms.Normalize(mean['val'], std['val'])\n",
    "])\n",
    "\n",
    "# Data augmentations for the val and test datasets.\n",
    "test_transform = torchvision.transforms.Compose([\n",
    "    torchvision.transforms.Resize((exp.input_size, exp.input_size)),\n",
    "    torchvision.transforms.ToTensor(),\n",
    "    torchvision.transforms.Normalize(mean['test'], std['test'])\n",
    "])"
   ]
  },
  {
   "cell_type": "markdown",
   "id": "6ff192ed-3aa6-4ee3-aab1-76d8a737d6c6",
   "metadata": {},
   "source": [
    "## ImageFolder"
   ]
  },
  {
   "cell_type": "code",
   "execution_count": null,
   "id": "ea0e5c36-ceac-4e95-b132-e60207e5ad1f",
   "metadata": {},
   "outputs": [],
   "source": [
    "# Loading the three datasets.\n",
    "train_data = torchvision.datasets.ImageFolder(data_dir_target + '/train/')\n",
    "\n",
    "val_data = torchvision.datasets.ImageFolder(data_dir_target + '/val/')\n",
    "\n",
    "test_data = torchvision.datasets.ImageFolder(data_dir_target + '/test/')\n",
    "\n",
    "# Building the lightly datasets from the PyTorch datasets.\n",
    "train_data_lightly = lightly.data.LightlyDataset.from_torch_dataset(train_data)\n",
    "\n",
    "val_data_lightly = lightly.data.LightlyDataset.from_torch_dataset(\n",
    "    val_data,\n",
    "    transform=val_transform\n",
    ")\n",
    "\n",
    "test_data_lightly = lightly.data.LightlyDataset.from_torch_dataset(\n",
    "    test_data,\n",
    "    transform=test_transform\n",
    ")"
   ]
  },
  {
   "cell_type": "markdown",
   "id": "04b1aa1d-3350-4786-8bd1-7e45ca32a1da",
   "metadata": {},
   "source": [
    "## Dealing with imbalanced data"
   ]
  },
  {
   "cell_type": "code",
   "execution_count": null,
   "id": "becf7498-f773-4b39-b236-86d8957a691b",
   "metadata": {},
   "outputs": [],
   "source": [
    "if handle_imb_classes:\n",
    "\n",
    "    # Creating a list of labels of samples.\n",
    "    train_sample_labels = train_data.targets\n",
    "\n",
    "    # Calculating the number of samples per label/class.\n",
    "    class_sample_count = np.unique(train_sample_labels,\n",
    "                                   return_counts=True)[1]\n",
    "    print(class_sample_count)\n",
    "\n",
    "    # Weight per sample not per class.\n",
    "    weight = 1. / class_sample_count\n",
    "    samples_weight = np.array([weight[t] for t in train_sample_labels])\n",
    "\n",
    "    # Casting.\n",
    "    samples_weight = torch.from_numpy(samples_weight)\n",
    "    samples_weigth = samples_weight.double()\n",
    "\n",
    "    # Sampler, imbalanced data.\n",
    "    sampler = torch.utils.data.WeightedRandomSampler(\n",
    "        samples_weight,\n",
    "        len(samples_weight)\n",
    "    )\n",
    "    shuffle = False\n",
    "\n",
    "else:\n",
    "    sampler = None\n",
    "    shuffle = True\n",
    "\n",
    "print(f'Sampler: {sampler}')\n",
    "print(f'Shuffle: {shuffle}')"
   ]
  },
  {
   "cell_type": "markdown",
   "id": "2f3c1996-9ed9-4597-bb3a-3819f70bb22d",
   "metadata": {},
   "source": [
    "## Collate functions"
   ]
  },
  {
   "cell_type": "markdown",
   "id": "fe6088d6-ddbd-4829-a1ee-dbbc60b5d522",
   "metadata": {},
   "source": [
    "PyTorch uses a Collate Function to combine the data in your batches together.\n",
    "\n",
    "BaseCollateFunction (base class) takes a batch of images as input and transforms each image into two different augmentations with the help of random transforms. The images are then concatenated such that the output batch is exactly twice the length of the input batch."
   ]
  },
  {
   "cell_type": "code",
   "execution_count": null,
   "id": "af33670d-1bed-4d12-a117-279d43b98089",
   "metadata": {},
   "outputs": [],
   "source": [
    "# Base class for other collate implementations.\n",
    "# This allows training.\n",
    "collate_fn_train = lightly.data.collate.BaseCollateFunction(train_transform)"
   ]
  },
  {
   "cell_type": "markdown",
   "id": "615c7a8d-f598-417d-92f2-3b411a68dcc0",
   "metadata": {},
   "source": [
    "## PyTorch dataloaders"
   ]
  },
  {
   "cell_type": "code",
   "execution_count": null,
   "id": "57a496a2-2e9f-4e66-81bb-9a6f475cacdd",
   "metadata": {},
   "outputs": [],
   "source": [
    "# Dataloader for training.\n",
    "dataloader_train_simsiam = torch.utils.data.DataLoader(\n",
    "    train_data_lightly,\n",
    "    batch_size=exp.batch_size,\n",
    "    shuffle=shuffle,\n",
    "    collate_fn=collate_fn_train,\n",
    "    drop_last=True,\n",
    "    num_workers=exp.num_workers,\n",
    "    worker_init_fn=exp.seed_worker,\n",
    "    generator=exp.g,\n",
    "    sampler=sampler\n",
    ")\n",
    "\n",
    "# Dataloader for embedding (val).\n",
    "dataloader_val = torch.utils.data.DataLoader(\n",
    "    val_data_lightly,\n",
    "    batch_size=exp.batch_size,\n",
    "    shuffle=False,\n",
    "    drop_last=False,\n",
    "    num_workers=exp.num_workers,\n",
    "    worker_init_fn=exp.seed_worker,\n",
    "    generator=exp.g\n",
    ")\n",
    "\n",
    "# Dataloader for embedding (test).\n",
    "dataloader_test = torch.utils.data.DataLoader(\n",
    "    test_data_lightly,\n",
    "    batch_size=exp.batch_size,\n",
    "    shuffle=False,\n",
    "    drop_last=False,\n",
    "    num_workers=exp.num_workers,\n",
    "    worker_init_fn=exp.seed_worker,\n",
    "    generator=exp.g\n",
    ")"
   ]
  },
  {
   "cell_type": "markdown",
   "id": "5967c24a-aa41-4dd3-b183-2232799c16a4",
   "metadata": {},
   "source": [
    "## Check the balance and size of the dataset"
   ]
  },
  {
   "cell_type": "code",
   "execution_count": null,
   "id": "80aa6845-e34c-4016-983d-688c1c0928cc",
   "metadata": {},
   "outputs": [],
   "source": [
    "# Check samples per class in train dataset.\n",
    "print(np.unique(train_data.targets, return_counts=True)[1])"
   ]
  },
  {
   "cell_type": "code",
   "execution_count": null,
   "id": "01e1f177-016e-4f0e-96f9-a06ce945882a",
   "metadata": {},
   "outputs": [],
   "source": [
    "# Check samples per class in train dataset.\n",
    "print(np.unique(val_data.targets, return_counts=True)[1])"
   ]
  },
  {
   "cell_type": "code",
   "execution_count": null,
   "id": "97b964a0-5d99-48aa-8108-fad4a1fdf2a6",
   "metadata": {},
   "outputs": [],
   "source": [
    "# Check samples per class in test dataset.\n",
    "print(np.unique(test_data.targets, return_counts=True)[1])"
   ]
  },
  {
   "cell_type": "code",
   "execution_count": null,
   "id": "52070963-a543-484f-a134-b5a1dde41fc9",
   "metadata": {},
   "outputs": [],
   "source": [
    "print('N batches in train dataset: ' + str(len(dataloader_train_simsiam)))\n",
    "\n",
    "# Check the size of each dataset.\n",
    "print(len(train_data.targets))\n",
    "print(len(val_data.targets))\n",
    "print(len(test_data.targets))"
   ]
  },
  {
   "cell_type": "markdown",
   "id": "34cc5860-964d-4847-bc93-11327f9a2bd2",
   "metadata": {},
   "source": [
    "## Check the distribution of samples in the dataloader (lightly dataset)"
   ]
  },
  {
   "cell_type": "raw",
   "id": "e354aeb3-2f39-4202-87ae-b35aee1707f4",
   "metadata": {},
   "source": [
    "t0 = time.time()\n",
    "\n",
    "labels_list = []\n",
    "\n",
    "# Accessing Data and Targets in a PyTorch DataLoader.\n",
    "for i, (images, labels, names) in enumerate(dataloader_train_simsiam):\n",
    "    labels_list.append(labels)\n",
    "\n",
    "labels_list = torch.cat(labels_list, dim=0).numpy()\n",
    "\n",
    "print(f'Duration: {(time.time()-t0):.2f} s')\n",
    "print(len(labels_list))\n",
    "\n",
    "data_x, data_y = np.unique(labels_list, return_counts=True)\n",
    "\n",
    "utils.simple_bar_plot(data_x, data_y,\n",
    "                      x_axis_label=r'Class',\n",
    "                      y_axis_label=r'N samples (dataloader)',\n",
    "                      plt_name=f'imbalance_classes_{handle_imb_classes}',\n",
    "                      fig_size=(15, 5), save=True)"
   ]
  },
  {
   "cell_type": "markdown",
   "id": "366bf8d4-6053-4115-8fd7-b628a5b9a284",
   "metadata": {},
   "source": [
    "## See some samples (lightly dataset)"
   ]
  },
  {
   "cell_type": "code",
   "execution_count": null,
   "id": "40d64513-dda3-4e75-853c-2290bcf40452",
   "metadata": {},
   "outputs": [],
   "source": [
    "# Accessing Data and Targets in a PyTorch DataLoader.\n",
    "for i, (images, labels, names) in enumerate(dataloader_train_simsiam):\n",
    "    img = images[0][0]\n",
    "    label = labels[0]\n",
    "    print(images[0].shape)\n",
    "    print(labels.shape)\n",
    "    plt.title(\"Label: \" + str(int(label)))\n",
    "    plt.imshow(torch.permute(img, (1, 2, 0)))\n",
    "    plt.show()\n",
    "    if i == 0:\n",
    "        break  # Only a few batches."
   ]
  },
  {
   "cell_type": "markdown",
   "id": "61a4a6d8-28c2-422a-926d-3d5bd9aa69cc",
   "metadata": {
    "tags": []
   },
   "source": [
    "# Self-supervised models"
   ]
  },
  {
   "cell_type": "code",
   "execution_count": null,
   "id": "464482d9-3c11-4581-8ea4-acb7933c2442",
   "metadata": {},
   "outputs": [],
   "source": [
    "model_name = 'simclr'"
   ]
  },
  {
   "cell_type": "markdown",
   "id": "e55c24a8-5d44-4fa9-ade5-a51c2517e991",
   "metadata": {},
   "source": [
    "## Creation"
   ]
  },
  {
   "cell_type": "code",
   "execution_count": null,
   "id": "60885a39-131d-4def-86f0-2548aadfe7a2",
   "metadata": {},
   "outputs": [],
   "source": [
    "from models import SimSiam\n",
    "from models import SimCLRModel"
   ]
  },
  {
   "cell_type": "markdown",
   "id": "ced40a42-bccb-4c16-9434-b3a0da6db8ca",
   "metadata": {},
   "source": [
    "Copied from Lightly tutorials"
   ]
  },
  {
   "cell_type": "markdown",
   "id": "c0f4e7b1-3bd7-48f6-8e44-983ebdee7b64",
   "metadata": {},
   "source": [
    "## Backbone net (w/ ResNet18)"
   ]
  },
  {
   "cell_type": "markdown",
   "id": "9591e6ba-a646-430a-ad14-0f21db32827d",
   "metadata": {},
   "source": [
    "This is different from the tutorial: resnet without pretrained weights (not now)."
   ]
  },
  {
   "cell_type": "code",
   "execution_count": null,
   "id": "0bb30195-100c-428e-97c5-6941d5bcdd0d",
   "metadata": {},
   "outputs": [],
   "source": [
    "# Resnet trained from scratch.\n",
    "resnet = torchvision.models.resnet18(\n",
    "    # weights=torchvision.models.ResNet18_Weights.DEFAULT\n",
    "    weights=None\n",
    ")\n",
    "\n",
    "# Removing head from resnet. Embedding.\n",
    "backbone = torch.nn.Sequential(*list(resnet.children())[:-1])\n",
    "\n",
    "# Model creation.\n",
    "if model_name == 'simsiam':\n",
    "    model = SimSiam(backbone, num_ftrs, proj_hidden_dim,\n",
    "                    pred_hidden_dim, out_dim)\n",
    "elif model_name == 'simclr':\n",
    "    hidden_dim = resnet.fc.in_features\n",
    "    model = SimCLRModel(backbone, hidden_dim)"
   ]
  },
  {
   "cell_type": "code",
   "execution_count": null,
   "id": "cc27a0c0-75d0-473e-9d6a-44075eaa6306",
   "metadata": {},
   "outputs": [],
   "source": [
    "# Model's backbone structure.\n",
    "summary(\n",
    "    model.backbone,\n",
    "    input_size=(exp.batch_size, 3, exp.input_size, exp.input_size),\n",
    "    device=exp.device\n",
    ")"
   ]
  },
  {
   "cell_type": "markdown",
   "id": "5d4308cc-0649-4f87-b574-bd306b931b21",
   "metadata": {},
   "source": [
    "## Training setup"
   ]
  },
  {
   "cell_type": "markdown",
   "id": "4529c018-fe2b-40f5-91d0-1708f4925e5f",
   "metadata": {},
   "source": [
    "SimSiam uses a symmetric negative cosine similarity loss and does therefore not require any negative samples. We build a criterion and an optimizer.\n",
    "\n"
   ]
  },
  {
   "cell_type": "code",
   "execution_count": null,
   "id": "6c498b42-1e1d-4740-b3ad-2daaecc0908a",
   "metadata": {},
   "outputs": [],
   "source": [
    "# Scale the learning rate.\n",
    "# lr = 0.05 * exp.batch_size / 256\n",
    "lr = 0.2\n",
    "\n",
    "# Use SGD with momentum and weight decay.\n",
    "optimizer = torch.optim.SGD(\n",
    "    model.parameters(),\n",
    "    lr=lr,\n",
    "    momentum=0.9,\n",
    "    weight_decay=1e-4\n",
    ")"
   ]
  },
  {
   "cell_type": "markdown",
   "id": "665beb28-df9a-4010-8781-50423d27dda7",
   "metadata": {},
   "source": [
    "## Training"
   ]
  },
  {
   "cell_type": "markdown",
   "id": "c745b5bb-e4a8-4886-83fd-e2ecbfbc6148",
   "metadata": {},
   "source": [
    "### Loop"
   ]
  },
  {
   "cell_type": "code",
   "execution_count": null,
   "id": "c320a250-fae9-4591-bff9-c62b46127264",
   "metadata": {},
   "outputs": [],
   "source": [
    "print(f\"Using {exp.device} device\")\n",
    "model.to(exp.device)\n",
    "\n",
    "# Setup.\n",
    "avg_loss = 0.\n",
    "avg_output_std = 0.\n",
    "avg_rep_collapse = 0.\n",
    "\n",
    "# Saving best model's weights.\n",
    "# best_model_wts = copy.deepcopy(model.state_dict())\n",
    "lowest_loss = 10000\n",
    "lowest_rep_collapse = 10000\n",
    "\n",
    "# Main training loop.\n",
    "for e in range(exp.epochs):\n",
    "\n",
    "    # Timer added.\n",
    "    t0 = time.time()\n",
    "\n",
    "    # Training enabled.\n",
    "    model.train()\n",
    "\n",
    "    # Iterating through the dataloader (lightly dataset is different).\n",
    "    batch_id = 0\n",
    "    running_train_loss = 0.\n",
    "    for i, ((x0, x1), _, _) in enumerate(dataloader_train_simsiam):\n",
    "\n",
    "        # Move images to the GPU.\n",
    "        x0 = x0.to(exp.device)\n",
    "        x1 = x1.to(exp.device)\n",
    "\n",
    "        # Run the model on both transforms of the images:\n",
    "        # We get projections (z0 and z1) and\n",
    "        # predictions (p0 and p1) as output.\n",
    "        if model_name == 'simsiam':\n",
    "            z0, p0 = model(x0)\n",
    "            z1, p1 = model(x1)\n",
    "            loss = 0.5 * (model.criterion(z0, p1) + model.criterion(z1, p0))\n",
    "        elif model_name == 'simclr':\n",
    "            z0 = model(x0)\n",
    "            z1 = model(x1)\n",
    "            loss = model.criterion(z0, z1)\n",
    "\n",
    "        # Averaged loss across all training examples * batch_size.\n",
    "        running_train_loss += loss.item() * exp.batch_size\n",
    "\n",
    "        # Run backpropagation.\n",
    "        loss.backward()\n",
    "\n",
    "        optimizer.step()\n",
    "        optimizer.zero_grad()\n",
    "\n",
    "        if model_name == 'simsiam':\n",
    "\n",
    "            # Calculate the per-dimension standard deviation of the outputs.\n",
    "            # We can use this later to check whether the embeddings are collapsing.\n",
    "            output = p0.detach()\n",
    "            output = torch.nn.functional.normalize(output, dim=1)\n",
    "\n",
    "            output_std = torch.std(output, 0)\n",
    "            output_std = output_std.mean()\n",
    "\n",
    "            # Use moving averages to track the loss and standard deviation.\n",
    "            w = 0.9\n",
    "            avg_loss = w * avg_loss + (1 - w) * loss.item()\n",
    "            avg_output_std = w * avg_output_std + (1 - w) * output_std.item()\n",
    "\n",
    "            # Use moving averages to track representation collapse.\n",
    "            avg_rep_collapse = (w * avg_rep_collapse\n",
    "                                + (1 - w) * std_of_l2_normalized(output).item())\n",
    "\n",
    "        if batch_id % 250 == 249:\n",
    "\n",
    "            if model_name == 'simsiam':\n",
    "                print(f'T[{e + 1}, {batch_id + 1:5d}] | '\n",
    "                      f'Loss: {avg_loss:.4f} | '\n",
    "                      f'Running train loss: {running_train_loss/(i*exp.batch_size):.4f} | '\n",
    "                      f'Representation std: {avg_rep_collapse:.4f}')\n",
    "\n",
    "            elif model_name == 'simclr':\n",
    "                print(f'T[{e + 1}, {batch_id + 1:5d}] | '\n",
    "                      f'Running train loss: {running_train_loss/(i*exp.batch_size):.4f}')\n",
    "\n",
    "        batch_id += 1\n",
    "    \n",
    "    # Loss averaged across all training examples for the current epoch.\n",
    "    epoch_train_loss = running_train_loss / len(dataloader_train_simsiam.sampler)\n",
    "\n",
    "    # The evaluation process was not okey (it's been deleted).\n",
    "\n",
    "    # Save model.\n",
    "    save_model = epoch_train_loss < lowest_loss\n",
    "    if save_model:\n",
    "\n",
    "        # Update new lowest losses\n",
    "        lowest_loss = epoch_train_loss\n",
    "        lowest_rep_collapse = avg_rep_collapse\n",
    "\n",
    "        # Move the model to CPU before saving it\n",
    "        # and then back to the GPU.\n",
    "        model.to('cpu')\n",
    "        model.save(e,\n",
    "                   epoch_train_loss,\n",
    "                   handle_imb_classes,\n",
    "                   ratio,\n",
    "                   output_dir_model,\n",
    "                   avg_rep_collapse=lowest_rep_collapse)\n",
    "        model.to(exp.device)\n",
    "\n",
    "    # Show some stats per epoch completed.\n",
    "    print(f'[Epoch {e:3d}] | '\n",
    "          f'Train loss: {epoch_train_loss:.4f} | '\n",
    "          f'Duration: {(time.time()-t0):.2f} s | '\n",
    "          f'Saved: {save_model}')\n",
    "\n",
    "#     # Print intermediate results (timing added).\n",
    "#     print(f'[Epoch {e:3d}] '\n",
    "#           f'Loss: {avg_loss:.4f} | '\n",
    "#           f'Collapse Level: {collapse_level:.4f} / 1.00 | '\n",
    "#           f'Representation std: {avg_rep_collapse:.4f} / {rep_ideal:4f} | '\n",
    "#           f'Duration: {(time.time()-t0):.2f} s | '\n",
    "#           f'Saved: {save_model}')"
   ]
  },
  {
   "cell_type": "code",
   "execution_count": null,
   "id": "8940983e-2196-4a15-8539-e55cba047ff3",
   "metadata": {},
   "outputs": [],
   "source": [
    "print(model)"
   ]
  },
  {
   "cell_type": "markdown",
   "id": "c5576290-ee98-4e46-994c-9f760be29a47",
   "metadata": {},
   "source": [
    "Collapse level: the closer to zero the better"
   ]
  },
  {
   "cell_type": "markdown",
   "id": "4243d3a7-2030-46b4-97ce-a095d5d8133b",
   "metadata": {},
   "source": [
    "A value close to 0 indicates that the representations have collapsed. A value close to 1/sqrt(dimensions), where dimensions are the number of representation dimensions, indicates that the representations are stable. "
   ]
  },
  {
   "cell_type": "markdown",
   "id": "c6818fcd-c195-413f-b940-d03b83799dd3",
   "metadata": {},
   "source": [
    "### Checking the weights of the last model"
   ]
  },
  {
   "cell_type": "code",
   "execution_count": null,
   "id": "f9f997d9-11ab-4b6e-a7fc-5e17e56e7212",
   "metadata": {},
   "outputs": [],
   "source": [
    "# First convolutional layer weights.\n",
    "print(model.backbone[0])\n",
    "print(model.backbone[0].weight[63])"
   ]
  },
  {
   "cell_type": "markdown",
   "id": "dab33b97-aa53-4cf3-9ab7-6ce9341febbb",
   "metadata": {},
   "source": [
    "***"
   ]
  },
  {
   "cell_type": "markdown",
   "id": "2844b415-d517-418b-a261-0014089668c1",
   "metadata": {},
   "source": [
    "***"
   ]
  },
  {
   "cell_type": "markdown",
   "id": "c46a5643-193b-4da7-b5e5-b88165318907",
   "metadata": {},
   "source": [
    "# Reduce dimensionality"
   ]
  },
  {
   "cell_type": "markdown",
   "id": "e847c99d-aeea-4118-a7f8-be436b93365c",
   "metadata": {},
   "source": [
    "## Calculate embeddings"
   ]
  },
  {
   "cell_type": "code",
   "execution_count": null,
   "id": "ea12b2bd-bcdb-4737-9d3f-82c579d35ec4",
   "metadata": {},
   "outputs": [],
   "source": [
    "# Empty lists.\n",
    "embeddings = []\n",
    "labels = []\n",
    "\n",
    "# Disable gradients for faster calculations.\n",
    "# Put the model in evaluation mode.\n",
    "model.eval()\n",
    "with torch.no_grad():\n",
    "    for i, (x, y, fnames) in enumerate(dataloader_val):\n",
    "\n",
    "        # Move the images to the GPU.\n",
    "        x = x.to(exp.device)\n",
    "        y = y.to(exp.device)\n",
    "\n",
    "        # Embed the images with the pre-trained backbone.\n",
    "        emb = model.backbone(x).flatten(start_dim=1)\n",
    "\n",
    "        # Store the embeddings and filenames in lists.\n",
    "        embeddings.append(emb)\n",
    "        labels.append(y)\n",
    "\n",
    "# Concatenate the embeddings and convert to numpy.\n",
    "embeddings = torch.cat(embeddings, dim=0).to('cpu').numpy()\n",
    "labels = torch.cat(labels, dim=0).to('cpu').numpy()\n",
    "\n",
    "# Show shapes.\n",
    "print(np.shape(embeddings))\n",
    "print(np.shape(labels))"
   ]
  },
  {
   "cell_type": "markdown",
   "id": "9eb69705-d01b-4f14-857e-90ee7e328ebd",
   "metadata": {},
   "source": [
    "# PCA"
   ]
  },
  {
   "cell_type": "markdown",
   "id": "18363d12-5b48-4f98-8cb1-feb3eae44aff",
   "metadata": {},
   "source": [
    "https://scikit-learn.org/stable/modules/generated/sklearn.decomposition.PCA.html"
   ]
  },
  {
   "cell_type": "code",
   "execution_count": null,
   "id": "7e3a0cc2-4271-4f33-8014-af6691783b1b",
   "metadata": {},
   "outputs": [],
   "source": [
    "utils.pca_computation_and_plot(embeddings,\n",
    "                               labels,\n",
    "                               exp.seed,\n",
    "                               plot='all',\n",
    "                               filename=str(model),\n",
    "                               save_2d=True)"
   ]
  },
  {
   "cell_type": "markdown",
   "id": "1e076936-68bb-4709-b888-7749ae985796",
   "metadata": {},
   "source": [
    "# t-SNE"
   ]
  },
  {
   "cell_type": "markdown",
   "id": "98d92516-071e-4830-b4db-eff7c93e0618",
   "metadata": {},
   "source": [
    "https://scikit-learn.org/stable/modules/generated/sklearn.manifold.TSNE.html"
   ]
  },
  {
   "cell_type": "code",
   "execution_count": null,
   "id": "c604892e-df36-4a24-80d6-61ba53d1ade9",
   "metadata": {},
   "outputs": [],
   "source": [
    "utils.tsne_computation_and_plot(embeddings,\n",
    "                                labels,\n",
    "                                exp.seed,\n",
    "                                plot='all',\n",
    "                                filename=str(model),\n",
    "                                save_2d=True)"
   ]
  },
  {
   "cell_type": "markdown",
   "id": "ccf66499-e3f5-477f-b158-840e9c041c63",
   "metadata": {},
   "source": [
    "***"
   ]
  },
  {
   "cell_type": "markdown",
   "id": "d33a48bc-7ed0-430b-8328-632b93901014",
   "metadata": {},
   "source": [
    "***"
   ]
  },
  {
   "cell_type": "markdown",
   "id": "42baa2ae-266c-4d94-88aa-25f9408f8339",
   "metadata": {},
   "source": [
    "# Check each model's performance/collapse on val data"
   ]
  },
  {
   "cell_type": "code",
   "execution_count": null,
   "id": "39a5cb1c-437d-4e7c-adbd-a9c57418fc56",
   "metadata": {},
   "outputs": [],
   "source": [
    "def get_scatter_plot_with_thumbnails_axes(ax, title=''):\n",
    "    \"\"\"\n",
    "    Creates a scatter plot with image overlays\n",
    "    that are plotted in a particular ax position.\n",
    "\n",
    "    \"\"\"\n",
    "\n",
    "    # Shuffle images and find out which images to show.\n",
    "    shown_images_idx = []\n",
    "    shown_images = np.array([[1., 1.]])\n",
    "    iterator = [i for i in range(embeddings_2d.shape[0])]\n",
    "    np.random.shuffle(iterator)\n",
    "    for i in iterator:\n",
    "\n",
    "        # Only show image if it is sufficiently far away from the others.\n",
    "        dist = np.sum((embeddings_2d[i] - shown_images) ** 2, 1)\n",
    "        if np.min(dist) < 2e-3:\n",
    "            continue\n",
    "        shown_images = np.r_[shown_images, [embeddings_2d[i]]]\n",
    "        shown_images_idx.append(i)\n",
    "\n",
    "    # Plot image overlays.\n",
    "    for idx in shown_images_idx:\n",
    "        thumbnail_size = int(rcp['figure.figsize'][0] * 2.5)  # 2.\n",
    "        path = os.path.join(data_dir_test, filenames[idx])\n",
    "        img = Image.open(path)\n",
    "        img = functional.resize(img, thumbnail_size)\n",
    "        img = np.array(img)\n",
    "        img_box = osb.AnnotationBbox(\n",
    "            osb.OffsetImage(img, cmap=plt.cm.gray_r),\n",
    "            embeddings_2d[idx],\n",
    "            pad=0.2,\n",
    "        )\n",
    "        ax.add_artist(img_box)\n",
    "\n",
    "    # Set aspect ratio.\n",
    "    ratio = 1. / ax.get_data_ratio()\n",
    "    ax.set_aspect(ratio, adjustable='box')\n",
    "    ax.title.set_text(title)"
   ]
  },
  {
   "cell_type": "code",
   "execution_count": null,
   "id": "ab03d0fe-d736-4c71-a070-f77739c1d933",
   "metadata": {},
   "outputs": [],
   "source": [
    "# Validation dataset.\n",
    "data_dir_test = data_dir_target + '/val/'\n",
    "print(data_dir_test)\n",
    "\n",
    "# List of trained models.\n",
    "model_list = []\n",
    "# root_dir = 'pytorch_models/simsiam/'\n",
    "root_dir = 'pytorch_models/simclr/'\n",
    "for root, dirs, files in os.walk(root_dir):\n",
    "    for i, filename in enumerate(sorted(files, reverse=False)):\n",
    "        model_list.append(root + filename)\n",
    "        print(f'{i:02}: {filename}')\n",
    "\n",
    "# Plot setup.\n",
    "ncols = 5\n",
    "nrows = int(math.ceil(len(model_list) / ncols))\n",
    "\n",
    "fig, axes = plt.subplots(nrows=nrows,\n",
    "                         ncols=ncols,\n",
    "                         figsize=(12*ncols, 12*nrows))\n",
    "\n",
    "# Convert the array to 1 dimension.\n",
    "axes = axes.ravel()\n",
    "\n",
    "# Main loop over the models.\n",
    "for model_id, model_name in enumerate(model_list):\n",
    "\n",
    "    # Load model weights.\n",
    "    model.backbone.load_state_dict(torch.load(model_name))\n",
    "\n",
    "    # Empty lists.\n",
    "    embeddings = []\n",
    "    filenames = []\n",
    "\n",
    "    # Disable gradients for faster calculations.\n",
    "    # Put the model in evaluation mode.\n",
    "    model.eval()\n",
    "    with torch.no_grad():\n",
    "        for i, (x, _, fnames) in enumerate(dataloader_val):\n",
    "\n",
    "            # Move the images to the GPU.\n",
    "            x = x.to(exp.device)\n",
    "\n",
    "            # Embed the images with the pre-trained backbone.\n",
    "            y = model.backbone(x).flatten(start_dim=1)\n",
    "\n",
    "            # Store the embeddings and filenames in lists.\n",
    "            embeddings.append(y)\n",
    "            filenames = filenames + list(fnames)\n",
    "\n",
    "    # Concatenate the embeddings and convert to numpy.\n",
    "    embeddings = torch.cat(embeddings, dim=0)\n",
    "    embeddings = embeddings.cpu().numpy()\n",
    "\n",
    "    # For the scatter plot we want to transform the images to a\n",
    "    # 2-D vector space using a random Gaussian projection.\n",
    "    projection = random_projection.GaussianRandomProjection(\n",
    "        n_components=2,\n",
    "        random_state=exp.seed\n",
    "    )\n",
    "    embeddings_2d = projection.fit_transform(embeddings)\n",
    "\n",
    "    # Normalize the embeddings to fit in the [0, 1] square.\n",
    "    M = np.max(embeddings_2d, axis=0)\n",
    "    m = np.min(embeddings_2d, axis=0)\n",
    "    embeddings_2d = (embeddings_2d - m) / (M - m)\n",
    "\n",
    "    # Get a scatter plot with thumbnail overlays.\n",
    "    get_scatter_plot_with_thumbnails_axes(axes[model_id],\n",
    "                                          title=model_name[49:104])\n",
    "\n",
    "    # Show progress.\n",
    "    print(f'Subplot of model-{model_id} done!',\n",
    "          end='\\r',\n",
    "          flush=True)\n",
    "\n",
    "# Save figure.\n",
    "fig.savefig(f'{output_dir_fig}models_knn_{datetime.now():%Y_%m_%d_%H_%M_%S}.pdf',\n",
    "            bbox_inches='tight')"
   ]
  },
  {
   "cell_type": "markdown",
   "id": "30c41974-eaad-4263-9e74-6fb3fb66b2f8",
   "metadata": {},
   "source": [
    "***"
   ]
  },
  {
   "cell_type": "markdown",
   "id": "f49d5f3d-aa82-48ef-916c-0c50dbd3636f",
   "metadata": {},
   "source": [
    "***"
   ]
  },
  {
   "cell_type": "markdown",
   "id": "a91de858-a1f9-4f98-90c4-586d9dee8ac1",
   "metadata": {},
   "source": [
    "# Embeddings for the samples of the test dataset"
   ]
  },
  {
   "cell_type": "markdown",
   "id": "bbabfddb-57d8-46ed-8e2d-43c73e435d8a",
   "metadata": {},
   "source": [
    "## Setup"
   ]
  },
  {
   "cell_type": "code",
   "execution_count": null,
   "id": "2fcb1456-1752-406e-8963-5e1c2203c6ca",
   "metadata": {},
   "outputs": [],
   "source": [
    "# Test dataset.\n",
    "data_dir_test = data_dir_target + '/test/'\n",
    "print(data_dir_test)"
   ]
  },
  {
   "cell_type": "code",
   "execution_count": null,
   "id": "3eb16e0a-9190-4413-aa76-6fd557a66e47",
   "metadata": {},
   "outputs": [],
   "source": [
    "# load best model weights\n",
    "idx = 0\n",
    "print(model_list[idx])\n",
    "model.backbone.load_state_dict(torch.load(model_list[idx]))"
   ]
  },
  {
   "cell_type": "markdown",
   "id": "b175a024-3d6e-4ccc-a3f0-8035e3e8390c",
   "metadata": {},
   "source": [
    "## Compute embeddings"
   ]
  },
  {
   "cell_type": "code",
   "execution_count": null,
   "id": "6db33812-0e52-4ba7-82ca-11da3895677d",
   "metadata": {},
   "outputs": [],
   "source": [
    "# Empty lists.\n",
    "embeddings = []\n",
    "filenames = []\n",
    "\n",
    "# Disable gradients for faster calculations.\n",
    "# Put the model in evaluation mode.\n",
    "model.eval()\n",
    "with torch.no_grad():\n",
    "    for i, (x, _, fnames) in enumerate(dataloader_test):\n",
    "\n",
    "        # Move the images to the GPU.\n",
    "        x = x.to(exp.device)\n",
    "\n",
    "        # Embed the images with the pre-trained backbone.\n",
    "        y = model.backbone(x).flatten(start_dim=1)\n",
    "\n",
    "        # Store the embeddings and filenames in lists.\n",
    "        embeddings.append(y)\n",
    "        filenames = filenames + list(fnames)\n",
    "\n",
    "# Concatenate the embeddings and convert to numpy.\n",
    "embeddings = torch.cat(embeddings, dim=0)\n",
    "embeddings = embeddings.cpu().numpy()"
   ]
  },
  {
   "cell_type": "markdown",
   "id": "0e672d5e-2d3c-479d-ba94-8f19e9543f4d",
   "metadata": {},
   "source": [
    "## Projection to 2D space"
   ]
  },
  {
   "cell_type": "code",
   "execution_count": null,
   "id": "6cfb003c-70f0-46be-ade6-37e35e453aa9",
   "metadata": {},
   "outputs": [],
   "source": [
    "# For the scatter plot we want to transform the images to a two-dimensional\n",
    "# vector space using a random Gaussian projection.\n",
    "projection = random_projection.GaussianRandomProjection(\n",
    "    n_components=2,\n",
    "    random_state=exp.seed\n",
    ")\n",
    "embeddings_2d = projection.fit_transform(embeddings)\n",
    "\n",
    "# Normalize the embeddings to fit in the [0, 1] square.\n",
    "M = np.max(embeddings_2d, axis=0)\n",
    "m = np.min(embeddings_2d, axis=0)\n",
    "embeddings_2d = (embeddings_2d - m) / (M - m)"
   ]
  },
  {
   "cell_type": "markdown",
   "id": "8c4e176a-477a-4732-bd6a-960e98170a13",
   "metadata": {},
   "source": [
    "## Scatter plots"
   ]
  },
  {
   "cell_type": "code",
   "execution_count": null,
   "id": "46f970f1-9506-43b5-a0c1-a408b1ca3705",
   "metadata": {},
   "outputs": [],
   "source": [
    "# Initialize empty figure and add subplot.\n",
    "fig = plt.figure(figsize=(15, 15))\n",
    "ax = fig.add_subplot(1, 1, 1)\n",
    "\n",
    "# Get a scatter plot with thumbnail overlays.\n",
    "get_scatter_plot_with_thumbnails_axes(\n",
    "    ax,\n",
    "    title='Scatter Plot of the Sentinel-2 Dataset'\n",
    ")"
   ]
  },
  {
   "cell_type": "markdown",
   "id": "0ccc28d1-c569-4163-a3a7-f84ad17884eb",
   "metadata": {},
   "source": [
    "## Nearest Neighbors"
   ]
  },
  {
   "cell_type": "markdown",
   "id": "c1423fa1-653f-474e-ba2e-404cd7e37868",
   "metadata": {},
   "source": [
    "### Pick up one random sample per class"
   ]
  },
  {
   "cell_type": "code",
   "execution_count": null,
   "id": "998cde14-fb59-4330-b070-467a54537e51",
   "metadata": {},
   "outputs": [],
   "source": [
    "# List of subdirectories (classes).\n",
    "directory_list = []\n",
    "for root, dirs, files in os.walk(data_dir_test):\n",
    "    for dirname in sorted(dirs):\n",
    "        directory_list.append(os.path.join(root, dirname))\n",
    "        # print(dirname)"
   ]
  },
  {
   "cell_type": "code",
   "execution_count": null,
   "id": "19ae54d2-c622-493a-96fa-f98fa931c371",
   "metadata": {},
   "outputs": [],
   "source": [
    "# List of files (samples).\n",
    "example_images = []\n",
    "for classes in directory_list:\n",
    "\n",
    "    # Random samples.\n",
    "    random_file = np.random.choice(os.listdir(classes))\n",
    "    path_to_random_file = classes + '/' + random_file\n",
    "\n",
    "    # Only class and filename.\n",
    "    start_chr = path_to_random_file.index('test/') + 5\n",
    "\n",
    "    # Append filename.\n",
    "    example_images.append(path_to_random_file[start_chr:])\n",
    "    # print(example_images)"
   ]
  },
  {
   "cell_type": "markdown",
   "id": "5cb66cee-b413-4944-95ff-258740375d9a",
   "metadata": {},
   "source": [
    "### Look for similar images"
   ]
  },
  {
   "cell_type": "code",
   "execution_count": null,
   "id": "88afde3b-32bb-4bef-ae93-a3a18475a229",
   "metadata": {},
   "outputs": [],
   "source": [
    "def get_image_as_np_array(filename: str):\n",
    "    \"\"\"\n",
    "    Loads the image with filename and returns it as a numpy array.\n",
    "\n",
    "    \"\"\"\n",
    "    img = Image.open(filename)\n",
    "    return np.asarray(img)\n",
    "\n",
    "\n",
    "def get_image_as_np_array_with_frame(filename: str, w: int = 5):\n",
    "    \"\"\"\n",
    "    Returns an image as a numpy array with a black frame of width w.\n",
    "\n",
    "    \"\"\"\n",
    "    img = get_image_as_np_array(filename)\n",
    "    ny, nx, _ = img.shape\n",
    "\n",
    "    # Create an empty image with padding for the frame.\n",
    "    framed_img = np.zeros((w + ny + w, w + nx + w, 3))\n",
    "    framed_img = framed_img.astype(np.uint8)\n",
    "\n",
    "    # Put the original image in the middle of the new one.\n",
    "    framed_img[w:-w, w:-w] = img\n",
    "    return framed_img\n",
    "\n",
    "\n",
    "def plot_nearest_neighbors_nxn(example_image: str, i: int):\n",
    "    \"\"\"\n",
    "    Plots the example image and its eight nearest neighbors.\n",
    "\n",
    "    \"\"\"\n",
    "    n_subplots = 6\n",
    "\n",
    "    # Initialize empty figure.\n",
    "    fig = plt.figure(figsize=(10, 10))\n",
    "    fig.suptitle(f\"Nearest Neighbor Plot {i + 1}\")\n",
    "\n",
    "    # Get indexes.\n",
    "    example_idx = filenames.index(example_image)\n",
    "\n",
    "    # Get distances to the cluster center.\n",
    "    distances = embeddings - embeddings[example_idx]\n",
    "    distances = np.power(distances, 2).sum(-1).squeeze()\n",
    "\n",
    "    # Sort indices by distance to the center.\n",
    "    nearest_neighbors = np.argsort(distances)[:n_subplots]\n",
    "\n",
    "    # Show images.\n",
    "    for plot_offset, plot_idx in enumerate(nearest_neighbors):\n",
    "        ax = fig.add_subplot(3, 3, plot_offset + 1)\n",
    "\n",
    "        # Get the corresponding filename.\n",
    "        fname = os.path.join(data_dir_test, filenames[plot_idx])\n",
    "        if plot_offset == 0:\n",
    "            ax.set_title(f\"Example Image\")\n",
    "            plt.imshow(get_image_as_np_array_with_frame(fname))\n",
    "        else:\n",
    "            plt.imshow(get_image_as_np_array(fname))\n",
    "\n",
    "        # Let's disable the axis.\n",
    "        plt.axis(\"off\")"
   ]
  },
  {
   "cell_type": "code",
   "execution_count": null,
   "id": "8b0db2c2-96ba-4715-9482-ace9155f5b7c",
   "metadata": {},
   "outputs": [],
   "source": [
    "# Show example images for each cluster.\n",
    "for i, example_image in enumerate(example_images):\n",
    "    plot_nearest_neighbors_nxn(example_image, i)"
   ]
  },
  {
   "cell_type": "code",
   "execution_count": null,
   "id": "7f809fc8-79ab-4389-a8ed-5e6a98421fc0",
   "metadata": {},
   "outputs": [],
   "source": []
  }
 ],
 "metadata": {
  "kernelspec": {
   "display_name": "lulc-venv",
   "language": "python",
   "name": "lulc-venv"
  },
  "language_info": {
   "codemirror_mode": {
    "name": "ipython",
    "version": 3
   },
   "file_extension": ".py",
   "mimetype": "text/x-python",
   "name": "python",
   "nbconvert_exporter": "python",
   "pygments_lexer": "ipython3",
   "version": "3.8.10"
  },
  "toc-autonumbering": true
 },
 "nbformat": 4,
 "nbformat_minor": 5
}
