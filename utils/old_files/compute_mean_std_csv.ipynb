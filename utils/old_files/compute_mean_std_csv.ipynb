{
 "cells": [
  {
   "cell_type": "code",
   "execution_count": 1,
   "id": "5a2485d0-0dc7-436b-844b-f2dd1d742601",
   "metadata": {},
   "outputs": [],
   "source": [
    "import pandas as pd\n",
    "import numpy as np\n",
    "\n",
    "# Load the CSV files\n",
    "path = '~/Downloads/'\n",
    "csv_files = [path + 'file1.csv', path + 'file2.csv']"
   ]
  },
  {
   "cell_type": "code",
   "execution_count": 2,
   "id": "f7060fea-95ff-4d3d-a03d-510c41a46681",
   "metadata": {},
   "outputs": [],
   "source": [
    "data_frames = []\n",
    "last_rows = []\n",
    "\n",
    "# Iterate over the csv files.\n",
    "for file in csv_files:\n",
    "\n",
    "    # Create the dataframe.\n",
    "    df = pd.read_csv(file)\n",
    "\n",
    "    # Convert the last row of the last column to list and then np.array.\n",
    "    column_list_str = df.iloc[-1, -1]\n",
    "    list_floats = [float(x) for x in column_list_str.strip('[]').split(',')]\n",
    "    array_floats = np.array(list_floats, dtype=float)\n",
    "\n",
    "    # Remove the last column (no longer needed).\n",
    "    df = df.drop('f1_per_class', axis=1)\n",
    "\n",
    "    # Save the last metric and dataframe.\n",
    "    last_rows.append(array_floats)\n",
    "    data_frames.append(df)\n",
    "\n",
    "# Merge the dataframes based on columns.\n",
    "df_concat = pd.concat(data_frames, axis=0)"
   ]
  },
  {
   "cell_type": "code",
   "execution_count": 3,
   "id": "c1f2d936-c44a-475e-934c-31418b02a719",
   "metadata": {},
   "outputs": [],
   "source": [
    "# Group by index (epoch) and compute mean by row.\n",
    "by_row_index = df_concat.groupby(df_concat.index)\n",
    "df_means = by_row_index.mean()\n",
    "df_stds = by_row_index.std()"
   ]
  },
  {
   "cell_type": "code",
   "execution_count": 4,
   "id": "da4d1255-6e1d-4514-ad9c-3d77634eb3b0",
   "metadata": {},
   "outputs": [],
   "source": [
    "# Create the col for the last metric.\n",
    "col_name = 'f1_per_class'\n",
    "\n",
    "# Compute the mean and std values per column.\n",
    "avg_final_metric = np.mean(last_rows, axis=0)\n",
    "std_final_metric = np.std(last_rows, axis=0)\n",
    "\n",
    "# Add a single value at the last row of the dfs.\n",
    "df_means[col_name] = ''\n",
    "df_means.at[df_means.index[-1], col_name] = avg_final_metric\n",
    "df_stds[col_name] = ''\n",
    "df_stds.at[df_stds.index[-1], col_name] = std_final_metric\n",
    "\n",
    "# Fix epoch's column.\n",
    "df_means['epoch'] = df_means['epoch'].astype('int')\n",
    "df_stds['epoch'] = df_means['epoch'].astype('int')"
   ]
  },
  {
   "cell_type": "code",
   "execution_count": 7,
   "id": "48c34a07-8363-4180-bae5-6720a676480f",
   "metadata": {},
   "outputs": [],
   "source": [
    "# Save the mean and standard deviation dataframes to CSV files.\n",
    "df_means.to_csv('csv_mean_values.csv', index=False)\n",
    "df_stds.to_csv('csv_std_values.csv', index=False)"
   ]
  },
  {
   "cell_type": "code",
   "execution_count": null,
   "id": "95474a7c-2871-4f6b-ba1c-6585382b6450",
   "metadata": {},
   "outputs": [],
   "source": []
  }
 ],
 "metadata": {
  "kernelspec": {
   "display_name": "lulc2-conda",
   "language": "python",
   "name": "lulc2-conda"
  },
  "language_info": {
   "codemirror_mode": {
    "name": "ipython",
    "version": 3
   },
   "file_extension": ".py",
   "mimetype": "text/x-python",
   "name": "python",
   "nbconvert_exporter": "python",
   "pygments_lexer": "ipython3",
   "version": "3.10.10"
  }
 },
 "nbformat": 4,
 "nbformat_minor": 5
}
