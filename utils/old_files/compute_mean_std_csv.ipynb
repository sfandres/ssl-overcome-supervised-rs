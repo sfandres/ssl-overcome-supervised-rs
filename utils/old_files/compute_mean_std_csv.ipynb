{
 "cells": [
  {
   "cell_type": "code",
   "execution_count": null,
   "id": "5a2485d0-0dc7-436b-844b-f2dd1d742601",
   "metadata": {},
   "outputs": [],
   "source": [
    "import pandas as pd\n",
    "import numpy as np\n",
    "import argparse\n",
    "import sys\n",
    "import os"
   ]
  },
  {
   "cell_type": "code",
   "execution_count": null,
   "id": "0987bda6-e846-4ce6-922b-63378121d8d7",
   "metadata": {},
   "outputs": [],
   "source": [
    "# def get_args() -> argparse.Namespace:\n",
    "#     \"\"\"\n",
    "#     Parse and retrieve command-line arguments.\n",
    "\n",
    "#     Returns:\n",
    "#         An 'argparse.Namespace' object containing the parsed arguments.\n",
    "#     \"\"\"\n",
    "\n",
    "#     # Get arguments.\n",
    "#     parser = argparse.ArgumentParser(\n",
    "#         description='Script that merges the .csv files.'\n",
    "#     )\n",
    "\n",
    "#     parser.add_argument('--input', '-i', required=True,    # nargs='+',\n",
    "#                         help='csv file(s) to be merged.')\n",
    "\n",
    "#     args = parser.parse_args(args=['--input=/home/sfandres/Documents/Git/lulc/output/finetuning/csv_results/'])\n",
    "#     # args = parser.parse_args(sys.argv[1:])\n",
    "\n",
    "#     return args"
   ]
  },
  {
   "cell_type": "code",
   "execution_count": null,
   "id": "8e5d98c5-dc27-49e2-8878-b0a8068dafdc",
   "metadata": {},
   "outputs": [],
   "source": [
    "# def main(args):\n",
    "\n",
    "input = '/home/sfandres/Documents/Git/lulc/output/finetuning/csv_results/'\n",
    "\n",
    "# Print target folder.\n",
    "print(f'Target folder: {input}')\n",
    "\n",
    "# Get a list of all files in the directory.\n",
    "files = os.listdir(input)\n",
    "\n",
    "# Filter the files to include only the ones with the desired pattern.\n",
    "filtered_files = [f for f in files if '_s=' in f]\n",
    "\n",
    "# Sort the files based on the first part of the filename.\n",
    "sorted_files = sorted(filtered_files, key=lambda f: f.split('_lr=')[0], reverse=False)\n",
    "\n",
    "# Create a list of lists to store the arranged files.\n",
    "arranged_files = []\n",
    "current_group = []\n",
    "current_prefix = None\n",
    "\n",
    "# Iterate through the sorted files.\n",
    "for file in sorted_files:\n",
    "\n",
    "    prefix = file.split('_s=')[0]                                # Get the prefix.\n",
    "    \n",
    "    if prefix != current_prefix:                                 # If the prefix is different from the previous file, start a new group.\n",
    "        if current_group:\n",
    "            arranged_files.append(current_group)                 # Start a new group with the current file.\n",
    "        current_group = [file]\n",
    "        current_prefix = prefix\n",
    "    else:\n",
    "        current_group.append(file)                               # Add the file to the current group.\n",
    "\n",
    "if current_group:\n",
    "    arranged_files.append(current_group)                         # Add the last group to the arranged_files list.\n",
    "\n",
    "for i, group in enumerate(arranged_files):                       # Print the arranged files.\n",
    "    print()\n",
    "    for file in group:\n",
    "        print(f'{i} --> {file}')"
   ]
  },
  {
   "cell_type": "code",
   "execution_count": null,
   "id": "977641d2-a216-4c42-8505-a0a8dc6f2f0d",
   "metadata": {},
   "outputs": [],
   "source": [
    "arranged_files[0][0].split('_s=')[0]"
   ]
  },
  {
   "cell_type": "code",
   "execution_count": null,
   "id": "ac66173e-e1d8-4456-90e0-1189ee275d44",
   "metadata": {},
   "outputs": [],
   "source": [
    "# csv_files = [input + s for s in arranged_files[0]]\n",
    "# csv_files"
   ]
  },
  {
   "cell_type": "code",
   "execution_count": null,
   "id": "96423803-ae99-40f0-bbc2-acb50a8f4275",
   "metadata": {},
   "outputs": [],
   "source": [
    "dataframes = []\n",
    "last_rows = []\n",
    "\n",
    "# Create the col for the last metric.\n",
    "col_name = 'f1_per_class'\n",
    "\n",
    "# Iterate over the csv files.\n",
    "for file in arranged_files[0]:\n",
    "\n",
    "    # Show file.\n",
    "    print(f\"{'File:'.ljust(8)}\"\n",
    "          f\"{file}\")\n",
    "    \n",
    "    # Get prefix.\n",
    "    prefix = file.split('_s=')[0]\n",
    "    print(f\"{'Prefix:'.ljust(8)}\"\n",
    "          f\"{prefix}\")\n",
    "\n",
    "    # Create the dataframe.\n",
    "    df = pd.read_csv(os.path.join(input, file))\n",
    "\n",
    "    # Convert the last row of the last column to list and then np.array.\n",
    "    column_list_str = df.iloc[-1, -1]\n",
    "    list_floats = [float(x) for x in column_list_str.strip('[]').split(',')]\n",
    "    array_floats = np.array(list_floats, dtype=float)\n",
    "\n",
    "    # Remove the last column (no longer needed).\n",
    "    df = df.drop(col_name, axis=1)\n",
    "\n",
    "    # Save the last metric and dataframe.\n",
    "    last_rows.append(array_floats)\n",
    "    dataframes.append(df)\n",
    "\n",
    "# Merge the dataframes based on columns.\n",
    "df_concat = pd.concat(dataframes, axis=0)\n",
    "df_concat"
   ]
  },
  {
   "cell_type": "code",
   "execution_count": null,
   "id": "c1f2d936-c44a-475e-934c-31418b02a719",
   "metadata": {},
   "outputs": [],
   "source": [
    "# Group by index (epoch) and compute mean by row.\n",
    "by_row_index = df_concat.groupby(df_concat.index)\n",
    "df_means = by_row_index.mean().round(3)\n",
    "df_means['epoch'] = df_means.index\n",
    "df_stds = by_row_index.std().round(3)\n",
    "df_stds['epoch'] = df_stds.index"
   ]
  },
  {
   "cell_type": "code",
   "execution_count": null,
   "id": "da4d1255-6e1d-4514-ad9c-3d77634eb3b0",
   "metadata": {},
   "outputs": [],
   "source": [
    "# Compute the mean and std values per column.\n",
    "avg_final_metric = np.mean(last_rows, axis=0)\n",
    "std_final_metric = np.std(last_rows, axis=0)\n",
    "\n",
    "# Add a single value at the last row of the dfs.\n",
    "df_means[col_name] = ''\n",
    "df_means.at[df_means.index[-1], col_name] = np.round(avg_final_metric, 3)\n",
    "df_stds[col_name] = ''\n",
    "df_stds.at[df_stds.index[-1], col_name] = np.round(std_final_metric, 3)\n",
    "\n",
    "# Fix epoch's column.\n",
    "df_means['epoch'] = df_means['epoch'].astype('int')\n",
    "df_stds['epoch'] = df_means['epoch'].astype('int')"
   ]
  },
  {
   "cell_type": "code",
   "execution_count": null,
   "id": "d7f497a6-f12b-4af8-b08e-1f4e9e2d63dc",
   "metadata": {},
   "outputs": [],
   "source": [
    "df_means"
   ]
  },
  {
   "cell_type": "code",
   "execution_count": null,
   "id": "2be53d95-e507-49e5-a21f-9a17dc355baf",
   "metadata": {},
   "outputs": [],
   "source": [
    "df_stds"
   ]
  },
  {
   "cell_type": "code",
   "execution_count": null,
   "id": "6c34a88d-3f92-4610-9ff5-697302685954",
   "metadata": {},
   "outputs": [],
   "source": [
    "# Create a new DataFrame with mean +- std values\n",
    "df_both = pd.DataFrame()\n",
    "\n",
    "df_both['epoch'] = df_means['epoch']\n",
    "\n",
    "for column in df_means.columns:\n",
    "    if column != 'epoch':\n",
    "        df_both[column] = df_means[column].astype(str) + ' +- ' + df_stds[column].astype(str)\n",
    "\n",
    "df_both = df_both.drop(col_name, axis=1)\n",
    "df_both"
   ]
  },
  {
   "cell_type": "code",
   "execution_count": null,
   "id": "48c34a07-8363-4180-bae5-6720a676480f",
   "metadata": {},
   "outputs": [],
   "source": [
    "# Save the mean and standard deviation dataframes to CSV files.\n",
    "output_dir = os.getcwd()\n",
    "df_means.to_csv(os.path.join(output_dir, f'pp_mean_{prefix}.csv'), index=False)\n",
    "df_stds.to_csv(os.path.join(output_dir, f'pp_std_{prefix}.csv'), index=False)\n",
    "df_both.to_csv(os.path.join(output_dir, f'pp_both_{prefix}.csv'), index=False)"
   ]
  },
  {
   "cell_type": "code",
   "execution_count": null,
   "id": "d754f820-3bf6-4573-9679-df527dd60c08",
   "metadata": {},
   "outputs": [],
   "source": [
    "# if __name__ == \"__main__\":\n",
    "\n",
    "#     # Get arguments.\n",
    "#     args = get_args()\n",
    "\n",
    "#     # Main function.\n",
    "#     sys.exit(main(args))"
   ]
  },
  {
   "cell_type": "code",
   "execution_count": null,
   "id": "95474a7c-2871-4f6b-ba1c-6585382b6450",
   "metadata": {},
   "outputs": [],
   "source": []
  }
 ],
 "metadata": {
  "kernelspec": {
   "display_name": "lulc2-conda",
   "language": "python",
   "name": "lulc2-conda"
  },
  "language_info": {
   "codemirror_mode": {
    "name": "ipython",
    "version": 3
   },
   "file_extension": ".py",
   "mimetype": "text/x-python",
   "name": "python",
   "nbconvert_exporter": "python",
   "pygments_lexer": "ipython3",
   "version": "3.10.10"
  }
 },
 "nbformat": 4,
 "nbformat_minor": 5
}
