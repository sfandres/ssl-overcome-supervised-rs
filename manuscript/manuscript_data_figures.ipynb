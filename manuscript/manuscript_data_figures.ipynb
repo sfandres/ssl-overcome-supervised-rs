{
 "cells": [
  {
   "cell_type": "markdown",
   "metadata": {},
   "source": [
    "# Creation of figures for the IEEE J-STARS paper"
   ]
  },
  {
   "cell_type": "markdown",
   "metadata": {},
   "source": [
    "## Setup"
   ]
  },
  {
   "cell_type": "markdown",
   "metadata": {},
   "source": [
    "### Import the required libraries"
   ]
  },
  {
   "cell_type": "code",
   "execution_count": null,
   "metadata": {},
   "outputs": [],
   "source": [
    "import matplotlib.pyplot as plt\n",
    "import numpy as np"
   ]
  },
  {
   "cell_type": "markdown",
   "metadata": {},
   "source": [
    "### Default settings"
   ]
  },
  {
   "cell_type": "code",
   "execution_count": null,
   "metadata": {},
   "outputs": [],
   "source": [
    "default_size = 14\n",
    "label_size = 16\n",
    "decimals=0"
   ]
  },
  {
   "cell_type": "markdown",
   "metadata": {},
   "source": [
    "### LaTeX style configuration"
   ]
  },
  {
   "cell_type": "code",
   "execution_count": null,
   "metadata": {},
   "outputs": [],
   "source": [
    "plt.rc('text', usetex=True)\n",
    "plt.rc('font', family='serif', size=default_size)"
   ]
  },
  {
   "cell_type": "markdown",
   "metadata": {},
   "source": [
    "## Figures"
   ]
  },
  {
   "cell_type": "markdown",
   "metadata": {},
   "source": [
    "### Training time"
   ]
  },
  {
   "cell_type": "code",
   "execution_count": null,
   "metadata": {},
   "outputs": [],
   "source": [
    "total_pretraining_epochs = 500\n",
    "\n",
    "model_1 = 'SSL Barlow Twins'\n",
    "model_2 = 'Fully-supervised'\n",
    "\n",
    "epoch_duration = {\n",
    "    model_1: [463.38, 480.70, 461.12, 459.01, 457.66, 459.29],\n",
    "    model_2: [10650.33, 9796.01, 11453.84, 10345.85, 9635.58, 9936.32]                                                       # Update.\n",
    "}"
   ]
  },
  {
   "cell_type": "code",
   "execution_count": null,
   "metadata": {},
   "outputs": [],
   "source": [
    "training_time = {k: np.round(np.mean(v)*total_pretraining_epochs/(3600), decimals).astype(int) for k, v in epoch_duration.items()}\n",
    "print(training_time)"
   ]
  },
  {
   "cell_type": "code",
   "execution_count": null,
   "metadata": {},
   "outputs": [],
   "source": [
    "width = 0.5\n",
    "\n",
    "# Create a bar plot comparing both training times.\n",
    "plt.figure(figsize=(6, 2.25))\n",
    "plt.bar(training_time.keys(), training_time.values(), width=width, color={'blue', 'orange'})\n",
    "\n",
    "# Add labels to the plot.\n",
    "plt.ylabel('Training time (h)', labelpad=15, fontsize=label_size)\n",
    "plt.xlabel('Model', labelpad=15, fontsize=label_size)\n",
    "\n",
    "# Add the values on top of the bars.\n",
    "for i, v in enumerate(training_time.values()):\n",
    "    plt.text(i, v, str(v), ha='center', va='bottom', fontsize=default_size)\n",
    "\n",
    "# Configure the y-axis.\n",
    "max_y = max(training_time.values())\n",
    "margin = 0.25\n",
    "plt.ylim(0, max_y + max_y*margin)\n",
    "plt.yticks(np.arange(0, max_y + max_y*margin, 500))\n",
    "\n",
    "# Adjust the plot margins and show.\n",
    "plt.gcf().subplots_adjust(bottom=0.15)\n",
    "plt.gcf().subplots_adjust(left=0.15)\n",
    "\n",
    "# Save the plot.\n",
    "plt.savefig(f'training_time.png', dpi=600, bbox_inches='tight')\n",
    "plt.savefig(f'training_time.pdf', dpi=600, bbox_inches='tight')\n",
    "plt.show()\n"
   ]
  },
  {
   "cell_type": "code",
   "execution_count": null,
   "metadata": {},
   "outputs": [],
   "source": [
    "# width = 0.1\n",
    "\n",
    "# # Create a bar plot comparing both training times.\n",
    "# fig, ax = plt.subplots(figsize=(6, 2.25))\n",
    "\n",
    "# positions = (0.45, 0.6)\n",
    "\n",
    "# ax.bar(positions[0], training_time[model_1], width, color='blue')\n",
    "# ax.bar(positions[1], training_time[model_2], width, color='orange')\n",
    "\n",
    "# # Add the values on top of the bars.\n",
    "# for i, v in enumerate(training_time.values()):\n",
    "#     plt.text(positions[i], v, str(v), ha='center', va='bottom', fontsize=default_size)\n",
    "\n",
    "# # Add labels to the plot.\n",
    "# plt.ylabel('Training time (h)', labelpad=15, fontsize=label_size)\n",
    "# plt.xlabel('Model', labelpad=15, fontsize=label_size)\n",
    "\n",
    "# # Now set the ticks and the corresponding labels\n",
    "# plt.xticks(positions, (model_1, model_2))\n",
    "\n",
    "# # Configure the y-axis.\n",
    "# max_y = max(training_time.values())\n",
    "# margin = 0.25\n",
    "# plt.ylim(0, max_y + max_y*margin)\n",
    "# plt.yticks(np.arange(0, max_y + max_y*margin, 500))\n",
    "\n",
    "# # Adjust the plot margins and show.\n",
    "# plt.gcf().subplots_adjust(bottom=0.15)\n",
    "# plt.gcf().subplots_adjust(left=0.15)\n",
    "\n",
    "# # Save the plot.\n",
    "# plt.savefig(f'training_time_v2.png', dpi=600, bbox_inches='tight')\n",
    "# plt.savefig(f'training_time_v2.pdf', dpi=600, bbox_inches='tight')\n",
    "# plt.show()"
   ]
  },
  {
   "cell_type": "code",
   "execution_count": null,
   "metadata": {},
   "outputs": [],
   "source": []
  }
 ],
 "metadata": {
  "kernelspec": {
   "display_name": "dinov2",
   "language": "python",
   "name": "python3"
  },
  "language_info": {
   "codemirror_mode": {
    "name": "ipython",
    "version": 3
   },
   "file_extension": ".py",
   "mimetype": "text/x-python",
   "name": "python",
   "nbconvert_exporter": "python",
   "pygments_lexer": "ipython3",
   "version": "3.10.14"
  }
 },
 "nbformat": 4,
 "nbformat_minor": 2
}
