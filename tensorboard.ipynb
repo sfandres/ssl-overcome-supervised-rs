{
 "cells": [
  {
   "cell_type": "markdown",
   "id": "9a4067a9-a5eb-4ad6-91d7-49b8fc6e04aa",
   "metadata": {},
   "source": [
    "# Tensorboard"
   ]
  },
  {
   "cell_type": "code",
   "execution_count": null,
   "id": "c1e80aa9-5681-4c94-a49f-cdd3d99daa10",
   "metadata": {},
   "outputs": [],
   "source": [
    "# Load notebook extensions.\n",
    "%load_ext tensorboard"
   ]
  },
  {
   "cell_type": "code",
   "execution_count": null,
   "id": "ae638f38-c9ea-4d80-a2ea-36886c334502",
   "metadata": {},
   "outputs": [],
   "source": [
    "%tensorboard --port 6010 --logdir ./output/finetuning/ray_tune/"
   ]
  }
 ],
 "metadata": {
  "kernelspec": {
   "display_name": "lulc2-conda",
   "language": "python",
   "name": "lulc2-conda"
  },
  "language_info": {
   "codemirror_mode": {
    "name": "ipython",
    "version": 3
   },
   "file_extension": ".py",
   "mimetype": "text/x-python",
   "name": "python",
   "nbconvert_exporter": "python",
   "pygments_lexer": "ipython3",
   "version": "3.10.10"
  }
 },
 "nbformat": 4,
 "nbformat_minor": 5
}
